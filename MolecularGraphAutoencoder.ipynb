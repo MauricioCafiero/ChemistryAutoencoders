{
 "cells": [
  {
   "cell_type": "markdown",
   "id": "37706c9c-1ef4-4051-b17e-e54aa0664180",
   "metadata": {},
   "source": [
    "# Molecular Graph Autoencoder\n",
    "\n",
    "This block\n",
    "\n",
    "- imports all modules/libraries needed\n",
    "- contains a function for a learning rate scheduler (if needed)\n",
    "- reads in SMILES strings and creates a list\n",
    "- featurizes via the SmilesTo Image featurizer from Deepchem (https://github.com/deepchem/deepchem)\n",
    "- Four channel image used for featurization\n",
    "  * Atomic numbers + bonds\n",
    "  * partial charges\n",
    "  * valence\n",
    "  * hybridization"
   ]
  },
  {
   "cell_type": "code",
   "execution_count": 1,
   "id": "979d0bc1-0585-4b38-903d-b64edabe0891",
   "metadata": {},
   "outputs": [
    {
     "name": "stdout",
     "output_type": "stream",
     "text": [
      "WARNING:tensorflow:From C:\\ProgramData\\Anaconda3\\envs\\rdkitenv\\lib\\site-packages\\keras\\src\\losses.py:2976: The name tf.losses.sparse_softmax_cross_entropy is deprecated. Please use tf.compat.v1.losses.sparse_softmax_cross_entropy instead.\n",
      "\n",
      "WARNING:tensorflow:From C:\\ProgramData\\Anaconda3\\envs\\rdkitenv\\lib\\site-packages\\tensorflow\\python\\util\\deprecation.py:588: calling function (from tensorflow.python.eager.polymorphic_function.polymorphic_function) with experimental_relax_shapes is deprecated and will be removed in a future version.\n",
      "Instructions for updating:\n",
      "experimental_relax_shapes is deprecated, use reduce_retracing instead\n"
     ]
    },
    {
     "name": "stderr",
     "output_type": "stream",
     "text": [
      "Skipped loading modules with pytorch-geometric dependency, missing a dependency. No module named 'torch_geometric'\n",
      "Skipped loading modules with pytorch-geometric dependency, missing a dependency. cannot import name 'DMPNN' from 'deepchem.models.torch_models' (C:\\ProgramData\\Anaconda3\\envs\\rdkitenv\\lib\\site-packages\\deepchem\\models\\torch_models\\__init__.py)\n",
      "Skipped loading some Jax models, missing a dependency. No module named 'jax'\n"
     ]
    },
    {
     "name": "stdout",
     "output_type": "stream",
     "text": [
      "Number of features and datapoints:  (6731, 80, 80, 4)\n",
      "featurization done with:  SmilesToImage\n"
     ]
    }
   ],
   "source": [
    "import tensorflow as tf\n",
    "import numpy as np\n",
    "import pandas as pd \n",
    "import deepchem as dc\n",
    "import time\n",
    "from rdkit import Chem\n",
    "from functools import partial\n",
    "import matplotlib.pyplot as plt\n",
    "from rdkit.Chem import AllChem, Draw\n",
    "from sklearn.model_selection import train_test_split\n",
    "\n",
    "def exp_decay(lr0,s):\n",
    "    def exp_decay_fcn(epoch):\n",
    "        return lr0*0.1**(epoch/s)\n",
    "    return exp_decay_fcn\n",
    "\n",
    "#df = pd.read_csv(\"392-azo.csv\")\n",
    "#df = pd.read_csv(\"212-azo.csv\")\n",
    "#df = pd.read_csv(\"604-azo.csv\")\n",
    "#df = pd.read_csv(\"621-azo.csv\")\n",
    "df = pd.read_csv(\"6731-azo.csv\")\n",
    "\n",
    "Xa = [\"\"]*len(df)\n",
    "w = [\"\"]*len(df)\n",
    "i=0\n",
    "for name in df[\"SMILES\"]:\n",
    "    Xa[i]=name\n",
    "    w[i]=1.0\n",
    "    i += 1\n",
    "Xa = list(Xa)\n",
    "w=list(w)\n",
    "\n",
    "#===========================================================================================\n",
    "#featurizer\n",
    "\n",
    "featurizer=dc.feat.SmilesToImage(img_spec=\"engd\")\n",
    "featname=\"SmilesToImage\"\n",
    "\n",
    "f = featurizer.featurize(Xa)\n",
    "print(\"Number of features and datapoints: \",f.shape)\n",
    "\n",
    "#===========================================================================================\n",
    "print(\"featurization done with: \",featname)\n",
    "\n",
    "# set npp for how many points in the dataset, len(df) for whole dataset\n",
    "nnp=len(df)\n",
    "\n",
    "#set y to lambdamax\n",
    "y = df[\"Lmax\"]\n",
    "\n",
    "#set dataset and split\n",
    "\n",
    "dataset = dc.data.NumpyDataset(X=f[:nnp,:,:,:], y=y[:nnp], ids=Xa[:nnp], w=w[:nnp])"
   ]
  },
  {
   "cell_type": "markdown",
   "id": "95b3879f-3a55-4572-92df-ae8be22fb854",
   "metadata": {},
   "source": [
    "## Dense layer Autoencoder\n",
    "\n",
    "- encoder flattens the images, then passes through a larger dense layer, and then the bottleneck\n",
    "- bottleneck produces the \"encodings\"\n",
    "- decoder takes encoder output, expands it back to the original size, and refits it to the original dimensions"
   ]
  },
  {
   "cell_type": "code",
   "execution_count": 18,
   "id": "53776a66-81b7-47de-a716-739b647e456b",
   "metadata": {},
   "outputs": [
    {
     "name": "stdout",
     "output_type": "stream",
     "text": [
      "Epoch 1/25\n",
      "INFO:tensorflow:Assets written to: StIAE\\sTIAE\\assets\n"
     ]
    },
    {
     "name": "stderr",
     "output_type": "stream",
     "text": [
      "INFO:tensorflow:Assets written to: StIAE\\sTIAE\\assets\n"
     ]
    },
    {
     "name": "stdout",
     "output_type": "stream",
     "text": [
      "190/190 - 10s - loss: 0.3081 - mse: 0.3081 - val_loss: 0.3054 - val_mse: 0.3054 - 10s/epoch - 54ms/step\n",
      "Epoch 2/25\n",
      "INFO:tensorflow:Assets written to: StIAE\\sTIAE\\assets\n"
     ]
    },
    {
     "name": "stderr",
     "output_type": "stream",
     "text": [
      "INFO:tensorflow:Assets written to: StIAE\\sTIAE\\assets\n"
     ]
    },
    {
     "name": "stdout",
     "output_type": "stream",
     "text": [
      "190/190 - 5s - loss: 0.3080 - mse: 0.3080 - val_loss: 0.3053 - val_mse: 0.3053 - 5s/epoch - 27ms/step\n",
      "Epoch 3/25\n",
      "INFO:tensorflow:Assets written to: StIAE\\sTIAE\\assets\n"
     ]
    },
    {
     "name": "stderr",
     "output_type": "stream",
     "text": [
      "INFO:tensorflow:Assets written to: StIAE\\sTIAE\\assets\n"
     ]
    },
    {
     "name": "stdout",
     "output_type": "stream",
     "text": [
      "190/190 - 5s - loss: 0.3080 - mse: 0.3080 - val_loss: 0.3052 - val_mse: 0.3052 - 5s/epoch - 26ms/step\n",
      "Epoch 4/25\n",
      "INFO:tensorflow:Assets written to: StIAE\\sTIAE\\assets\n"
     ]
    },
    {
     "name": "stderr",
     "output_type": "stream",
     "text": [
      "INFO:tensorflow:Assets written to: StIAE\\sTIAE\\assets\n"
     ]
    },
    {
     "name": "stdout",
     "output_type": "stream",
     "text": [
      "190/190 - 5s - loss: 0.3079 - mse: 0.3079 - val_loss: 0.3051 - val_mse: 0.3051 - 5s/epoch - 27ms/step\n",
      "Epoch 5/25\n",
      "INFO:tensorflow:Assets written to: StIAE\\sTIAE\\assets\n"
     ]
    },
    {
     "name": "stderr",
     "output_type": "stream",
     "text": [
      "INFO:tensorflow:Assets written to: StIAE\\sTIAE\\assets\n"
     ]
    },
    {
     "name": "stdout",
     "output_type": "stream",
     "text": [
      "190/190 - 5s - loss: 0.3078 - mse: 0.3078 - val_loss: 0.3051 - val_mse: 0.3051 - 5s/epoch - 29ms/step\n",
      "Epoch 6/25\n",
      "INFO:tensorflow:Assets written to: StIAE\\sTIAE\\assets\n"
     ]
    },
    {
     "name": "stderr",
     "output_type": "stream",
     "text": [
      "INFO:tensorflow:Assets written to: StIAE\\sTIAE\\assets\n"
     ]
    },
    {
     "name": "stdout",
     "output_type": "stream",
     "text": [
      "190/190 - 8s - loss: 0.3077 - mse: 0.3077 - val_loss: 0.3050 - val_mse: 0.3050 - 8s/epoch - 40ms/step\n",
      "Epoch 7/25\n",
      "INFO:tensorflow:Assets written to: StIAE\\sTIAE\\assets\n"
     ]
    },
    {
     "name": "stderr",
     "output_type": "stream",
     "text": [
      "INFO:tensorflow:Assets written to: StIAE\\sTIAE\\assets\n"
     ]
    },
    {
     "name": "stdout",
     "output_type": "stream",
     "text": [
      "190/190 - 6s - loss: 0.3076 - mse: 0.3076 - val_loss: 0.3048 - val_mse: 0.3048 - 6s/epoch - 29ms/step\n",
      "Epoch 8/25\n",
      "INFO:tensorflow:Assets written to: StIAE\\sTIAE\\assets\n"
     ]
    },
    {
     "name": "stderr",
     "output_type": "stream",
     "text": [
      "INFO:tensorflow:Assets written to: StIAE\\sTIAE\\assets\n"
     ]
    },
    {
     "name": "stdout",
     "output_type": "stream",
     "text": [
      "190/190 - 5s - loss: 0.3074 - mse: 0.3074 - val_loss: 0.3046 - val_mse: 0.3046 - 5s/epoch - 28ms/step\n",
      "Epoch 9/25\n",
      "INFO:tensorflow:Assets written to: StIAE\\sTIAE\\assets\n"
     ]
    },
    {
     "name": "stderr",
     "output_type": "stream",
     "text": [
      "INFO:tensorflow:Assets written to: StIAE\\sTIAE\\assets\n"
     ]
    },
    {
     "name": "stdout",
     "output_type": "stream",
     "text": [
      "190/190 - 10s - loss: 0.3070 - mse: 0.3070 - val_loss: 0.3041 - val_mse: 0.3041 - 10s/epoch - 50ms/step\n",
      "Epoch 10/25\n",
      "INFO:tensorflow:Assets written to: StIAE\\sTIAE\\assets\n"
     ]
    },
    {
     "name": "stderr",
     "output_type": "stream",
     "text": [
      "INFO:tensorflow:Assets written to: StIAE\\sTIAE\\assets\n"
     ]
    },
    {
     "name": "stdout",
     "output_type": "stream",
     "text": [
      "190/190 - 5s - loss: 0.3063 - mse: 0.3063 - val_loss: 0.3029 - val_mse: 0.3029 - 5s/epoch - 25ms/step\n",
      "Epoch 11/25\n",
      "INFO:tensorflow:Assets written to: StIAE\\sTIAE\\assets\n"
     ]
    },
    {
     "name": "stderr",
     "output_type": "stream",
     "text": [
      "INFO:tensorflow:Assets written to: StIAE\\sTIAE\\assets\n"
     ]
    },
    {
     "name": "stdout",
     "output_type": "stream",
     "text": [
      "190/190 - 5s - loss: 0.3040 - mse: 0.3040 - val_loss: 0.2987 - val_mse: 0.2987 - 5s/epoch - 25ms/step\n",
      "Epoch 12/25\n",
      "INFO:tensorflow:Assets written to: StIAE\\sTIAE\\assets\n"
     ]
    },
    {
     "name": "stderr",
     "output_type": "stream",
     "text": [
      "INFO:tensorflow:Assets written to: StIAE\\sTIAE\\assets\n"
     ]
    },
    {
     "name": "stdout",
     "output_type": "stream",
     "text": [
      "190/190 - 4s - loss: 0.2908 - mse: 0.2908 - val_loss: 0.2633 - val_mse: 0.2633 - 4s/epoch - 24ms/step\n",
      "Epoch 13/25\n",
      "INFO:tensorflow:Assets written to: StIAE\\sTIAE\\assets\n"
     ]
    },
    {
     "name": "stderr",
     "output_type": "stream",
     "text": [
      "INFO:tensorflow:Assets written to: StIAE\\sTIAE\\assets\n"
     ]
    },
    {
     "name": "stdout",
     "output_type": "stream",
     "text": [
      "190/190 - 5s - loss: 0.1630 - mse: 0.1630 - val_loss: 0.0705 - val_mse: 0.0705 - 5s/epoch - 24ms/step\n",
      "Epoch 14/25\n",
      "INFO:tensorflow:Assets written to: StIAE\\sTIAE\\assets\n"
     ]
    },
    {
     "name": "stderr",
     "output_type": "stream",
     "text": [
      "INFO:tensorflow:Assets written to: StIAE\\sTIAE\\assets\n"
     ]
    },
    {
     "name": "stdout",
     "output_type": "stream",
     "text": [
      "190/190 - 5s - loss: 0.0711 - mse: 0.0711 - val_loss: 0.0650 - val_mse: 0.0650 - 5s/epoch - 24ms/step\n",
      "Epoch 15/25\n",
      "INFO:tensorflow:Assets written to: StIAE\\sTIAE\\assets\n"
     ]
    },
    {
     "name": "stderr",
     "output_type": "stream",
     "text": [
      "INFO:tensorflow:Assets written to: StIAE\\sTIAE\\assets\n"
     ]
    },
    {
     "name": "stdout",
     "output_type": "stream",
     "text": [
      "190/190 - 5s - loss: 0.0694 - mse: 0.0694 - val_loss: 0.0646 - val_mse: 0.0646 - 5s/epoch - 24ms/step\n",
      "Epoch 16/25\n",
      "INFO:tensorflow:Assets written to: StIAE\\sTIAE\\assets\n"
     ]
    },
    {
     "name": "stderr",
     "output_type": "stream",
     "text": [
      "INFO:tensorflow:Assets written to: StIAE\\sTIAE\\assets\n"
     ]
    },
    {
     "name": "stdout",
     "output_type": "stream",
     "text": [
      "190/190 - 4s - loss: 0.0691 - mse: 0.0691 - val_loss: 0.0644 - val_mse: 0.0644 - 4s/epoch - 24ms/step\n",
      "Epoch 17/25\n",
      "INFO:tensorflow:Assets written to: StIAE\\sTIAE\\assets\n"
     ]
    },
    {
     "name": "stderr",
     "output_type": "stream",
     "text": [
      "INFO:tensorflow:Assets written to: StIAE\\sTIAE\\assets\n"
     ]
    },
    {
     "name": "stdout",
     "output_type": "stream",
     "text": [
      "190/190 - 5s - loss: 0.0689 - mse: 0.0689 - val_loss: 0.0644 - val_mse: 0.0644 - 5s/epoch - 24ms/step\n",
      "Epoch 18/25\n",
      "INFO:tensorflow:Assets written to: StIAE\\sTIAE\\assets\n"
     ]
    },
    {
     "name": "stderr",
     "output_type": "stream",
     "text": [
      "INFO:tensorflow:Assets written to: StIAE\\sTIAE\\assets\n"
     ]
    },
    {
     "name": "stdout",
     "output_type": "stream",
     "text": [
      "190/190 - 5s - loss: 0.0688 - mse: 0.0688 - val_loss: 0.0643 - val_mse: 0.0643 - 5s/epoch - 25ms/step\n",
      "Epoch 19/25\n",
      "INFO:tensorflow:Assets written to: StIAE\\sTIAE\\assets\n"
     ]
    },
    {
     "name": "stderr",
     "output_type": "stream",
     "text": [
      "INFO:tensorflow:Assets written to: StIAE\\sTIAE\\assets\n"
     ]
    },
    {
     "name": "stdout",
     "output_type": "stream",
     "text": [
      "190/190 - 6s - loss: 0.0688 - mse: 0.0688 - val_loss: 0.0643 - val_mse: 0.0643 - 6s/epoch - 34ms/step\n",
      "Epoch 20/25\n",
      "190/190 - 4s - loss: 0.0687 - mse: 0.0687 - val_loss: 0.0643 - val_mse: 0.0643 - 4s/epoch - 19ms/step\n",
      "Epoch 21/25\n",
      "INFO:tensorflow:Assets written to: StIAE\\sTIAE\\assets\n"
     ]
    },
    {
     "name": "stderr",
     "output_type": "stream",
     "text": [
      "INFO:tensorflow:Assets written to: StIAE\\sTIAE\\assets\n"
     ]
    },
    {
     "name": "stdout",
     "output_type": "stream",
     "text": [
      "190/190 - 4s - loss: 0.0687 - mse: 0.0687 - val_loss: 0.0643 - val_mse: 0.0643 - 4s/epoch - 23ms/step\n",
      "Epoch 22/25\n",
      "190/190 - 3s - loss: 0.0687 - mse: 0.0687 - val_loss: 0.0643 - val_mse: 0.0643 - 3s/epoch - 18ms/step\n",
      "Epoch 23/25\n",
      "190/190 - 3s - loss: 0.0686 - mse: 0.0686 - val_loss: 0.0643 - val_mse: 0.0643 - 3s/epoch - 17ms/step\n",
      "Epoch 24/25\n",
      "INFO:tensorflow:Assets written to: StIAE\\sTIAE\\assets\n"
     ]
    },
    {
     "name": "stderr",
     "output_type": "stream",
     "text": [
      "INFO:tensorflow:Assets written to: StIAE\\sTIAE\\assets\n"
     ]
    },
    {
     "name": "stdout",
     "output_type": "stream",
     "text": [
      "190/190 - 5s - loss: 0.0686 - mse: 0.0686 - val_loss: 0.0642 - val_mse: 0.0642 - 5s/epoch - 24ms/step\n",
      "Epoch 25/25\n",
      "190/190 - 3s - loss: 0.0686 - mse: 0.0686 - val_loss: 0.0642 - val_mse: 0.0642 - 3s/epoch - 17ms/step\n"
     ]
    }
   ],
   "source": [
    "act= \"relu\"\n",
    "alpha = 0.0\n",
    "alphae = 0.0\n",
    "\n",
    "encoder = tf.keras.Sequential([\n",
    "    tf.keras.layers.Input(shape=[80,80,4]),\n",
    "    tf.keras.layers.Flatten(),\n",
    "    tf.keras.layers.Dense(128,activation=act,kernel_regularizer=tf.keras.regularizers.l2(alphae)),\n",
    "    tf.keras.layers.Dense(64,activation=act,kernel_regularizer=tf.keras.regularizers.l2(alphae)),\n",
    "    tf.keras.layers.Dense(32,activation=act,kernel_regularizer=tf.keras.regularizers.l2(alphae))])\n",
    "\n",
    "decoder = tf.keras.Sequential([\n",
    "    tf.keras.layers.Dense(64,activation=act,kernel_regularizer=tf.keras.regularizers.l2(alpha)),\n",
    "    tf.keras.layers.Dense(128,activation=act,kernel_regularizer=tf.keras.regularizers.l2(alpha)),\n",
    "    tf.keras.layers.Dense(25600,activation=\"sigmoid\"),\n",
    "    tf.keras.layers.Reshape([80,80,4])])\n",
    "\n",
    "autoencoder = tf.keras.Sequential([encoder,decoder])\n",
    "\n",
    "optimizer = tf.keras.optimizers.SGD(learning_rate=0.01,momentum=0.9)\n",
    "autoencoder.compile(loss=\"mean_squared_error\",optimizer=optimizer,metrics=[\"mse\"])\n",
    "checkpoint_cb = tf.keras.callbacks.ModelCheckpoint(r\"StIAE/sTIAE\",monitor=\"val_mse\",save_best_only=True)\n",
    "\n",
    "history = autoencoder.fit(dataset.X,dataset.X,epochs=25,verbose=2,validation_split=0.1,callbacks=[checkpoint_cb])"
   ]
  },
  {
   "cell_type": "markdown",
   "id": "e0cb0399-fc16-4ef8-ad39-f5cac9ffc54e",
   "metadata": {},
   "source": [
    "## Save a model"
   ]
  },
  {
   "cell_type": "code",
   "execution_count": 36,
   "id": "538ad318-a445-47ec-8b36-9705dbc2e498",
   "metadata": {},
   "outputs": [
    {
     "name": "stdout",
     "output_type": "stream",
     "text": [
      "INFO:tensorflow:Assets written to: 6731_128_64_32_MSE1200\\assets\n"
     ]
    },
    {
     "name": "stderr",
     "output_type": "stream",
     "text": [
      "INFO:tensorflow:Assets written to: 6731_128_64_32_MSE1200\\assets\n"
     ]
    },
    {
     "name": "stdout",
     "output_type": "stream",
     "text": [
      "model saved.\n"
     ]
    }
   ],
   "source": [
    "autoencoder.save(\"6731_128_64_32_MSE1200\",save_format=\"tf\")\n",
    "print(\"model saved.\")"
   ]
  },
  {
   "cell_type": "markdown",
   "id": "82ddd2ca-703a-499b-a0ce-4821765893b4",
   "metadata": {},
   "source": [
    "## Load a model and restart training"
   ]
  },
  {
   "cell_type": "code",
   "execution_count": 34,
   "id": "41b0bcb3-c525-479d-894c-4a1c25e64c1f",
   "metadata": {},
   "outputs": [
    {
     "name": "stdout",
     "output_type": "stream",
     "text": [
      "Epoch 801/1200\n",
      "INFO:tensorflow:Assets written to: StIAE\\sTIAE\\assets\n"
     ]
    },
    {
     "name": "stderr",
     "output_type": "stream",
     "text": [
      "INFO:tensorflow:Assets written to: StIAE\\sTIAE\\assets\n"
     ]
    },
    {
     "name": "stdout",
     "output_type": "stream",
     "text": [
      "190/190 - 14s - loss: 0.0573 - mse: 0.0573 - val_loss: 0.0589 - val_mse: 0.0589 - 14s/epoch - 74ms/step\n",
      "Epoch 802/1200\n",
      "190/190 - 3s - loss: 0.0573 - mse: 0.0573 - val_loss: 0.0589 - val_mse: 0.0589 - 3s/epoch - 18ms/step\n",
      "Epoch 803/1200\n",
      "INFO:tensorflow:Assets written to: StIAE\\sTIAE\\assets\n"
     ]
    },
    {
     "name": "stderr",
     "output_type": "stream",
     "text": [
      "INFO:tensorflow:Assets written to: StIAE\\sTIAE\\assets\n"
     ]
    },
    {
     "name": "stdout",
     "output_type": "stream",
     "text": [
      "190/190 - 6s - loss: 0.0573 - mse: 0.0573 - val_loss: 0.0589 - val_mse: 0.0589 - 6s/epoch - 30ms/step\n",
      "Epoch 804/1200\n",
      "190/190 - 3s - loss: 0.0572 - mse: 0.0572 - val_loss: 0.0589 - val_mse: 0.0589 - 3s/epoch - 17ms/step\n",
      "Epoch 805/1200\n",
      "190/190 - 3s - loss: 0.0572 - mse: 0.0572 - val_loss: 0.0589 - val_mse: 0.0589 - 3s/epoch - 17ms/step\n",
      "Epoch 806/1200\n",
      "190/190 - 3s - loss: 0.0572 - mse: 0.0572 - val_loss: 0.0589 - val_mse: 0.0589 - 3s/epoch - 18ms/step\n",
      "Epoch 807/1200\n",
      "190/190 - 3s - loss: 0.0572 - mse: 0.0572 - val_loss: 0.0589 - val_mse: 0.0589 - 3s/epoch - 17ms/step\n",
      "Epoch 808/1200\n",
      "190/190 - 3s - loss: 0.0572 - mse: 0.0572 - val_loss: 0.0589 - val_mse: 0.0589 - 3s/epoch - 17ms/step\n",
      "Epoch 809/1200\n",
      "190/190 - 3s - loss: 0.0572 - mse: 0.0572 - val_loss: 0.0589 - val_mse: 0.0589 - 3s/epoch - 17ms/step\n",
      "Epoch 810/1200\n",
      "190/190 - 3s - loss: 0.0572 - mse: 0.0572 - val_loss: 0.0590 - val_mse: 0.0590 - 3s/epoch - 18ms/step\n",
      "Epoch 811/1200\n",
      "190/190 - 3s - loss: 0.0572 - mse: 0.0572 - val_loss: 0.0590 - val_mse: 0.0590 - 3s/epoch - 17ms/step\n",
      "Epoch 812/1200\n",
      "190/190 - 3s - loss: 0.0572 - mse: 0.0572 - val_loss: 0.0589 - val_mse: 0.0589 - 3s/epoch - 17ms/step\n",
      "Epoch 813/1200\n",
      "190/190 - 3s - loss: 0.0572 - mse: 0.0572 - val_loss: 0.0589 - val_mse: 0.0589 - 3s/epoch - 17ms/step\n",
      "Epoch 814/1200\n",
      "190/190 - 4s - loss: 0.0572 - mse: 0.0572 - val_loss: 0.0590 - val_mse: 0.0590 - 4s/epoch - 19ms/step\n",
      "Epoch 815/1200\n",
      "190/190 - 6s - loss: 0.0572 - mse: 0.0572 - val_loss: 0.0590 - val_mse: 0.0590 - 6s/epoch - 31ms/step\n",
      "Epoch 816/1200\n",
      "190/190 - 4s - loss: 0.0572 - mse: 0.0572 - val_loss: 0.0590 - val_mse: 0.0590 - 4s/epoch - 23ms/step\n",
      "Epoch 817/1200\n",
      "190/190 - 4s - loss: 0.0572 - mse: 0.0572 - val_loss: 0.0590 - val_mse: 0.0590 - 4s/epoch - 20ms/step\n",
      "Epoch 818/1200\n",
      "190/190 - 6s - loss: 0.0572 - mse: 0.0572 - val_loss: 0.0589 - val_mse: 0.0589 - 6s/epoch - 33ms/step\n",
      "Epoch 819/1200\n",
      "190/190 - 6s - loss: 0.0572 - mse: 0.0572 - val_loss: 0.0590 - val_mse: 0.0590 - 6s/epoch - 30ms/step\n",
      "Epoch 820/1200\n",
      "190/190 - 4s - loss: 0.0572 - mse: 0.0572 - val_loss: 0.0590 - val_mse: 0.0590 - 4s/epoch - 22ms/step\n",
      "Epoch 821/1200\n",
      "190/190 - 4s - loss: 0.0572 - mse: 0.0572 - val_loss: 0.0590 - val_mse: 0.0590 - 4s/epoch - 20ms/step\n",
      "Epoch 822/1200\n",
      "190/190 - 4s - loss: 0.0572 - mse: 0.0572 - val_loss: 0.0590 - val_mse: 0.0590 - 4s/epoch - 22ms/step\n",
      "Epoch 823/1200\n",
      "190/190 - 4s - loss: 0.0572 - mse: 0.0572 - val_loss: 0.0590 - val_mse: 0.0590 - 4s/epoch - 21ms/step\n",
      "Epoch 824/1200\n",
      "190/190 - 4s - loss: 0.0571 - mse: 0.0571 - val_loss: 0.0590 - val_mse: 0.0590 - 4s/epoch - 23ms/step\n",
      "Epoch 825/1200\n",
      "190/190 - 4s - loss: 0.0571 - mse: 0.0571 - val_loss: 0.0590 - val_mse: 0.0590 - 4s/epoch - 23ms/step\n",
      "Epoch 826/1200\n",
      "190/190 - 4s - loss: 0.0571 - mse: 0.0571 - val_loss: 0.0590 - val_mse: 0.0590 - 4s/epoch - 22ms/step\n",
      "Epoch 827/1200\n",
      "190/190 - 4s - loss: 0.0571 - mse: 0.0571 - val_loss: 0.0590 - val_mse: 0.0590 - 4s/epoch - 20ms/step\n",
      "Epoch 828/1200\n",
      "190/190 - 4s - loss: 0.0571 - mse: 0.0571 - val_loss: 0.0590 - val_mse: 0.0590 - 4s/epoch - 21ms/step\n",
      "Epoch 829/1200\n",
      "190/190 - 5s - loss: 0.0571 - mse: 0.0571 - val_loss: 0.0590 - val_mse: 0.0590 - 5s/epoch - 26ms/step\n",
      "Epoch 830/1200\n",
      "190/190 - 4s - loss: 0.0571 - mse: 0.0571 - val_loss: 0.0590 - val_mse: 0.0590 - 4s/epoch - 21ms/step\n",
      "Epoch 831/1200\n",
      "190/190 - 4s - loss: 0.0571 - mse: 0.0571 - val_loss: 0.0590 - val_mse: 0.0590 - 4s/epoch - 19ms/step\n",
      "Epoch 832/1200\n",
      "190/190 - 4s - loss: 0.0571 - mse: 0.0571 - val_loss: 0.0590 - val_mse: 0.0590 - 4s/epoch - 20ms/step\n",
      "Epoch 833/1200\n",
      "190/190 - 5s - loss: 0.0571 - mse: 0.0571 - val_loss: 0.0590 - val_mse: 0.0590 - 5s/epoch - 24ms/step\n",
      "Epoch 834/1200\n",
      "190/190 - 4s - loss: 0.0571 - mse: 0.0571 - val_loss: 0.0590 - val_mse: 0.0590 - 4s/epoch - 20ms/step\n",
      "Epoch 835/1200\n",
      "190/190 - 4s - loss: 0.0571 - mse: 0.0571 - val_loss: 0.0590 - val_mse: 0.0590 - 4s/epoch - 22ms/step\n",
      "Epoch 836/1200\n",
      "190/190 - 7s - loss: 0.0571 - mse: 0.0571 - val_loss: 0.0590 - val_mse: 0.0590 - 7s/epoch - 38ms/step\n",
      "Epoch 837/1200\n",
      "190/190 - 5s - loss: 0.0571 - mse: 0.0571 - val_loss: 0.0590 - val_mse: 0.0590 - 5s/epoch - 29ms/step\n",
      "Epoch 838/1200\n",
      "190/190 - 4s - loss: 0.0571 - mse: 0.0571 - val_loss: 0.0590 - val_mse: 0.0590 - 4s/epoch - 21ms/step\n",
      "Epoch 839/1200\n",
      "190/190 - 4s - loss: 0.0571 - mse: 0.0571 - val_loss: 0.0590 - val_mse: 0.0590 - 4s/epoch - 22ms/step\n",
      "Epoch 840/1200\n",
      "190/190 - 7s - loss: 0.0571 - mse: 0.0571 - val_loss: 0.0590 - val_mse: 0.0590 - 7s/epoch - 38ms/step\n",
      "Epoch 841/1200\n",
      "190/190 - 7s - loss: 0.0571 - mse: 0.0571 - val_loss: 0.0590 - val_mse: 0.0590 - 7s/epoch - 39ms/step\n",
      "Epoch 842/1200\n",
      "190/190 - 5s - loss: 0.0571 - mse: 0.0571 - val_loss: 0.0590 - val_mse: 0.0590 - 5s/epoch - 27ms/step\n",
      "Epoch 843/1200\n",
      "190/190 - 4s - loss: 0.0571 - mse: 0.0571 - val_loss: 0.0590 - val_mse: 0.0590 - 4s/epoch - 22ms/step\n",
      "Epoch 844/1200\n",
      "190/190 - 3s - loss: 0.0571 - mse: 0.0571 - val_loss: 0.0590 - val_mse: 0.0590 - 3s/epoch - 18ms/step\n",
      "Epoch 845/1200\n",
      "190/190 - 4s - loss: 0.0571 - mse: 0.0571 - val_loss: 0.0590 - val_mse: 0.0590 - 4s/epoch - 21ms/step\n",
      "Epoch 846/1200\n",
      "190/190 - 4s - loss: 0.0570 - mse: 0.0570 - val_loss: 0.0590 - val_mse: 0.0590 - 4s/epoch - 21ms/step\n",
      "Epoch 847/1200\n",
      "190/190 - 4s - loss: 0.0570 - mse: 0.0570 - val_loss: 0.0590 - val_mse: 0.0590 - 4s/epoch - 22ms/step\n",
      "Epoch 848/1200\n",
      "190/190 - 4s - loss: 0.0570 - mse: 0.0570 - val_loss: 0.0590 - val_mse: 0.0590 - 4s/epoch - 21ms/step\n",
      "Epoch 849/1200\n",
      "190/190 - 4s - loss: 0.0570 - mse: 0.0570 - val_loss: 0.0590 - val_mse: 0.0590 - 4s/epoch - 19ms/step\n",
      "Epoch 850/1200\n",
      "190/190 - 5s - loss: 0.0570 - mse: 0.0570 - val_loss: 0.0590 - val_mse: 0.0590 - 5s/epoch - 25ms/step\n",
      "Epoch 851/1200\n",
      "190/190 - 4s - loss: 0.0570 - mse: 0.0570 - val_loss: 0.0590 - val_mse: 0.0590 - 4s/epoch - 23ms/step\n",
      "Epoch 852/1200\n",
      "190/190 - 4s - loss: 0.0570 - mse: 0.0570 - val_loss: 0.0590 - val_mse: 0.0590 - 4s/epoch - 20ms/step\n",
      "Epoch 853/1200\n",
      "190/190 - 5s - loss: 0.0570 - mse: 0.0570 - val_loss: 0.0590 - val_mse: 0.0590 - 5s/epoch - 25ms/step\n",
      "Epoch 854/1200\n",
      "190/190 - 7s - loss: 0.0570 - mse: 0.0570 - val_loss: 0.0590 - val_mse: 0.0590 - 7s/epoch - 36ms/step\n",
      "Epoch 855/1200\n",
      "190/190 - 5s - loss: 0.0570 - mse: 0.0570 - val_loss: 0.0590 - val_mse: 0.0590 - 5s/epoch - 24ms/step\n",
      "Epoch 856/1200\n",
      "190/190 - 4s - loss: 0.0570 - mse: 0.0570 - val_loss: 0.0590 - val_mse: 0.0590 - 4s/epoch - 21ms/step\n",
      "Epoch 857/1200\n",
      "190/190 - 5s - loss: 0.0570 - mse: 0.0570 - val_loss: 0.0590 - val_mse: 0.0590 - 5s/epoch - 25ms/step\n",
      "Epoch 858/1200\n",
      "190/190 - 7s - loss: 0.0570 - mse: 0.0570 - val_loss: 0.0590 - val_mse: 0.0590 - 7s/epoch - 38ms/step\n",
      "Epoch 859/1200\n",
      "190/190 - 4s - loss: 0.0570 - mse: 0.0570 - val_loss: 0.0590 - val_mse: 0.0590 - 4s/epoch - 21ms/step\n",
      "Epoch 860/1200\n",
      "190/190 - 5s - loss: 0.0570 - mse: 0.0570 - val_loss: 0.0590 - val_mse: 0.0590 - 5s/epoch - 25ms/step\n",
      "Epoch 861/1200\n",
      "190/190 - 5s - loss: 0.0570 - mse: 0.0570 - val_loss: 0.0590 - val_mse: 0.0590 - 5s/epoch - 25ms/step\n",
      "Epoch 862/1200\n",
      "190/190 - 4s - loss: 0.0570 - mse: 0.0570 - val_loss: 0.0590 - val_mse: 0.0590 - 4s/epoch - 19ms/step\n",
      "Epoch 863/1200\n",
      "190/190 - 4s - loss: 0.0570 - mse: 0.0570 - val_loss: 0.0590 - val_mse: 0.0590 - 4s/epoch - 20ms/step\n",
      "Epoch 864/1200\n",
      "190/190 - 4s - loss: 0.0570 - mse: 0.0570 - val_loss: 0.0590 - val_mse: 0.0590 - 4s/epoch - 21ms/step\n",
      "Epoch 865/1200\n",
      "190/190 - 4s - loss: 0.0570 - mse: 0.0570 - val_loss: 0.0590 - val_mse: 0.0590 - 4s/epoch - 23ms/step\n",
      "Epoch 866/1200\n",
      "190/190 - 4s - loss: 0.0570 - mse: 0.0570 - val_loss: 0.0590 - val_mse: 0.0590 - 4s/epoch - 20ms/step\n",
      "Epoch 867/1200\n",
      "190/190 - 4s - loss: 0.0570 - mse: 0.0570 - val_loss: 0.0590 - val_mse: 0.0590 - 4s/epoch - 21ms/step\n",
      "Epoch 868/1200\n",
      "190/190 - 4s - loss: 0.0570 - mse: 0.0570 - val_loss: 0.0590 - val_mse: 0.0590 - 4s/epoch - 22ms/step\n",
      "Epoch 869/1200\n",
      "190/190 - 5s - loss: 0.0569 - mse: 0.0569 - val_loss: 0.0590 - val_mse: 0.0590 - 5s/epoch - 28ms/step\n",
      "Epoch 870/1200\n",
      "190/190 - 5s - loss: 0.0569 - mse: 0.0569 - val_loss: 0.0590 - val_mse: 0.0590 - 5s/epoch - 25ms/step\n",
      "Epoch 871/1200\n",
      "190/190 - 4s - loss: 0.0569 - mse: 0.0569 - val_loss: 0.0590 - val_mse: 0.0590 - 4s/epoch - 22ms/step\n",
      "Epoch 872/1200\n",
      "190/190 - 4s - loss: 0.0569 - mse: 0.0569 - val_loss: 0.0590 - val_mse: 0.0590 - 4s/epoch - 21ms/step\n",
      "Epoch 873/1200\n",
      "190/190 - 4s - loss: 0.0569 - mse: 0.0569 - val_loss: 0.0590 - val_mse: 0.0590 - 4s/epoch - 22ms/step\n",
      "Epoch 874/1200\n",
      "190/190 - 4s - loss: 0.0569 - mse: 0.0569 - val_loss: 0.0590 - val_mse: 0.0590 - 4s/epoch - 20ms/step\n",
      "Epoch 875/1200\n",
      "190/190 - 6s - loss: 0.0569 - mse: 0.0569 - val_loss: 0.0590 - val_mse: 0.0590 - 6s/epoch - 32ms/step\n",
      "Epoch 876/1200\n",
      "190/190 - 6s - loss: 0.0569 - mse: 0.0569 - val_loss: 0.0590 - val_mse: 0.0590 - 6s/epoch - 29ms/step\n",
      "Epoch 877/1200\n",
      "190/190 - 8s - loss: 0.0569 - mse: 0.0569 - val_loss: 0.0590 - val_mse: 0.0590 - 8s/epoch - 41ms/step\n",
      "Epoch 878/1200\n",
      "190/190 - 6s - loss: 0.0569 - mse: 0.0569 - val_loss: 0.0590 - val_mse: 0.0590 - 6s/epoch - 30ms/step\n",
      "Epoch 879/1200\n",
      "190/190 - 6s - loss: 0.0569 - mse: 0.0569 - val_loss: 0.0590 - val_mse: 0.0590 - 6s/epoch - 30ms/step\n",
      "Epoch 880/1200\n",
      "190/190 - 4s - loss: 0.0569 - mse: 0.0569 - val_loss: 0.0590 - val_mse: 0.0590 - 4s/epoch - 23ms/step\n",
      "Epoch 881/1200\n",
      "190/190 - 5s - loss: 0.0569 - mse: 0.0569 - val_loss: 0.0590 - val_mse: 0.0590 - 5s/epoch - 25ms/step\n",
      "Epoch 882/1200\n",
      "190/190 - 4s - loss: 0.0569 - mse: 0.0569 - val_loss: 0.0590 - val_mse: 0.0590 - 4s/epoch - 22ms/step\n",
      "Epoch 883/1200\n",
      "190/190 - 4s - loss: 0.0569 - mse: 0.0569 - val_loss: 0.0590 - val_mse: 0.0590 - 4s/epoch - 21ms/step\n",
      "Epoch 884/1200\n",
      "190/190 - 7s - loss: 0.0569 - mse: 0.0569 - val_loss: 0.0590 - val_mse: 0.0590 - 7s/epoch - 36ms/step\n",
      "Epoch 885/1200\n",
      "190/190 - 4s - loss: 0.0569 - mse: 0.0569 - val_loss: 0.0591 - val_mse: 0.0591 - 4s/epoch - 22ms/step\n",
      "Epoch 886/1200\n",
      "190/190 - 4s - loss: 0.0569 - mse: 0.0569 - val_loss: 0.0590 - val_mse: 0.0590 - 4s/epoch - 22ms/step\n",
      "Epoch 887/1200\n",
      "190/190 - 4s - loss: 0.0569 - mse: 0.0569 - val_loss: 0.0590 - val_mse: 0.0590 - 4s/epoch - 22ms/step\n",
      "Epoch 888/1200\n",
      "190/190 - 4s - loss: 0.0569 - mse: 0.0569 - val_loss: 0.0590 - val_mse: 0.0590 - 4s/epoch - 23ms/step\n",
      "Epoch 889/1200\n",
      "190/190 - 6s - loss: 0.0569 - mse: 0.0569 - val_loss: 0.0590 - val_mse: 0.0590 - 6s/epoch - 31ms/step\n",
      "Epoch 890/1200\n",
      "190/190 - 5s - loss: 0.0569 - mse: 0.0569 - val_loss: 0.0590 - val_mse: 0.0590 - 5s/epoch - 25ms/step\n",
      "Epoch 891/1200\n",
      "190/190 - 4s - loss: 0.0569 - mse: 0.0569 - val_loss: 0.0591 - val_mse: 0.0591 - 4s/epoch - 23ms/step\n",
      "Epoch 892/1200\n",
      "190/190 - 5s - loss: 0.0569 - mse: 0.0569 - val_loss: 0.0590 - val_mse: 0.0590 - 5s/epoch - 25ms/step\n",
      "Epoch 893/1200\n",
      "190/190 - 5s - loss: 0.0569 - mse: 0.0569 - val_loss: 0.0591 - val_mse: 0.0591 - 5s/epoch - 29ms/step\n",
      "Epoch 894/1200\n",
      "190/190 - 4s - loss: 0.0568 - mse: 0.0568 - val_loss: 0.0591 - val_mse: 0.0591 - 4s/epoch - 22ms/step\n",
      "Epoch 895/1200\n",
      "190/190 - 5s - loss: 0.0568 - mse: 0.0568 - val_loss: 0.0590 - val_mse: 0.0590 - 5s/epoch - 27ms/step\n",
      "Epoch 896/1200\n",
      "190/190 - 4s - loss: 0.0568 - mse: 0.0568 - val_loss: 0.0591 - val_mse: 0.0591 - 4s/epoch - 21ms/step\n",
      "Epoch 897/1200\n",
      "190/190 - 4s - loss: 0.0568 - mse: 0.0568 - val_loss: 0.0591 - val_mse: 0.0591 - 4s/epoch - 23ms/step\n",
      "Epoch 898/1200\n",
      "190/190 - 5s - loss: 0.0568 - mse: 0.0568 - val_loss: 0.0591 - val_mse: 0.0591 - 5s/epoch - 24ms/step\n",
      "Epoch 899/1200\n",
      "190/190 - 4s - loss: 0.0568 - mse: 0.0568 - val_loss: 0.0591 - val_mse: 0.0591 - 4s/epoch - 22ms/step\n",
      "Epoch 900/1200\n",
      "190/190 - 4s - loss: 0.0568 - mse: 0.0568 - val_loss: 0.0591 - val_mse: 0.0591 - 4s/epoch - 22ms/step\n",
      "Epoch 901/1200\n",
      "190/190 - 4s - loss: 0.0568 - mse: 0.0568 - val_loss: 0.0591 - val_mse: 0.0591 - 4s/epoch - 21ms/step\n",
      "Epoch 902/1200\n",
      "190/190 - 4s - loss: 0.0568 - mse: 0.0568 - val_loss: 0.0591 - val_mse: 0.0591 - 4s/epoch - 21ms/step\n",
      "Epoch 903/1200\n",
      "190/190 - 4s - loss: 0.0568 - mse: 0.0568 - val_loss: 0.0591 - val_mse: 0.0591 - 4s/epoch - 21ms/step\n",
      "Epoch 904/1200\n",
      "190/190 - 4s - loss: 0.0568 - mse: 0.0568 - val_loss: 0.0591 - val_mse: 0.0591 - 4s/epoch - 21ms/step\n",
      "Epoch 905/1200\n",
      "190/190 - 4s - loss: 0.0568 - mse: 0.0568 - val_loss: 0.0591 - val_mse: 0.0591 - 4s/epoch - 22ms/step\n",
      "Epoch 906/1200\n",
      "190/190 - 4s - loss: 0.0568 - mse: 0.0568 - val_loss: 0.0591 - val_mse: 0.0591 - 4s/epoch - 22ms/step\n",
      "Epoch 907/1200\n",
      "190/190 - 4s - loss: 0.0568 - mse: 0.0568 - val_loss: 0.0591 - val_mse: 0.0591 - 4s/epoch - 20ms/step\n",
      "Epoch 908/1200\n",
      "190/190 - 4s - loss: 0.0568 - mse: 0.0568 - val_loss: 0.0591 - val_mse: 0.0591 - 4s/epoch - 22ms/step\n",
      "Epoch 909/1200\n",
      "190/190 - 5s - loss: 0.0568 - mse: 0.0568 - val_loss: 0.0591 - val_mse: 0.0591 - 5s/epoch - 26ms/step\n",
      "Epoch 910/1200\n",
      "190/190 - 4s - loss: 0.0568 - mse: 0.0568 - val_loss: 0.0591 - val_mse: 0.0591 - 4s/epoch - 21ms/step\n",
      "Epoch 911/1200\n",
      "190/190 - 4s - loss: 0.0568 - mse: 0.0568 - val_loss: 0.0591 - val_mse: 0.0591 - 4s/epoch - 22ms/step\n",
      "Epoch 912/1200\n",
      "190/190 - 5s - loss: 0.0568 - mse: 0.0568 - val_loss: 0.0591 - val_mse: 0.0591 - 5s/epoch - 24ms/step\n",
      "Epoch 913/1200\n",
      "190/190 - 4s - loss: 0.0568 - mse: 0.0568 - val_loss: 0.0591 - val_mse: 0.0591 - 4s/epoch - 23ms/step\n",
      "Epoch 914/1200\n",
      "190/190 - 4s - loss: 0.0568 - mse: 0.0568 - val_loss: 0.0591 - val_mse: 0.0591 - 4s/epoch - 23ms/step\n",
      "Epoch 915/1200\n",
      "190/190 - 4s - loss: 0.0568 - mse: 0.0568 - val_loss: 0.0591 - val_mse: 0.0591 - 4s/epoch - 20ms/step\n",
      "Epoch 916/1200\n",
      "190/190 - 4s - loss: 0.0568 - mse: 0.0568 - val_loss: 0.0591 - val_mse: 0.0591 - 4s/epoch - 23ms/step\n",
      "Epoch 917/1200\n",
      "190/190 - 4s - loss: 0.0568 - mse: 0.0568 - val_loss: 0.0591 - val_mse: 0.0591 - 4s/epoch - 21ms/step\n",
      "Epoch 918/1200\n",
      "190/190 - 4s - loss: 0.0568 - mse: 0.0568 - val_loss: 0.0591 - val_mse: 0.0591 - 4s/epoch - 20ms/step\n",
      "Epoch 919/1200\n",
      "190/190 - 4s - loss: 0.0568 - mse: 0.0568 - val_loss: 0.0591 - val_mse: 0.0591 - 4s/epoch - 20ms/step\n",
      "Epoch 920/1200\n",
      "190/190 - 4s - loss: 0.0568 - mse: 0.0568 - val_loss: 0.0591 - val_mse: 0.0591 - 4s/epoch - 22ms/step\n",
      "Epoch 921/1200\n",
      "190/190 - 4s - loss: 0.0568 - mse: 0.0568 - val_loss: 0.0591 - val_mse: 0.0591 - 4s/epoch - 21ms/step\n",
      "Epoch 922/1200\n",
      "190/190 - 4s - loss: 0.0567 - mse: 0.0567 - val_loss: 0.0591 - val_mse: 0.0591 - 4s/epoch - 21ms/step\n",
      "Epoch 923/1200\n",
      "190/190 - 9s - loss: 0.0567 - mse: 0.0567 - val_loss: 0.0591 - val_mse: 0.0591 - 9s/epoch - 49ms/step\n",
      "Epoch 924/1200\n",
      "190/190 - 5s - loss: 0.0567 - mse: 0.0567 - val_loss: 0.0591 - val_mse: 0.0591 - 5s/epoch - 26ms/step\n",
      "Epoch 925/1200\n",
      "190/190 - 5s - loss: 0.0567 - mse: 0.0567 - val_loss: 0.0591 - val_mse: 0.0591 - 5s/epoch - 27ms/step\n",
      "Epoch 926/1200\n",
      "190/190 - 5s - loss: 0.0567 - mse: 0.0567 - val_loss: 0.0591 - val_mse: 0.0591 - 5s/epoch - 29ms/step\n",
      "Epoch 927/1200\n",
      "190/190 - 4s - loss: 0.0567 - mse: 0.0567 - val_loss: 0.0591 - val_mse: 0.0591 - 4s/epoch - 21ms/step\n",
      "Epoch 928/1200\n",
      "190/190 - 4s - loss: 0.0567 - mse: 0.0567 - val_loss: 0.0591 - val_mse: 0.0591 - 4s/epoch - 20ms/step\n",
      "Epoch 929/1200\n",
      "190/190 - 4s - loss: 0.0567 - mse: 0.0567 - val_loss: 0.0591 - val_mse: 0.0591 - 4s/epoch - 21ms/step\n",
      "Epoch 930/1200\n",
      "190/190 - 4s - loss: 0.0567 - mse: 0.0567 - val_loss: 0.0591 - val_mse: 0.0591 - 4s/epoch - 22ms/step\n",
      "Epoch 931/1200\n",
      "190/190 - 4s - loss: 0.0567 - mse: 0.0567 - val_loss: 0.0591 - val_mse: 0.0591 - 4s/epoch - 21ms/step\n",
      "Epoch 932/1200\n",
      "190/190 - 4s - loss: 0.0567 - mse: 0.0567 - val_loss: 0.0591 - val_mse: 0.0591 - 4s/epoch - 20ms/step\n",
      "Epoch 933/1200\n",
      "190/190 - 4s - loss: 0.0567 - mse: 0.0567 - val_loss: 0.0591 - val_mse: 0.0591 - 4s/epoch - 22ms/step\n",
      "Epoch 934/1200\n",
      "190/190 - 4s - loss: 0.0567 - mse: 0.0567 - val_loss: 0.0591 - val_mse: 0.0591 - 4s/epoch - 22ms/step\n",
      "Epoch 935/1200\n",
      "190/190 - 5s - loss: 0.0567 - mse: 0.0567 - val_loss: 0.0591 - val_mse: 0.0591 - 5s/epoch - 24ms/step\n",
      "Epoch 936/1200\n",
      "190/190 - 5s - loss: 0.0567 - mse: 0.0567 - val_loss: 0.0591 - val_mse: 0.0591 - 5s/epoch - 24ms/step\n",
      "Epoch 937/1200\n",
      "190/190 - 5s - loss: 0.0567 - mse: 0.0567 - val_loss: 0.0591 - val_mse: 0.0591 - 5s/epoch - 24ms/step\n",
      "Epoch 938/1200\n",
      "190/190 - 4s - loss: 0.0567 - mse: 0.0567 - val_loss: 0.0591 - val_mse: 0.0591 - 4s/epoch - 23ms/step\n",
      "Epoch 939/1200\n",
      "190/190 - 4s - loss: 0.0567 - mse: 0.0567 - val_loss: 0.0591 - val_mse: 0.0591 - 4s/epoch - 22ms/step\n",
      "Epoch 940/1200\n",
      "190/190 - 4s - loss: 0.0567 - mse: 0.0567 - val_loss: 0.0591 - val_mse: 0.0591 - 4s/epoch - 22ms/step\n",
      "Epoch 941/1200\n",
      "190/190 - 6s - loss: 0.0567 - mse: 0.0567 - val_loss: 0.0591 - val_mse: 0.0591 - 6s/epoch - 34ms/step\n",
      "Epoch 942/1200\n",
      "190/190 - 5s - loss: 0.0567 - mse: 0.0567 - val_loss: 0.0591 - val_mse: 0.0591 - 5s/epoch - 27ms/step\n",
      "Epoch 943/1200\n",
      "190/190 - 6s - loss: 0.0567 - mse: 0.0567 - val_loss: 0.0591 - val_mse: 0.0591 - 6s/epoch - 32ms/step\n",
      "Epoch 944/1200\n",
      "190/190 - 5s - loss: 0.0567 - mse: 0.0567 - val_loss: 0.0591 - val_mse: 0.0591 - 5s/epoch - 26ms/step\n",
      "Epoch 945/1200\n",
      "190/190 - 5s - loss: 0.0567 - mse: 0.0567 - val_loss: 0.0591 - val_mse: 0.0591 - 5s/epoch - 25ms/step\n",
      "Epoch 946/1200\n",
      "190/190 - 5s - loss: 0.0567 - mse: 0.0567 - val_loss: 0.0591 - val_mse: 0.0591 - 5s/epoch - 25ms/step\n",
      "Epoch 947/1200\n",
      "190/190 - 5s - loss: 0.0567 - mse: 0.0567 - val_loss: 0.0591 - val_mse: 0.0591 - 5s/epoch - 25ms/step\n",
      "Epoch 948/1200\n",
      "190/190 - 4s - loss: 0.0567 - mse: 0.0567 - val_loss: 0.0591 - val_mse: 0.0591 - 4s/epoch - 23ms/step\n",
      "Epoch 949/1200\n",
      "190/190 - 4s - loss: 0.0567 - mse: 0.0567 - val_loss: 0.0591 - val_mse: 0.0591 - 4s/epoch - 21ms/step\n",
      "Epoch 950/1200\n",
      "190/190 - 5s - loss: 0.0567 - mse: 0.0567 - val_loss: 0.0591 - val_mse: 0.0591 - 5s/epoch - 24ms/step\n",
      "Epoch 951/1200\n",
      "190/190 - 5s - loss: 0.0567 - mse: 0.0567 - val_loss: 0.0591 - val_mse: 0.0591 - 5s/epoch - 27ms/step\n",
      "Epoch 952/1200\n",
      "190/190 - 5s - loss: 0.0566 - mse: 0.0566 - val_loss: 0.0591 - val_mse: 0.0591 - 5s/epoch - 24ms/step\n",
      "Epoch 953/1200\n",
      "190/190 - 4s - loss: 0.0566 - mse: 0.0566 - val_loss: 0.0591 - val_mse: 0.0591 - 4s/epoch - 23ms/step\n",
      "Epoch 954/1200\n",
      "190/190 - 5s - loss: 0.0567 - mse: 0.0567 - val_loss: 0.0591 - val_mse: 0.0591 - 5s/epoch - 24ms/step\n",
      "Epoch 955/1200\n",
      "190/190 - 6s - loss: 0.0566 - mse: 0.0566 - val_loss: 0.0591 - val_mse: 0.0591 - 6s/epoch - 30ms/step\n",
      "Epoch 956/1200\n",
      "190/190 - 6s - loss: 0.0566 - mse: 0.0566 - val_loss: 0.0591 - val_mse: 0.0591 - 6s/epoch - 32ms/step\n",
      "Epoch 957/1200\n",
      "190/190 - 5s - loss: 0.0566 - mse: 0.0566 - val_loss: 0.0591 - val_mse: 0.0591 - 5s/epoch - 24ms/step\n",
      "Epoch 958/1200\n",
      "190/190 - 7s - loss: 0.0566 - mse: 0.0566 - val_loss: 0.0591 - val_mse: 0.0591 - 7s/epoch - 36ms/step\n",
      "Epoch 959/1200\n",
      "190/190 - 9s - loss: 0.0566 - mse: 0.0566 - val_loss: 0.0591 - val_mse: 0.0591 - 9s/epoch - 49ms/step\n",
      "Epoch 960/1200\n",
      "190/190 - 6s - loss: 0.0566 - mse: 0.0566 - val_loss: 0.0591 - val_mse: 0.0591 - 6s/epoch - 32ms/step\n",
      "Epoch 961/1200\n",
      "190/190 - 5s - loss: 0.0566 - mse: 0.0566 - val_loss: 0.0591 - val_mse: 0.0591 - 5s/epoch - 28ms/step\n",
      "Epoch 962/1200\n",
      "190/190 - 5s - loss: 0.0566 - mse: 0.0566 - val_loss: 0.0591 - val_mse: 0.0591 - 5s/epoch - 24ms/step\n",
      "Epoch 963/1200\n",
      "190/190 - 5s - loss: 0.0566 - mse: 0.0566 - val_loss: 0.0591 - val_mse: 0.0591 - 5s/epoch - 25ms/step\n",
      "Epoch 964/1200\n",
      "190/190 - 6s - loss: 0.0566 - mse: 0.0566 - val_loss: 0.0591 - val_mse: 0.0591 - 6s/epoch - 32ms/step\n",
      "Epoch 965/1200\n",
      "190/190 - 5s - loss: 0.0566 - mse: 0.0566 - val_loss: 0.0591 - val_mse: 0.0591 - 5s/epoch - 24ms/step\n",
      "Epoch 966/1200\n",
      "190/190 - 4s - loss: 0.0566 - mse: 0.0566 - val_loss: 0.0591 - val_mse: 0.0591 - 4s/epoch - 23ms/step\n",
      "Epoch 967/1200\n",
      "190/190 - 4s - loss: 0.0566 - mse: 0.0566 - val_loss: 0.0591 - val_mse: 0.0591 - 4s/epoch - 20ms/step\n",
      "Epoch 968/1200\n",
      "190/190 - 7s - loss: 0.0566 - mse: 0.0566 - val_loss: 0.0591 - val_mse: 0.0591 - 7s/epoch - 37ms/step\n",
      "Epoch 969/1200\n",
      "190/190 - 4s - loss: 0.0566 - mse: 0.0566 - val_loss: 0.0591 - val_mse: 0.0591 - 4s/epoch - 21ms/step\n",
      "Epoch 970/1200\n",
      "190/190 - 5s - loss: 0.0566 - mse: 0.0566 - val_loss: 0.0591 - val_mse: 0.0591 - 5s/epoch - 24ms/step\n",
      "Epoch 971/1200\n",
      "190/190 - 4s - loss: 0.0566 - mse: 0.0566 - val_loss: 0.0591 - val_mse: 0.0591 - 4s/epoch - 21ms/step\n",
      "Epoch 972/1200\n",
      "190/190 - 4s - loss: 0.0566 - mse: 0.0566 - val_loss: 0.0591 - val_mse: 0.0591 - 4s/epoch - 22ms/step\n",
      "Epoch 973/1200\n",
      "190/190 - 4s - loss: 0.0566 - mse: 0.0566 - val_loss: 0.0591 - val_mse: 0.0591 - 4s/epoch - 21ms/step\n",
      "Epoch 974/1200\n",
      "190/190 - 4s - loss: 0.0566 - mse: 0.0566 - val_loss: 0.0591 - val_mse: 0.0591 - 4s/epoch - 23ms/step\n",
      "Epoch 975/1200\n",
      "190/190 - 5s - loss: 0.0566 - mse: 0.0566 - val_loss: 0.0591 - val_mse: 0.0591 - 5s/epoch - 24ms/step\n",
      "Epoch 976/1200\n",
      "190/190 - 4s - loss: 0.0566 - mse: 0.0566 - val_loss: 0.0591 - val_mse: 0.0591 - 4s/epoch - 23ms/step\n",
      "Epoch 977/1200\n",
      "190/190 - 4s - loss: 0.0566 - mse: 0.0566 - val_loss: 0.0591 - val_mse: 0.0591 - 4s/epoch - 22ms/step\n",
      "Epoch 978/1200\n",
      "190/190 - 4s - loss: 0.0566 - mse: 0.0566 - val_loss: 0.0591 - val_mse: 0.0591 - 4s/epoch - 20ms/step\n",
      "Epoch 979/1200\n",
      "190/190 - 4s - loss: 0.0566 - mse: 0.0566 - val_loss: 0.0591 - val_mse: 0.0591 - 4s/epoch - 22ms/step\n",
      "Epoch 980/1200\n",
      "190/190 - 4s - loss: 0.0566 - mse: 0.0566 - val_loss: 0.0591 - val_mse: 0.0591 - 4s/epoch - 22ms/step\n",
      "Epoch 981/1200\n",
      "190/190 - 4s - loss: 0.0566 - mse: 0.0566 - val_loss: 0.0591 - val_mse: 0.0591 - 4s/epoch - 21ms/step\n",
      "Epoch 982/1200\n",
      "190/190 - 4s - loss: 0.0566 - mse: 0.0566 - val_loss: 0.0591 - val_mse: 0.0591 - 4s/epoch - 22ms/step\n",
      "Epoch 983/1200\n",
      "190/190 - 4s - loss: 0.0566 - mse: 0.0566 - val_loss: 0.0591 - val_mse: 0.0591 - 4s/epoch - 23ms/step\n",
      "Epoch 984/1200\n",
      "190/190 - 4s - loss: 0.0566 - mse: 0.0566 - val_loss: 0.0591 - val_mse: 0.0591 - 4s/epoch - 23ms/step\n",
      "Epoch 985/1200\n",
      "190/190 - 4s - loss: 0.0566 - mse: 0.0566 - val_loss: 0.0591 - val_mse: 0.0591 - 4s/epoch - 23ms/step\n",
      "Epoch 986/1200\n",
      "190/190 - 4s - loss: 0.0566 - mse: 0.0566 - val_loss: 0.0591 - val_mse: 0.0591 - 4s/epoch - 21ms/step\n",
      "Epoch 987/1200\n",
      "190/190 - 4s - loss: 0.0566 - mse: 0.0566 - val_loss: 0.0591 - val_mse: 0.0591 - 4s/epoch - 22ms/step\n",
      "Epoch 988/1200\n",
      "190/190 - 4s - loss: 0.0566 - mse: 0.0566 - val_loss: 0.0592 - val_mse: 0.0592 - 4s/epoch - 23ms/step\n",
      "Epoch 989/1200\n",
      "190/190 - 7s - loss: 0.0565 - mse: 0.0565 - val_loss: 0.0591 - val_mse: 0.0591 - 7s/epoch - 39ms/step\n",
      "Epoch 990/1200\n",
      "190/190 - 6s - loss: 0.0565 - mse: 0.0565 - val_loss: 0.0591 - val_mse: 0.0591 - 6s/epoch - 33ms/step\n",
      "Epoch 991/1200\n",
      "190/190 - 6s - loss: 0.0565 - mse: 0.0565 - val_loss: 0.0591 - val_mse: 0.0591 - 6s/epoch - 29ms/step\n",
      "Epoch 992/1200\n",
      "190/190 - 6s - loss: 0.0565 - mse: 0.0565 - val_loss: 0.0592 - val_mse: 0.0592 - 6s/epoch - 33ms/step\n",
      "Epoch 993/1200\n",
      "190/190 - 6s - loss: 0.0565 - mse: 0.0565 - val_loss: 0.0591 - val_mse: 0.0591 - 6s/epoch - 34ms/step\n",
      "Epoch 994/1200\n",
      "190/190 - 6s - loss: 0.0565 - mse: 0.0565 - val_loss: 0.0591 - val_mse: 0.0591 - 6s/epoch - 33ms/step\n",
      "Epoch 995/1200\n",
      "190/190 - 6s - loss: 0.0565 - mse: 0.0565 - val_loss: 0.0591 - val_mse: 0.0591 - 6s/epoch - 30ms/step\n",
      "Epoch 996/1200\n",
      "190/190 - 4s - loss: 0.0565 - mse: 0.0565 - val_loss: 0.0591 - val_mse: 0.0591 - 4s/epoch - 23ms/step\n",
      "Epoch 997/1200\n",
      "190/190 - 4s - loss: 0.0565 - mse: 0.0565 - val_loss: 0.0592 - val_mse: 0.0592 - 4s/epoch - 20ms/step\n",
      "Epoch 998/1200\n",
      "190/190 - 4s - loss: 0.0565 - mse: 0.0565 - val_loss: 0.0592 - val_mse: 0.0592 - 4s/epoch - 23ms/step\n",
      "Epoch 999/1200\n",
      "190/190 - 5s - loss: 0.0565 - mse: 0.0565 - val_loss: 0.0591 - val_mse: 0.0591 - 5s/epoch - 24ms/step\n",
      "Epoch 1000/1200\n",
      "190/190 - 5s - loss: 0.0565 - mse: 0.0565 - val_loss: 0.0591 - val_mse: 0.0591 - 5s/epoch - 24ms/step\n",
      "Epoch 1001/1200\n",
      "190/190 - 6s - loss: 0.0565 - mse: 0.0565 - val_loss: 0.0591 - val_mse: 0.0591 - 6s/epoch - 33ms/step\n",
      "Epoch 1002/1200\n",
      "190/190 - 4s - loss: 0.0565 - mse: 0.0565 - val_loss: 0.0591 - val_mse: 0.0591 - 4s/epoch - 21ms/step\n",
      "Epoch 1003/1200\n",
      "190/190 - 5s - loss: 0.0565 - mse: 0.0565 - val_loss: 0.0592 - val_mse: 0.0592 - 5s/epoch - 27ms/step\n",
      "Epoch 1004/1200\n",
      "190/190 - 4s - loss: 0.0565 - mse: 0.0565 - val_loss: 0.0592 - val_mse: 0.0592 - 4s/epoch - 23ms/step\n",
      "Epoch 1005/1200\n",
      "190/190 - 6s - loss: 0.0565 - mse: 0.0565 - val_loss: 0.0592 - val_mse: 0.0592 - 6s/epoch - 31ms/step\n",
      "Epoch 1006/1200\n",
      "190/190 - 4s - loss: 0.0565 - mse: 0.0565 - val_loss: 0.0591 - val_mse: 0.0591 - 4s/epoch - 23ms/step\n",
      "Epoch 1007/1200\n",
      "190/190 - 4s - loss: 0.0565 - mse: 0.0565 - val_loss: 0.0592 - val_mse: 0.0592 - 4s/epoch - 21ms/step\n",
      "Epoch 1008/1200\n",
      "190/190 - 4s - loss: 0.0565 - mse: 0.0565 - val_loss: 0.0592 - val_mse: 0.0592 - 4s/epoch - 21ms/step\n",
      "Epoch 1009/1200\n",
      "190/190 - 4s - loss: 0.0565 - mse: 0.0565 - val_loss: 0.0591 - val_mse: 0.0591 - 4s/epoch - 22ms/step\n",
      "Epoch 1010/1200\n",
      "190/190 - 4s - loss: 0.0565 - mse: 0.0565 - val_loss: 0.0591 - val_mse: 0.0591 - 4s/epoch - 21ms/step\n",
      "Epoch 1011/1200\n",
      "190/190 - 4s - loss: 0.0565 - mse: 0.0565 - val_loss: 0.0592 - val_mse: 0.0592 - 4s/epoch - 20ms/step\n",
      "Epoch 1012/1200\n",
      "190/190 - 4s - loss: 0.0565 - mse: 0.0565 - val_loss: 0.0592 - val_mse: 0.0592 - 4s/epoch - 20ms/step\n",
      "Epoch 1013/1200\n",
      "190/190 - 6s - loss: 0.0565 - mse: 0.0565 - val_loss: 0.0592 - val_mse: 0.0592 - 6s/epoch - 30ms/step\n",
      "Epoch 1014/1200\n",
      "190/190 - 4s - loss: 0.0565 - mse: 0.0565 - val_loss: 0.0591 - val_mse: 0.0591 - 4s/epoch - 23ms/step\n",
      "Epoch 1015/1200\n",
      "190/190 - 4s - loss: 0.0565 - mse: 0.0565 - val_loss: 0.0591 - val_mse: 0.0591 - 4s/epoch - 23ms/step\n",
      "Epoch 1016/1200\n",
      "190/190 - 4s - loss: 0.0565 - mse: 0.0565 - val_loss: 0.0592 - val_mse: 0.0592 - 4s/epoch - 23ms/step\n",
      "Epoch 1017/1200\n",
      "190/190 - 4s - loss: 0.0565 - mse: 0.0565 - val_loss: 0.0592 - val_mse: 0.0592 - 4s/epoch - 23ms/step\n",
      "Epoch 1018/1200\n",
      "190/190 - 4s - loss: 0.0565 - mse: 0.0565 - val_loss: 0.0592 - val_mse: 0.0592 - 4s/epoch - 22ms/step\n",
      "Epoch 1019/1200\n",
      "190/190 - 4s - loss: 0.0565 - mse: 0.0565 - val_loss: 0.0592 - val_mse: 0.0592 - 4s/epoch - 20ms/step\n",
      "Epoch 1020/1200\n",
      "190/190 - 4s - loss: 0.0565 - mse: 0.0565 - val_loss: 0.0592 - val_mse: 0.0592 - 4s/epoch - 22ms/step\n",
      "Epoch 1021/1200\n",
      "190/190 - 4s - loss: 0.0565 - mse: 0.0565 - val_loss: 0.0592 - val_mse: 0.0592 - 4s/epoch - 22ms/step\n",
      "Epoch 1022/1200\n",
      "190/190 - 4s - loss: 0.0565 - mse: 0.0565 - val_loss: 0.0592 - val_mse: 0.0592 - 4s/epoch - 20ms/step\n",
      "Epoch 1023/1200\n",
      "190/190 - 4s - loss: 0.0565 - mse: 0.0565 - val_loss: 0.0592 - val_mse: 0.0592 - 4s/epoch - 20ms/step\n",
      "Epoch 1024/1200\n",
      "190/190 - 4s - loss: 0.0565 - mse: 0.0565 - val_loss: 0.0592 - val_mse: 0.0592 - 4s/epoch - 21ms/step\n",
      "Epoch 1025/1200\n",
      "190/190 - 4s - loss: 0.0565 - mse: 0.0565 - val_loss: 0.0592 - val_mse: 0.0592 - 4s/epoch - 21ms/step\n",
      "Epoch 1026/1200\n",
      "190/190 - 4s - loss: 0.0565 - mse: 0.0565 - val_loss: 0.0592 - val_mse: 0.0592 - 4s/epoch - 20ms/step\n",
      "Epoch 1027/1200\n",
      "190/190 - 4s - loss: 0.0565 - mse: 0.0565 - val_loss: 0.0592 - val_mse: 0.0592 - 4s/epoch - 21ms/step\n",
      "Epoch 1028/1200\n",
      "190/190 - 4s - loss: 0.0565 - mse: 0.0565 - val_loss: 0.0592 - val_mse: 0.0592 - 4s/epoch - 22ms/step\n",
      "Epoch 1029/1200\n",
      "190/190 - 4s - loss: 0.0565 - mse: 0.0565 - val_loss: 0.0592 - val_mse: 0.0592 - 4s/epoch - 23ms/step\n",
      "Epoch 1030/1200\n",
      "190/190 - 4s - loss: 0.0565 - mse: 0.0565 - val_loss: 0.0592 - val_mse: 0.0592 - 4s/epoch - 21ms/step\n",
      "Epoch 1031/1200\n",
      "190/190 - 4s - loss: 0.0565 - mse: 0.0565 - val_loss: 0.0592 - val_mse: 0.0592 - 4s/epoch - 21ms/step\n",
      "Epoch 1032/1200\n",
      "190/190 - 4s - loss: 0.0564 - mse: 0.0564 - val_loss: 0.0592 - val_mse: 0.0592 - 4s/epoch - 21ms/step\n",
      "Epoch 1033/1200\n",
      "190/190 - 4s - loss: 0.0564 - mse: 0.0564 - val_loss: 0.0592 - val_mse: 0.0592 - 4s/epoch - 21ms/step\n",
      "Epoch 1034/1200\n",
      "190/190 - 4s - loss: 0.0564 - mse: 0.0564 - val_loss: 0.0592 - val_mse: 0.0592 - 4s/epoch - 20ms/step\n",
      "Epoch 1035/1200\n",
      "190/190 - 4s - loss: 0.0564 - mse: 0.0564 - val_loss: 0.0592 - val_mse: 0.0592 - 4s/epoch - 21ms/step\n",
      "Epoch 1036/1200\n",
      "190/190 - 4s - loss: 0.0564 - mse: 0.0564 - val_loss: 0.0592 - val_mse: 0.0592 - 4s/epoch - 21ms/step\n",
      "Epoch 1037/1200\n",
      "190/190 - 4s - loss: 0.0564 - mse: 0.0564 - val_loss: 0.0592 - val_mse: 0.0592 - 4s/epoch - 21ms/step\n",
      "Epoch 1038/1200\n",
      "190/190 - 4s - loss: 0.0564 - mse: 0.0564 - val_loss: 0.0592 - val_mse: 0.0592 - 4s/epoch - 20ms/step\n",
      "Epoch 1039/1200\n",
      "190/190 - 4s - loss: 0.0564 - mse: 0.0564 - val_loss: 0.0592 - val_mse: 0.0592 - 4s/epoch - 20ms/step\n",
      "Epoch 1040/1200\n",
      "190/190 - 4s - loss: 0.0564 - mse: 0.0564 - val_loss: 0.0592 - val_mse: 0.0592 - 4s/epoch - 22ms/step\n",
      "Epoch 1041/1200\n",
      "190/190 - 4s - loss: 0.0564 - mse: 0.0564 - val_loss: 0.0592 - val_mse: 0.0592 - 4s/epoch - 21ms/step\n",
      "Epoch 1042/1200\n",
      "190/190 - 4s - loss: 0.0564 - mse: 0.0564 - val_loss: 0.0592 - val_mse: 0.0592 - 4s/epoch - 20ms/step\n",
      "Epoch 1043/1200\n",
      "190/190 - 4s - loss: 0.0564 - mse: 0.0564 - val_loss: 0.0592 - val_mse: 0.0592 - 4s/epoch - 20ms/step\n",
      "Epoch 1044/1200\n",
      "190/190 - 4s - loss: 0.0564 - mse: 0.0564 - val_loss: 0.0592 - val_mse: 0.0592 - 4s/epoch - 21ms/step\n",
      "Epoch 1045/1200\n",
      "190/190 - 4s - loss: 0.0564 - mse: 0.0564 - val_loss: 0.0592 - val_mse: 0.0592 - 4s/epoch - 22ms/step\n",
      "Epoch 1046/1200\n",
      "190/190 - 4s - loss: 0.0564 - mse: 0.0564 - val_loss: 0.0592 - val_mse: 0.0592 - 4s/epoch - 22ms/step\n",
      "Epoch 1047/1200\n",
      "190/190 - 4s - loss: 0.0564 - mse: 0.0564 - val_loss: 0.0592 - val_mse: 0.0592 - 4s/epoch - 20ms/step\n",
      "Epoch 1048/1200\n",
      "190/190 - 4s - loss: 0.0564 - mse: 0.0564 - val_loss: 0.0592 - val_mse: 0.0592 - 4s/epoch - 22ms/step\n",
      "Epoch 1049/1200\n",
      "190/190 - 4s - loss: 0.0564 - mse: 0.0564 - val_loss: 0.0592 - val_mse: 0.0592 - 4s/epoch - 21ms/step\n",
      "Epoch 1050/1200\n",
      "190/190 - 4s - loss: 0.0564 - mse: 0.0564 - val_loss: 0.0592 - val_mse: 0.0592 - 4s/epoch - 21ms/step\n",
      "Epoch 1051/1200\n",
      "190/190 - 4s - loss: 0.0564 - mse: 0.0564 - val_loss: 0.0592 - val_mse: 0.0592 - 4s/epoch - 21ms/step\n",
      "Epoch 1052/1200\n",
      "190/190 - 4s - loss: 0.0564 - mse: 0.0564 - val_loss: 0.0592 - val_mse: 0.0592 - 4s/epoch - 21ms/step\n",
      "Epoch 1053/1200\n",
      "190/190 - 4s - loss: 0.0564 - mse: 0.0564 - val_loss: 0.0592 - val_mse: 0.0592 - 4s/epoch - 21ms/step\n",
      "Epoch 1054/1200\n",
      "190/190 - 4s - loss: 0.0564 - mse: 0.0564 - val_loss: 0.0592 - val_mse: 0.0592 - 4s/epoch - 20ms/step\n",
      "Epoch 1055/1200\n",
      "190/190 - 4s - loss: 0.0564 - mse: 0.0564 - val_loss: 0.0592 - val_mse: 0.0592 - 4s/epoch - 20ms/step\n",
      "Epoch 1056/1200\n",
      "190/190 - 5s - loss: 0.0564 - mse: 0.0564 - val_loss: 0.0592 - val_mse: 0.0592 - 5s/epoch - 26ms/step\n",
      "Epoch 1057/1200\n",
      "190/190 - 4s - loss: 0.0564 - mse: 0.0564 - val_loss: 0.0592 - val_mse: 0.0592 - 4s/epoch - 22ms/step\n",
      "Epoch 1058/1200\n",
      "190/190 - 4s - loss: 0.0564 - mse: 0.0564 - val_loss: 0.0592 - val_mse: 0.0592 - 4s/epoch - 22ms/step\n",
      "Epoch 1059/1200\n",
      "190/190 - 5s - loss: 0.0564 - mse: 0.0564 - val_loss: 0.0592 - val_mse: 0.0592 - 5s/epoch - 24ms/step\n",
      "Epoch 1060/1200\n",
      "190/190 - 4s - loss: 0.0564 - mse: 0.0564 - val_loss: 0.0592 - val_mse: 0.0592 - 4s/epoch - 23ms/step\n",
      "Epoch 1061/1200\n",
      "190/190 - 4s - loss: 0.0564 - mse: 0.0564 - val_loss: 0.0592 - val_mse: 0.0592 - 4s/epoch - 22ms/step\n",
      "Epoch 1062/1200\n",
      "190/190 - 4s - loss: 0.0564 - mse: 0.0564 - val_loss: 0.0592 - val_mse: 0.0592 - 4s/epoch - 21ms/step\n",
      "Epoch 1063/1200\n",
      "190/190 - 4s - loss: 0.0564 - mse: 0.0564 - val_loss: 0.0592 - val_mse: 0.0592 - 4s/epoch - 22ms/step\n",
      "Epoch 1064/1200\n",
      "190/190 - 4s - loss: 0.0564 - mse: 0.0564 - val_loss: 0.0592 - val_mse: 0.0592 - 4s/epoch - 22ms/step\n",
      "Epoch 1065/1200\n",
      "190/190 - 4s - loss: 0.0564 - mse: 0.0564 - val_loss: 0.0592 - val_mse: 0.0592 - 4s/epoch - 21ms/step\n",
      "Epoch 1066/1200\n",
      "190/190 - 4s - loss: 0.0564 - mse: 0.0564 - val_loss: 0.0592 - val_mse: 0.0592 - 4s/epoch - 22ms/step\n",
      "Epoch 1067/1200\n",
      "190/190 - 4s - loss: 0.0564 - mse: 0.0564 - val_loss: 0.0592 - val_mse: 0.0592 - 4s/epoch - 22ms/step\n",
      "Epoch 1068/1200\n",
      "190/190 - 4s - loss: 0.0564 - mse: 0.0564 - val_loss: 0.0592 - val_mse: 0.0592 - 4s/epoch - 22ms/step\n",
      "Epoch 1069/1200\n",
      "190/190 - 4s - loss: 0.0564 - mse: 0.0564 - val_loss: 0.0592 - val_mse: 0.0592 - 4s/epoch - 20ms/step\n",
      "Epoch 1070/1200\n",
      "190/190 - 4s - loss: 0.0564 - mse: 0.0564 - val_loss: 0.0592 - val_mse: 0.0592 - 4s/epoch - 19ms/step\n",
      "Epoch 1071/1200\n",
      "190/190 - 4s - loss: 0.0564 - mse: 0.0564 - val_loss: 0.0592 - val_mse: 0.0592 - 4s/epoch - 20ms/step\n",
      "Epoch 1072/1200\n",
      "190/190 - 4s - loss: 0.0564 - mse: 0.0564 - val_loss: 0.0592 - val_mse: 0.0592 - 4s/epoch - 21ms/step\n",
      "Epoch 1073/1200\n",
      "190/190 - 4s - loss: 0.0564 - mse: 0.0564 - val_loss: 0.0592 - val_mse: 0.0592 - 4s/epoch - 20ms/step\n",
      "Epoch 1074/1200\n",
      "190/190 - 4s - loss: 0.0564 - mse: 0.0564 - val_loss: 0.0592 - val_mse: 0.0592 - 4s/epoch - 22ms/step\n",
      "Epoch 1075/1200\n",
      "190/190 - 4s - loss: 0.0564 - mse: 0.0564 - val_loss: 0.0592 - val_mse: 0.0592 - 4s/epoch - 22ms/step\n",
      "Epoch 1076/1200\n",
      "190/190 - 4s - loss: 0.0564 - mse: 0.0564 - val_loss: 0.0592 - val_mse: 0.0592 - 4s/epoch - 22ms/step\n",
      "Epoch 1077/1200\n",
      "190/190 - 4s - loss: 0.0564 - mse: 0.0564 - val_loss: 0.0592 - val_mse: 0.0592 - 4s/epoch - 20ms/step\n",
      "Epoch 1078/1200\n",
      "190/190 - 4s - loss: 0.0564 - mse: 0.0564 - val_loss: 0.0592 - val_mse: 0.0592 - 4s/epoch - 19ms/step\n",
      "Epoch 1079/1200\n",
      "190/190 - 4s - loss: 0.0563 - mse: 0.0563 - val_loss: 0.0592 - val_mse: 0.0592 - 4s/epoch - 23ms/step\n",
      "Epoch 1080/1200\n",
      "190/190 - 4s - loss: 0.0563 - mse: 0.0563 - val_loss: 0.0592 - val_mse: 0.0592 - 4s/epoch - 23ms/step\n",
      "Epoch 1081/1200\n",
      "190/190 - 4s - loss: 0.0563 - mse: 0.0563 - val_loss: 0.0592 - val_mse: 0.0592 - 4s/epoch - 22ms/step\n",
      "Epoch 1082/1200\n",
      "190/190 - 4s - loss: 0.0563 - mse: 0.0563 - val_loss: 0.0592 - val_mse: 0.0592 - 4s/epoch - 19ms/step\n",
      "Epoch 1083/1200\n",
      "190/190 - 4s - loss: 0.0563 - mse: 0.0563 - val_loss: 0.0592 - val_mse: 0.0592 - 4s/epoch - 21ms/step\n",
      "Epoch 1084/1200\n",
      "190/190 - 4s - loss: 0.0563 - mse: 0.0563 - val_loss: 0.0592 - val_mse: 0.0592 - 4s/epoch - 23ms/step\n",
      "Epoch 1085/1200\n",
      "190/190 - 4s - loss: 0.0563 - mse: 0.0563 - val_loss: 0.0592 - val_mse: 0.0592 - 4s/epoch - 20ms/step\n",
      "Epoch 1086/1200\n",
      "190/190 - 4s - loss: 0.0563 - mse: 0.0563 - val_loss: 0.0592 - val_mse: 0.0592 - 4s/epoch - 21ms/step\n",
      "Epoch 1087/1200\n",
      "190/190 - 5s - loss: 0.0563 - mse: 0.0563 - val_loss: 0.0592 - val_mse: 0.0592 - 5s/epoch - 25ms/step\n",
      "Epoch 1088/1200\n",
      "190/190 - 5s - loss: 0.0563 - mse: 0.0563 - val_loss: 0.0592 - val_mse: 0.0592 - 5s/epoch - 25ms/step\n",
      "Epoch 1089/1200\n",
      "190/190 - 4s - loss: 0.0563 - mse: 0.0563 - val_loss: 0.0592 - val_mse: 0.0592 - 4s/epoch - 23ms/step\n",
      "Epoch 1090/1200\n",
      "190/190 - 4s - loss: 0.0563 - mse: 0.0563 - val_loss: 0.0592 - val_mse: 0.0592 - 4s/epoch - 23ms/step\n",
      "Epoch 1091/1200\n",
      "190/190 - 5s - loss: 0.0563 - mse: 0.0563 - val_loss: 0.0592 - val_mse: 0.0592 - 5s/epoch - 24ms/step\n",
      "Epoch 1092/1200\n",
      "190/190 - 4s - loss: 0.0563 - mse: 0.0563 - val_loss: 0.0592 - val_mse: 0.0592 - 4s/epoch - 23ms/step\n",
      "Epoch 1093/1200\n",
      "190/190 - 4s - loss: 0.0563 - mse: 0.0563 - val_loss: 0.0592 - val_mse: 0.0592 - 4s/epoch - 20ms/step\n",
      "Epoch 1094/1200\n",
      "190/190 - 4s - loss: 0.0563 - mse: 0.0563 - val_loss: 0.0592 - val_mse: 0.0592 - 4s/epoch - 23ms/step\n",
      "Epoch 1095/1200\n",
      "190/190 - 5s - loss: 0.0563 - mse: 0.0563 - val_loss: 0.0592 - val_mse: 0.0592 - 5s/epoch - 27ms/step\n",
      "Epoch 1096/1200\n",
      "190/190 - 6s - loss: 0.0563 - mse: 0.0563 - val_loss: 0.0592 - val_mse: 0.0592 - 6s/epoch - 29ms/step\n",
      "Epoch 1097/1200\n",
      "190/190 - 4s - loss: 0.0563 - mse: 0.0563 - val_loss: 0.0592 - val_mse: 0.0592 - 4s/epoch - 24ms/step\n",
      "Epoch 1098/1200\n",
      "190/190 - 4s - loss: 0.0563 - mse: 0.0563 - val_loss: 0.0592 - val_mse: 0.0592 - 4s/epoch - 23ms/step\n",
      "Epoch 1099/1200\n",
      "190/190 - 5s - loss: 0.0563 - mse: 0.0563 - val_loss: 0.0592 - val_mse: 0.0592 - 5s/epoch - 28ms/step\n",
      "Epoch 1100/1200\n",
      "190/190 - 4s - loss: 0.0563 - mse: 0.0563 - val_loss: 0.0592 - val_mse: 0.0592 - 4s/epoch - 20ms/step\n",
      "Epoch 1101/1200\n",
      "190/190 - 4s - loss: 0.0563 - mse: 0.0563 - val_loss: 0.0592 - val_mse: 0.0592 - 4s/epoch - 24ms/step\n",
      "Epoch 1102/1200\n",
      "190/190 - 5s - loss: 0.0563 - mse: 0.0563 - val_loss: 0.0592 - val_mse: 0.0592 - 5s/epoch - 27ms/step\n",
      "Epoch 1103/1200\n",
      "190/190 - 4s - loss: 0.0563 - mse: 0.0563 - val_loss: 0.0592 - val_mse: 0.0592 - 4s/epoch - 20ms/step\n",
      "Epoch 1104/1200\n",
      "190/190 - 4s - loss: 0.0563 - mse: 0.0563 - val_loss: 0.0592 - val_mse: 0.0592 - 4s/epoch - 20ms/step\n",
      "Epoch 1105/1200\n",
      "190/190 - 5s - loss: 0.0563 - mse: 0.0563 - val_loss: 0.0592 - val_mse: 0.0592 - 5s/epoch - 26ms/step\n",
      "Epoch 1106/1200\n",
      "190/190 - 5s - loss: 0.0563 - mse: 0.0563 - val_loss: 0.0592 - val_mse: 0.0592 - 5s/epoch - 24ms/step\n",
      "Epoch 1107/1200\n",
      "190/190 - 4s - loss: 0.0563 - mse: 0.0563 - val_loss: 0.0592 - val_mse: 0.0592 - 4s/epoch - 21ms/step\n",
      "Epoch 1108/1200\n",
      "190/190 - 4s - loss: 0.0563 - mse: 0.0563 - val_loss: 0.0592 - val_mse: 0.0592 - 4s/epoch - 21ms/step\n",
      "Epoch 1109/1200\n",
      "190/190 - 4s - loss: 0.0563 - mse: 0.0563 - val_loss: 0.0592 - val_mse: 0.0592 - 4s/epoch - 22ms/step\n",
      "Epoch 1110/1200\n",
      "190/190 - 6s - loss: 0.0563 - mse: 0.0563 - val_loss: 0.0592 - val_mse: 0.0592 - 6s/epoch - 34ms/step\n",
      "Epoch 1111/1200\n",
      "190/190 - 5s - loss: 0.0563 - mse: 0.0563 - val_loss: 0.0592 - val_mse: 0.0592 - 5s/epoch - 25ms/step\n",
      "Epoch 1112/1200\n",
      "190/190 - 6s - loss: 0.0563 - mse: 0.0563 - val_loss: 0.0592 - val_mse: 0.0592 - 6s/epoch - 32ms/step\n",
      "Epoch 1113/1200\n",
      "190/190 - 4s - loss: 0.0563 - mse: 0.0563 - val_loss: 0.0592 - val_mse: 0.0592 - 4s/epoch - 20ms/step\n",
      "Epoch 1114/1200\n",
      "190/190 - 4s - loss: 0.0563 - mse: 0.0563 - val_loss: 0.0592 - val_mse: 0.0592 - 4s/epoch - 20ms/step\n",
      "Epoch 1115/1200\n",
      "190/190 - 6s - loss: 0.0563 - mse: 0.0563 - val_loss: 0.0592 - val_mse: 0.0592 - 6s/epoch - 31ms/step\n",
      "Epoch 1116/1200\n",
      "190/190 - 9s - loss: 0.0563 - mse: 0.0563 - val_loss: 0.0592 - val_mse: 0.0592 - 9s/epoch - 47ms/step\n",
      "Epoch 1117/1200\n",
      "190/190 - 5s - loss: 0.0563 - mse: 0.0563 - val_loss: 0.0592 - val_mse: 0.0592 - 5s/epoch - 24ms/step\n",
      "Epoch 1118/1200\n",
      "190/190 - 5s - loss: 0.0563 - mse: 0.0563 - val_loss: 0.0592 - val_mse: 0.0592 - 5s/epoch - 27ms/step\n",
      "Epoch 1119/1200\n",
      "190/190 - 4s - loss: 0.0563 - mse: 0.0563 - val_loss: 0.0592 - val_mse: 0.0592 - 4s/epoch - 22ms/step\n",
      "Epoch 1120/1200\n",
      "190/190 - 4s - loss: 0.0563 - mse: 0.0563 - val_loss: 0.0592 - val_mse: 0.0592 - 4s/epoch - 19ms/step\n",
      "Epoch 1121/1200\n",
      "190/190 - 4s - loss: 0.0563 - mse: 0.0563 - val_loss: 0.0592 - val_mse: 0.0592 - 4s/epoch - 22ms/step\n",
      "Epoch 1122/1200\n",
      "190/190 - 6s - loss: 0.0563 - mse: 0.0563 - val_loss: 0.0592 - val_mse: 0.0592 - 6s/epoch - 29ms/step\n",
      "Epoch 1123/1200\n",
      "190/190 - 8s - loss: 0.0563 - mse: 0.0563 - val_loss: 0.0592 - val_mse: 0.0592 - 8s/epoch - 44ms/step\n",
      "Epoch 1124/1200\n",
      "190/190 - 8s - loss: 0.0563 - mse: 0.0563 - val_loss: 0.0592 - val_mse: 0.0592 - 8s/epoch - 42ms/step\n",
      "Epoch 1125/1200\n",
      "190/190 - 4s - loss: 0.0563 - mse: 0.0563 - val_loss: 0.0592 - val_mse: 0.0592 - 4s/epoch - 20ms/step\n",
      "Epoch 1126/1200\n",
      "190/190 - 4s - loss: 0.0563 - mse: 0.0563 - val_loss: 0.0592 - val_mse: 0.0592 - 4s/epoch - 23ms/step\n",
      "Epoch 1127/1200\n",
      "190/190 - 4s - loss: 0.0563 - mse: 0.0563 - val_loss: 0.0592 - val_mse: 0.0592 - 4s/epoch - 21ms/step\n",
      "Epoch 1128/1200\n",
      "190/190 - 4s - loss: 0.0563 - mse: 0.0563 - val_loss: 0.0592 - val_mse: 0.0592 - 4s/epoch - 21ms/step\n",
      "Epoch 1129/1200\n",
      "190/190 - 4s - loss: 0.0563 - mse: 0.0563 - val_loss: 0.0592 - val_mse: 0.0592 - 4s/epoch - 20ms/step\n",
      "Epoch 1130/1200\n",
      "190/190 - 4s - loss: 0.0563 - mse: 0.0563 - val_loss: 0.0592 - val_mse: 0.0592 - 4s/epoch - 20ms/step\n",
      "Epoch 1131/1200\n",
      "190/190 - 8s - loss: 0.0563 - mse: 0.0563 - val_loss: 0.0592 - val_mse: 0.0592 - 8s/epoch - 42ms/step\n",
      "Epoch 1132/1200\n",
      "190/190 - 5s - loss: 0.0563 - mse: 0.0563 - val_loss: 0.0592 - val_mse: 0.0592 - 5s/epoch - 28ms/step\n",
      "Epoch 1133/1200\n",
      "190/190 - 5s - loss: 0.0563 - mse: 0.0563 - val_loss: 0.0592 - val_mse: 0.0592 - 5s/epoch - 25ms/step\n",
      "Epoch 1134/1200\n",
      "190/190 - 8s - loss: 0.0562 - mse: 0.0562 - val_loss: 0.0592 - val_mse: 0.0592 - 8s/epoch - 42ms/step\n",
      "Epoch 1135/1200\n",
      "190/190 - 6s - loss: 0.0563 - mse: 0.0563 - val_loss: 0.0592 - val_mse: 0.0592 - 6s/epoch - 33ms/step\n",
      "Epoch 1136/1200\n",
      "190/190 - 6s - loss: 0.0563 - mse: 0.0563 - val_loss: 0.0592 - val_mse: 0.0592 - 6s/epoch - 32ms/step\n",
      "Epoch 1137/1200\n",
      "190/190 - 5s - loss: 0.0563 - mse: 0.0563 - val_loss: 0.0592 - val_mse: 0.0592 - 5s/epoch - 25ms/step\n",
      "Epoch 1138/1200\n",
      "190/190 - 5s - loss: 0.0563 - mse: 0.0563 - val_loss: 0.0592 - val_mse: 0.0592 - 5s/epoch - 24ms/step\n",
      "Epoch 1139/1200\n",
      "190/190 - 6s - loss: 0.0562 - mse: 0.0562 - val_loss: 0.0592 - val_mse: 0.0592 - 6s/epoch - 31ms/step\n",
      "Epoch 1140/1200\n",
      "190/190 - 5s - loss: 0.0562 - mse: 0.0562 - val_loss: 0.0592 - val_mse: 0.0592 - 5s/epoch - 27ms/step\n",
      "Epoch 1141/1200\n",
      "190/190 - 5s - loss: 0.0563 - mse: 0.0563 - val_loss: 0.0592 - val_mse: 0.0592 - 5s/epoch - 29ms/step\n",
      "Epoch 1142/1200\n",
      "190/190 - 5s - loss: 0.0562 - mse: 0.0562 - val_loss: 0.0592 - val_mse: 0.0592 - 5s/epoch - 29ms/step\n",
      "Epoch 1143/1200\n",
      "190/190 - 7s - loss: 0.0562 - mse: 0.0562 - val_loss: 0.0592 - val_mse: 0.0592 - 7s/epoch - 36ms/step\n",
      "Epoch 1144/1200\n",
      "190/190 - 10s - loss: 0.0562 - mse: 0.0562 - val_loss: 0.0592 - val_mse: 0.0592 - 10s/epoch - 51ms/step\n",
      "Epoch 1145/1200\n",
      "190/190 - 7s - loss: 0.0562 - mse: 0.0562 - val_loss: 0.0592 - val_mse: 0.0592 - 7s/epoch - 37ms/step\n",
      "Epoch 1146/1200\n",
      "190/190 - 6s - loss: 0.0562 - mse: 0.0562 - val_loss: 0.0592 - val_mse: 0.0592 - 6s/epoch - 30ms/step\n",
      "Epoch 1147/1200\n",
      "190/190 - 4s - loss: 0.0562 - mse: 0.0562 - val_loss: 0.0593 - val_mse: 0.0593 - 4s/epoch - 24ms/step\n",
      "Epoch 1148/1200\n",
      "190/190 - 4s - loss: 0.0562 - mse: 0.0562 - val_loss: 0.0592 - val_mse: 0.0592 - 4s/epoch - 22ms/step\n",
      "Epoch 1149/1200\n",
      "190/190 - 4s - loss: 0.0562 - mse: 0.0562 - val_loss: 0.0592 - val_mse: 0.0592 - 4s/epoch - 23ms/step\n",
      "Epoch 1150/1200\n",
      "190/190 - 4s - loss: 0.0562 - mse: 0.0562 - val_loss: 0.0592 - val_mse: 0.0592 - 4s/epoch - 23ms/step\n",
      "Epoch 1151/1200\n",
      "190/190 - 5s - loss: 0.0562 - mse: 0.0562 - val_loss: 0.0592 - val_mse: 0.0592 - 5s/epoch - 24ms/step\n",
      "Epoch 1152/1200\n",
      "190/190 - 4s - loss: 0.0562 - mse: 0.0562 - val_loss: 0.0592 - val_mse: 0.0592 - 4s/epoch - 23ms/step\n",
      "Epoch 1153/1200\n",
      "190/190 - 5s - loss: 0.0562 - mse: 0.0562 - val_loss: 0.0592 - val_mse: 0.0592 - 5s/epoch - 25ms/step\n",
      "Epoch 1154/1200\n",
      "190/190 - 4s - loss: 0.0562 - mse: 0.0562 - val_loss: 0.0592 - val_mse: 0.0592 - 4s/epoch - 22ms/step\n",
      "Epoch 1155/1200\n",
      "190/190 - 4s - loss: 0.0562 - mse: 0.0562 - val_loss: 0.0592 - val_mse: 0.0592 - 4s/epoch - 23ms/step\n",
      "Epoch 1156/1200\n",
      "190/190 - 4s - loss: 0.0562 - mse: 0.0562 - val_loss: 0.0592 - val_mse: 0.0592 - 4s/epoch - 24ms/step\n",
      "Epoch 1157/1200\n",
      "190/190 - 4s - loss: 0.0562 - mse: 0.0562 - val_loss: 0.0592 - val_mse: 0.0592 - 4s/epoch - 23ms/step\n",
      "Epoch 1158/1200\n",
      "190/190 - 4s - loss: 0.0562 - mse: 0.0562 - val_loss: 0.0593 - val_mse: 0.0593 - 4s/epoch - 22ms/step\n",
      "Epoch 1159/1200\n",
      "190/190 - 4s - loss: 0.0562 - mse: 0.0562 - val_loss: 0.0592 - val_mse: 0.0592 - 4s/epoch - 21ms/step\n",
      "Epoch 1160/1200\n",
      "190/190 - 4s - loss: 0.0562 - mse: 0.0562 - val_loss: 0.0592 - val_mse: 0.0592 - 4s/epoch - 24ms/step\n",
      "Epoch 1161/1200\n",
      "190/190 - 6s - loss: 0.0562 - mse: 0.0562 - val_loss: 0.0592 - val_mse: 0.0592 - 6s/epoch - 31ms/step\n",
      "Epoch 1162/1200\n",
      "190/190 - 5s - loss: 0.0562 - mse: 0.0562 - val_loss: 0.0592 - val_mse: 0.0592 - 5s/epoch - 28ms/step\n",
      "Epoch 1163/1200\n",
      "190/190 - 5s - loss: 0.0562 - mse: 0.0562 - val_loss: 0.0592 - val_mse: 0.0592 - 5s/epoch - 28ms/step\n",
      "Epoch 1164/1200\n",
      "190/190 - 5s - loss: 0.0562 - mse: 0.0562 - val_loss: 0.0592 - val_mse: 0.0592 - 5s/epoch - 25ms/step\n",
      "Epoch 1165/1200\n",
      "190/190 - 5s - loss: 0.0562 - mse: 0.0562 - val_loss: 0.0592 - val_mse: 0.0592 - 5s/epoch - 26ms/step\n",
      "Epoch 1166/1200\n",
      "190/190 - 4s - loss: 0.0562 - mse: 0.0562 - val_loss: 0.0592 - val_mse: 0.0592 - 4s/epoch - 21ms/step\n",
      "Epoch 1167/1200\n",
      "190/190 - 7s - loss: 0.0562 - mse: 0.0562 - val_loss: 0.0592 - val_mse: 0.0592 - 7s/epoch - 35ms/step\n",
      "Epoch 1168/1200\n",
      "190/190 - 6s - loss: 0.0562 - mse: 0.0562 - val_loss: 0.0592 - val_mse: 0.0592 - 6s/epoch - 33ms/step\n",
      "Epoch 1169/1200\n",
      "190/190 - 6s - loss: 0.0562 - mse: 0.0562 - val_loss: 0.0592 - val_mse: 0.0592 - 6s/epoch - 30ms/step\n",
      "Epoch 1170/1200\n",
      "190/190 - 6s - loss: 0.0562 - mse: 0.0562 - val_loss: 0.0592 - val_mse: 0.0592 - 6s/epoch - 33ms/step\n",
      "Epoch 1171/1200\n",
      "190/190 - 6s - loss: 0.0562 - mse: 0.0562 - val_loss: 0.0592 - val_mse: 0.0592 - 6s/epoch - 30ms/step\n",
      "Epoch 1172/1200\n",
      "190/190 - 8s - loss: 0.0562 - mse: 0.0562 - val_loss: 0.0592 - val_mse: 0.0592 - 8s/epoch - 42ms/step\n",
      "Epoch 1173/1200\n",
      "190/190 - 6s - loss: 0.0562 - mse: 0.0562 - val_loss: 0.0592 - val_mse: 0.0592 - 6s/epoch - 33ms/step\n",
      "Epoch 1174/1200\n",
      "190/190 - 7s - loss: 0.0562 - mse: 0.0562 - val_loss: 0.0592 - val_mse: 0.0592 - 7s/epoch - 35ms/step\n",
      "Epoch 1175/1200\n",
      "190/190 - 8s - loss: 0.0562 - mse: 0.0562 - val_loss: 0.0592 - val_mse: 0.0592 - 8s/epoch - 43ms/step\n",
      "Epoch 1176/1200\n",
      "190/190 - 8s - loss: 0.0562 - mse: 0.0562 - val_loss: 0.0592 - val_mse: 0.0592 - 8s/epoch - 41ms/step\n",
      "Epoch 1177/1200\n",
      "190/190 - 7s - loss: 0.0562 - mse: 0.0562 - val_loss: 0.0592 - val_mse: 0.0592 - 7s/epoch - 39ms/step\n",
      "Epoch 1178/1200\n",
      "190/190 - 6s - loss: 0.0562 - mse: 0.0562 - val_loss: 0.0592 - val_mse: 0.0592 - 6s/epoch - 31ms/step\n",
      "Epoch 1179/1200\n",
      "190/190 - 6s - loss: 0.0562 - mse: 0.0562 - val_loss: 0.0592 - val_mse: 0.0592 - 6s/epoch - 34ms/step\n",
      "Epoch 1180/1200\n",
      "190/190 - 9s - loss: 0.0562 - mse: 0.0562 - val_loss: 0.0593 - val_mse: 0.0593 - 9s/epoch - 45ms/step\n",
      "Epoch 1181/1200\n",
      "190/190 - 4s - loss: 0.0562 - mse: 0.0562 - val_loss: 0.0593 - val_mse: 0.0593 - 4s/epoch - 23ms/step\n",
      "Epoch 1182/1200\n",
      "190/190 - 4s - loss: 0.0562 - mse: 0.0562 - val_loss: 0.0592 - val_mse: 0.0592 - 4s/epoch - 23ms/step\n",
      "Epoch 1183/1200\n",
      "190/190 - 6s - loss: 0.0562 - mse: 0.0562 - val_loss: 0.0592 - val_mse: 0.0592 - 6s/epoch - 29ms/step\n",
      "Epoch 1184/1200\n",
      "190/190 - 5s - loss: 0.0562 - mse: 0.0562 - val_loss: 0.0592 - val_mse: 0.0592 - 5s/epoch - 24ms/step\n",
      "Epoch 1185/1200\n",
      "190/190 - 5s - loss: 0.0562 - mse: 0.0562 - val_loss: 0.0592 - val_mse: 0.0592 - 5s/epoch - 26ms/step\n",
      "Epoch 1186/1200\n",
      "190/190 - 4s - loss: 0.0562 - mse: 0.0562 - val_loss: 0.0592 - val_mse: 0.0592 - 4s/epoch - 22ms/step\n",
      "Epoch 1187/1200\n",
      "190/190 - 10s - loss: 0.0562 - mse: 0.0562 - val_loss: 0.0592 - val_mse: 0.0592 - 10s/epoch - 52ms/step\n",
      "Epoch 1188/1200\n",
      "190/190 - 6s - loss: 0.0562 - mse: 0.0562 - val_loss: 0.0592 - val_mse: 0.0592 - 6s/epoch - 30ms/step\n",
      "Epoch 1189/1200\n",
      "190/190 - 6s - loss: 0.0562 - mse: 0.0562 - val_loss: 0.0592 - val_mse: 0.0592 - 6s/epoch - 32ms/step\n",
      "Epoch 1190/1200\n",
      "190/190 - 6s - loss: 0.0562 - mse: 0.0562 - val_loss: 0.0592 - val_mse: 0.0592 - 6s/epoch - 29ms/step\n",
      "Epoch 1191/1200\n",
      "190/190 - 8s - loss: 0.0562 - mse: 0.0562 - val_loss: 0.0592 - val_mse: 0.0592 - 8s/epoch - 43ms/step\n",
      "Epoch 1192/1200\n",
      "190/190 - 4s - loss: 0.0562 - mse: 0.0562 - val_loss: 0.0592 - val_mse: 0.0592 - 4s/epoch - 22ms/step\n",
      "Epoch 1193/1200\n",
      "190/190 - 5s - loss: 0.0562 - mse: 0.0562 - val_loss: 0.0592 - val_mse: 0.0592 - 5s/epoch - 27ms/step\n",
      "Epoch 1194/1200\n",
      "190/190 - 5s - loss: 0.0562 - mse: 0.0562 - val_loss: 0.0592 - val_mse: 0.0592 - 5s/epoch - 29ms/step\n",
      "Epoch 1195/1200\n",
      "190/190 - 4s - loss: 0.0562 - mse: 0.0562 - val_loss: 0.0592 - val_mse: 0.0592 - 4s/epoch - 23ms/step\n",
      "Epoch 1196/1200\n",
      "190/190 - 4s - loss: 0.0562 - mse: 0.0562 - val_loss: 0.0592 - val_mse: 0.0592 - 4s/epoch - 23ms/step\n",
      "Epoch 1197/1200\n",
      "190/190 - 4s - loss: 0.0562 - mse: 0.0562 - val_loss: 0.0593 - val_mse: 0.0593 - 4s/epoch - 22ms/step\n",
      "Epoch 1198/1200\n",
      "190/190 - 4s - loss: 0.0562 - mse: 0.0562 - val_loss: 0.0593 - val_mse: 0.0593 - 4s/epoch - 23ms/step\n",
      "Epoch 1199/1200\n",
      "190/190 - 5s - loss: 0.0562 - mse: 0.0562 - val_loss: 0.0592 - val_mse: 0.0592 - 5s/epoch - 25ms/step\n",
      "Epoch 1200/1200\n",
      "190/190 - 4s - loss: 0.0562 - mse: 0.0562 - val_loss: 0.0592 - val_mse: 0.0592 - 4s/epoch - 21ms/step\n"
     ]
    }
   ],
   "source": [
    "autoencoder = tf.keras.models.load_model(\"6731_128_64_32_MSE800\")\n",
    "\n",
    "optimizer = tf.keras.optimizers.SGD(learning_rate=0.1,momentum=0.9)\n",
    "autoencoder.compile(loss=\"mean_squared_error\",optimizer=optimizer,metrics=[\"mse\"])\n",
    "checkpoint_cb = tf.keras.callbacks.ModelCheckpoint(r\"StIAE/sTIAE\",monitor=\"val_mse\",save_best_only=True)\n",
    "\n",
    "history = autoencoder.fit(dataset.X,dataset.X,epochs=1200,verbose=2,validation_split=0.1,initial_epoch=800,callbacks=[checkpoint_cb])"
   ]
  },
  {
   "cell_type": "markdown",
   "id": "40fa585e-c87d-4f2d-ad70-31c6fab66be1",
   "metadata": {},
   "source": [
    "## Plot original image versus image reconstructed with the model\n",
    "\n",
    "- new_images function takes an image from the featurizer and runs it through the autoencoder\n",
    "- resulting image is the reconstructed image from the model, showing the selected channel\n",
    "- old_images takes the image from the featurizer and shows the selected channel\n",
    "- options for rotation and cropping are also available in the above two functions\n",
    "- plots original image on top, channel by channel, and reconstructed image on the bottom, channel by channel"
   ]
  },
  {
   "cell_type": "code",
   "execution_count": 7,
   "id": "9c7efe7f-b2a8-4643-a8c1-5216b69b6360",
   "metadata": {},
   "outputs": [
    {
     "name": "stdout",
     "output_type": "stream",
     "text": [
      "WARNING:tensorflow:From C:\\ProgramData\\Anaconda3\\envs\\rdkitenv\\lib\\site-packages\\keras\\src\\saving\\legacy\\saved_model\\load.py:107: The name tf.gfile.Exists is deprecated. Please use tf.io.gfile.exists instead.\n",
      "\n"
     ]
    },
    {
     "name": "stderr",
     "output_type": "stream",
     "text": [
      "WARNING:tensorflow:From C:\\ProgramData\\Anaconda3\\envs\\rdkitenv\\lib\\site-packages\\keras\\src\\saving\\legacy\\saved_model\\load.py:107: The name tf.gfile.Exists is deprecated. Please use tf.io.gfile.exists instead.\n",
      "\n"
     ]
    },
    {
     "name": "stdout",
     "output_type": "stream",
     "text": [
      "1/1 [==============================] - 0s 285ms/step\n",
      "1/1 [==============================] - 0s 42ms/step\n",
      "1/1 [==============================] - 0s 61ms/step\n",
      "1/1 [==============================] - 0s 56ms/step\n",
      "1/1 [==============================] - 0s 69ms/step\n",
      "1/1 [==============================] - 0s 31ms/step\n",
      "1/1 [==============================] - 0s 35ms/step\n",
      "1/1 [==============================] - 0s 66ms/step\n"
     ]
    },
    {
     "data": {
      "image/png": "[encoded data removed]",
      "text/plain": [
       "<Figure size 1200x1200 with 16 Axes>"
      ]
     },
     "metadata": {},
     "output_type": "display_data"
    }
   ],
   "source": [
    "from matplotlib import pyplot as plt\n",
    "from scipy import ndimage\n",
    "\n",
    "#load a model\n",
    "autoencoder = tf.keras.models.load_model(\"6731_128_64_32_MSE1200\")\n",
    "#switch to convolutional autoencoder\n",
    "#autoencoder = cautoencoder\n",
    "\n",
    "cmap=\"tab20c\"\n",
    "\n",
    "def new_images(model,image,channel):\n",
    "    recons = model.predict(image)[0,:,:,channel] #last number cycles through channels 0-3\n",
    "    rot = ndimage.rotate(recons, 0)\n",
    "    rot = rot[20:60, 20:60]\n",
    "    return rot\n",
    "\n",
    "def old_images(model,image,channel):\n",
    "    recons = image[0,:,:,channel] #last number cycles through channels 0-3\n",
    "    rot = ndimage.rotate(recons, 0)\n",
    "    rot  = rot[20:60, 20:60]\n",
    "    return rot\n",
    "    \n",
    "m1=featurizer.featurize(\"[H]C1=CC([N+]([O-])=O)=CC([N+]([O-])=O)=C1/N=N/C2=CC([H])=C(C=C2[H])N(CC)CC\")\n",
    "m2=featurizer.featurize(\"CC1=C(/N=N/C2=CC=C(N(C)C)C=C2C)C=CC(C)=C1\")\n",
    "\n",
    "newimages=[]\n",
    "oldimages=[]\n",
    "newimages2=[]\n",
    "oldimages2=[]\n",
    "for i in range(4):\n",
    "    new1 = new_images(model=autoencoder,image=m1,channel=i)\n",
    "    old1 = old_images(model=autoencoder,image=m1,channel=i)\n",
    "    newimages.append(new1)\n",
    "    oldimages.append(old1)\n",
    "    new1 = new_images(model=autoencoder,image=m2,channel=i)\n",
    "    old1 = old_images(model=autoencoder,image=m2,channel=i)\n",
    "    newimages2.append(new1)\n",
    "    oldimages2.append(old1)\n",
    "\n",
    "#can insert scaling code here\n",
    "\n",
    "fig, arrax = plt.subplots(4, 4, figsize=(12,12))\n",
    "for i in range(4):\n",
    "    arrax[0,i].imshow(oldimages[i],cmap=cmap)\n",
    "    arrax[1,i].imshow(newimages[i],cmap=cmap)\n",
    "    arrax[2,i].imshow(oldimages2[i],cmap=cmap)\n",
    "    arrax[3,i].imshow(newimages2[i],cmap=cmap)\n",
    "    arrax[0,i].axis(\"off\")\n",
    "    arrax[1,i].axis(\"off\")\n",
    "    arrax[2,i].axis(\"off\")\n",
    "    arrax[3,i].axis(\"off\")\n",
    "arrax[0,0].set_title(\"Original Images (channels 1-4)\")\n",
    "arrax[1,0].set_title(\"Reconstructed Images (channels 1-4)\")\n",
    "arrax[2,0].set_title(\"Original Images (channels 1-4)\")\n",
    "arrax[3,0].set_title(\"Reconstructed Images (channels 1-4)\")\n",
    "\n",
    "plt.show()"
   ]
  },
  {
   "cell_type": "markdown",
   "id": "7aae5b43-eed5-4e85-b0c0-c2693688b2c5",
   "metadata": {},
   "source": [
    "## Convolutional Autoencoder\n",
    "\n",
    "- uses Conv2D and MaxPooling in the encoder, Conv2DTranspose for the decoder\n",
    "- 4 channel images from SmilesToImage from DeepChem\n",
    "- regularization (l2) included and padding=\"same\""
   ]
  },
  {
   "cell_type": "code",
   "execution_count": 8,
   "id": "b4be5e51-b8d8-4d00-bc94-252fbe1b4bcb",
   "metadata": {},
   "outputs": [
    {
     "name": "stdout",
     "output_type": "stream",
     "text": [
      "Epoch 1/50\n",
      "INFO:tensorflow:Assets written to: ConvAE\\ConvAE\\assets\n"
     ]
    },
    {
     "name": "stderr",
     "output_type": "stream",
     "text": [
      "INFO:tensorflow:Assets written to: ConvAE\\ConvAE\\assets\n"
     ]
    },
    {
     "name": "stdout",
     "output_type": "stream",
     "text": [
      "190/190 - 21s - loss: 0.1332 - mse: 0.1332 - val_loss: 0.0734 - val_mse: 0.0734 - 21s/epoch - 111ms/step\n",
      "Epoch 2/50\n",
      "INFO:tensorflow:Assets written to: ConvAE\\ConvAE\\assets\n"
     ]
    },
    {
     "name": "stderr",
     "output_type": "stream",
     "text": [
      "INFO:tensorflow:Assets written to: ConvAE\\ConvAE\\assets\n"
     ]
    },
    {
     "name": "stdout",
     "output_type": "stream",
     "text": [
      "190/190 - 21s - loss: 0.0758 - mse: 0.0758 - val_loss: 0.0707 - val_mse: 0.0707 - 21s/epoch - 113ms/step\n",
      "Epoch 3/50\n",
      "INFO:tensorflow:Assets written to: ConvAE\\ConvAE\\assets\n"
     ]
    },
    {
     "name": "stderr",
     "output_type": "stream",
     "text": [
      "INFO:tensorflow:Assets written to: ConvAE\\ConvAE\\assets\n"
     ]
    },
    {
     "name": "stdout",
     "output_type": "stream",
     "text": [
      "190/190 - 15s - loss: 0.0747 - mse: 0.0747 - val_loss: 0.0702 - val_mse: 0.0702 - 15s/epoch - 80ms/step\n",
      "Epoch 4/50\n",
      "INFO:tensorflow:Assets written to: ConvAE\\ConvAE\\assets\n"
     ]
    },
    {
     "name": "stderr",
     "output_type": "stream",
     "text": [
      "INFO:tensorflow:Assets written to: ConvAE\\ConvAE\\assets\n"
     ]
    },
    {
     "name": "stdout",
     "output_type": "stream",
     "text": [
      "190/190 - 15s - loss: 0.0744 - mse: 0.0744 - val_loss: 0.0700 - val_mse: 0.0700 - 15s/epoch - 81ms/step\n",
      "Epoch 5/50\n",
      "INFO:tensorflow:Assets written to: ConvAE\\ConvAE\\assets\n"
     ]
    },
    {
     "name": "stderr",
     "output_type": "stream",
     "text": [
      "INFO:tensorflow:Assets written to: ConvAE\\ConvAE\\assets\n"
     ]
    },
    {
     "name": "stdout",
     "output_type": "stream",
     "text": [
      "190/190 - 15s - loss: 0.0742 - mse: 0.0742 - val_loss: 0.0699 - val_mse: 0.0699 - 15s/epoch - 81ms/step\n",
      "Epoch 6/50\n",
      "INFO:tensorflow:Assets written to: ConvAE\\ConvAE\\assets\n"
     ]
    },
    {
     "name": "stderr",
     "output_type": "stream",
     "text": [
      "INFO:tensorflow:Assets written to: ConvAE\\ConvAE\\assets\n"
     ]
    },
    {
     "name": "stdout",
     "output_type": "stream",
     "text": [
      "190/190 - 18s - loss: 0.0741 - mse: 0.0741 - val_loss: 0.0697 - val_mse: 0.0697 - 18s/epoch - 95ms/step\n",
      "Epoch 7/50\n",
      "INFO:tensorflow:Assets written to: ConvAE\\ConvAE\\assets\n"
     ]
    },
    {
     "name": "stderr",
     "output_type": "stream",
     "text": [
      "INFO:tensorflow:Assets written to: ConvAE\\ConvAE\\assets\n"
     ]
    },
    {
     "name": "stdout",
     "output_type": "stream",
     "text": [
      "190/190 - 15s - loss: 0.0739 - mse: 0.0739 - val_loss: 0.0696 - val_mse: 0.0696 - 15s/epoch - 80ms/step\n",
      "Epoch 8/50\n",
      "INFO:tensorflow:Assets written to: ConvAE\\ConvAE\\assets\n"
     ]
    },
    {
     "name": "stderr",
     "output_type": "stream",
     "text": [
      "INFO:tensorflow:Assets written to: ConvAE\\ConvAE\\assets\n"
     ]
    },
    {
     "name": "stdout",
     "output_type": "stream",
     "text": [
      "190/190 - 16s - loss: 0.0736 - mse: 0.0736 - val_loss: 0.0693 - val_mse: 0.0693 - 16s/epoch - 85ms/step\n",
      "Epoch 9/50\n",
      "INFO:tensorflow:Assets written to: ConvAE\\ConvAE\\assets\n"
     ]
    },
    {
     "name": "stderr",
     "output_type": "stream",
     "text": [
      "INFO:tensorflow:Assets written to: ConvAE\\ConvAE\\assets\n"
     ]
    },
    {
     "name": "stdout",
     "output_type": "stream",
     "text": [
      "190/190 - 17s - loss: 0.0732 - mse: 0.0732 - val_loss: 0.0688 - val_mse: 0.0688 - 17s/epoch - 88ms/step\n",
      "Epoch 10/50\n",
      "INFO:tensorflow:Assets written to: ConvAE\\ConvAE\\assets\n"
     ]
    },
    {
     "name": "stderr",
     "output_type": "stream",
     "text": [
      "INFO:tensorflow:Assets written to: ConvAE\\ConvAE\\assets\n"
     ]
    },
    {
     "name": "stdout",
     "output_type": "stream",
     "text": [
      "190/190 - 14s - loss: 0.0724 - mse: 0.0724 - val_loss: 0.0677 - val_mse: 0.0677 - 14s/epoch - 76ms/step\n",
      "Epoch 11/50\n",
      "INFO:tensorflow:Assets written to: ConvAE\\ConvAE\\assets\n"
     ]
    },
    {
     "name": "stderr",
     "output_type": "stream",
     "text": [
      "INFO:tensorflow:Assets written to: ConvAE\\ConvAE\\assets\n"
     ]
    },
    {
     "name": "stdout",
     "output_type": "stream",
     "text": [
      "190/190 - 16s - loss: 0.0708 - mse: 0.0708 - val_loss: 0.0660 - val_mse: 0.0660 - 16s/epoch - 87ms/step\n",
      "Epoch 12/50\n",
      "INFO:tensorflow:Assets written to: ConvAE\\ConvAE\\assets\n"
     ]
    },
    {
     "name": "stderr",
     "output_type": "stream",
     "text": [
      "INFO:tensorflow:Assets written to: ConvAE\\ConvAE\\assets\n"
     ]
    },
    {
     "name": "stdout",
     "output_type": "stream",
     "text": [
      "190/190 - 16s - loss: 0.0688 - mse: 0.0688 - val_loss: 0.0644 - val_mse: 0.0644 - 16s/epoch - 83ms/step\n",
      "Epoch 13/50\n",
      "INFO:tensorflow:Assets written to: ConvAE\\ConvAE\\assets\n"
     ]
    },
    {
     "name": "stderr",
     "output_type": "stream",
     "text": [
      "INFO:tensorflow:Assets written to: ConvAE\\ConvAE\\assets\n"
     ]
    },
    {
     "name": "stdout",
     "output_type": "stream",
     "text": [
      "190/190 - 23s - loss: 0.0674 - mse: 0.0674 - val_loss: 0.0635 - val_mse: 0.0635 - 23s/epoch - 121ms/step\n",
      "Epoch 14/50\n",
      "INFO:tensorflow:Assets written to: ConvAE\\ConvAE\\assets\n"
     ]
    },
    {
     "name": "stderr",
     "output_type": "stream",
     "text": [
      "INFO:tensorflow:Assets written to: ConvAE\\ConvAE\\assets\n"
     ]
    },
    {
     "name": "stdout",
     "output_type": "stream",
     "text": [
      "190/190 - 17s - loss: 0.0665 - mse: 0.0665 - val_loss: 0.0628 - val_mse: 0.0628 - 17s/epoch - 88ms/step\n",
      "Epoch 15/50\n",
      "INFO:tensorflow:Assets written to: ConvAE\\ConvAE\\assets\n"
     ]
    },
    {
     "name": "stderr",
     "output_type": "stream",
     "text": [
      "INFO:tensorflow:Assets written to: ConvAE\\ConvAE\\assets\n"
     ]
    },
    {
     "name": "stdout",
     "output_type": "stream",
     "text": [
      "190/190 - 20s - loss: 0.0659 - mse: 0.0659 - val_loss: 0.0623 - val_mse: 0.0623 - 20s/epoch - 104ms/step\n",
      "Epoch 16/50\n",
      "INFO:tensorflow:Assets written to: ConvAE\\ConvAE\\assets\n"
     ]
    },
    {
     "name": "stderr",
     "output_type": "stream",
     "text": [
      "INFO:tensorflow:Assets written to: ConvAE\\ConvAE\\assets\n"
     ]
    },
    {
     "name": "stdout",
     "output_type": "stream",
     "text": [
      "190/190 - 18s - loss: 0.0655 - mse: 0.0655 - val_loss: 0.0620 - val_mse: 0.0620 - 18s/epoch - 96ms/step\n",
      "Epoch 17/50\n",
      "INFO:tensorflow:Assets written to: ConvAE\\ConvAE\\assets\n"
     ]
    },
    {
     "name": "stderr",
     "output_type": "stream",
     "text": [
      "INFO:tensorflow:Assets written to: ConvAE\\ConvAE\\assets\n"
     ]
    },
    {
     "name": "stdout",
     "output_type": "stream",
     "text": [
      "190/190 - 21s - loss: 0.0652 - mse: 0.0652 - val_loss: 0.0617 - val_mse: 0.0617 - 21s/epoch - 113ms/step\n",
      "Epoch 18/50\n",
      "INFO:tensorflow:Assets written to: ConvAE\\ConvAE\\assets\n"
     ]
    },
    {
     "name": "stderr",
     "output_type": "stream",
     "text": [
      "INFO:tensorflow:Assets written to: ConvAE\\ConvAE\\assets\n"
     ]
    },
    {
     "name": "stdout",
     "output_type": "stream",
     "text": [
      "190/190 - 20s - loss: 0.0649 - mse: 0.0649 - val_loss: 0.0615 - val_mse: 0.0615 - 20s/epoch - 107ms/step\n",
      "Epoch 19/50\n",
      "INFO:tensorflow:Assets written to: ConvAE\\ConvAE\\assets\n"
     ]
    },
    {
     "name": "stderr",
     "output_type": "stream",
     "text": [
      "INFO:tensorflow:Assets written to: ConvAE\\ConvAE\\assets\n"
     ]
    },
    {
     "name": "stdout",
     "output_type": "stream",
     "text": [
      "190/190 - 22s - loss: 0.0647 - mse: 0.0647 - val_loss: 0.0614 - val_mse: 0.0614 - 22s/epoch - 114ms/step\n",
      "Epoch 20/50\n",
      "INFO:tensorflow:Assets written to: ConvAE\\ConvAE\\assets\n"
     ]
    },
    {
     "name": "stderr",
     "output_type": "stream",
     "text": [
      "INFO:tensorflow:Assets written to: ConvAE\\ConvAE\\assets\n"
     ]
    },
    {
     "name": "stdout",
     "output_type": "stream",
     "text": [
      "190/190 - 24s - loss: 0.0646 - mse: 0.0646 - val_loss: 0.0612 - val_mse: 0.0612 - 24s/epoch - 127ms/step\n",
      "Epoch 21/50\n",
      "INFO:tensorflow:Assets written to: ConvAE\\ConvAE\\assets\n"
     ]
    },
    {
     "name": "stderr",
     "output_type": "stream",
     "text": [
      "INFO:tensorflow:Assets written to: ConvAE\\ConvAE\\assets\n"
     ]
    },
    {
     "name": "stdout",
     "output_type": "stream",
     "text": [
      "190/190 - 20s - loss: 0.0644 - mse: 0.0644 - val_loss: 0.0611 - val_mse: 0.0611 - 20s/epoch - 103ms/step\n",
      "Epoch 22/50\n",
      "INFO:tensorflow:Assets written to: ConvAE\\ConvAE\\assets\n"
     ]
    },
    {
     "name": "stderr",
     "output_type": "stream",
     "text": [
      "INFO:tensorflow:Assets written to: ConvAE\\ConvAE\\assets\n"
     ]
    },
    {
     "name": "stdout",
     "output_type": "stream",
     "text": [
      "190/190 - 22s - loss: 0.0643 - mse: 0.0643 - val_loss: 0.0610 - val_mse: 0.0610 - 22s/epoch - 115ms/step\n",
      "Epoch 23/50\n",
      "INFO:tensorflow:Assets written to: ConvAE\\ConvAE\\assets\n"
     ]
    },
    {
     "name": "stderr",
     "output_type": "stream",
     "text": [
      "INFO:tensorflow:Assets written to: ConvAE\\ConvAE\\assets\n"
     ]
    },
    {
     "name": "stdout",
     "output_type": "stream",
     "text": [
      "190/190 - 21s - loss: 0.0642 - mse: 0.0642 - val_loss: 0.0609 - val_mse: 0.0609 - 21s/epoch - 110ms/step\n",
      "Epoch 24/50\n",
      "INFO:tensorflow:Assets written to: ConvAE\\ConvAE\\assets\n"
     ]
    },
    {
     "name": "stderr",
     "output_type": "stream",
     "text": [
      "INFO:tensorflow:Assets written to: ConvAE\\ConvAE\\assets\n"
     ]
    },
    {
     "name": "stdout",
     "output_type": "stream",
     "text": [
      "190/190 - 28s - loss: 0.0641 - mse: 0.0641 - val_loss: 0.0608 - val_mse: 0.0608 - 28s/epoch - 146ms/step\n",
      "Epoch 25/50\n",
      "INFO:tensorflow:Assets written to: ConvAE\\ConvAE\\assets\n"
     ]
    },
    {
     "name": "stderr",
     "output_type": "stream",
     "text": [
      "INFO:tensorflow:Assets written to: ConvAE\\ConvAE\\assets\n"
     ]
    },
    {
     "name": "stdout",
     "output_type": "stream",
     "text": [
      "190/190 - 22s - loss: 0.0640 - mse: 0.0640 - val_loss: 0.0607 - val_mse: 0.0607 - 22s/epoch - 116ms/step\n",
      "Epoch 26/50\n",
      "INFO:tensorflow:Assets written to: ConvAE\\ConvAE\\assets\n"
     ]
    },
    {
     "name": "stderr",
     "output_type": "stream",
     "text": [
      "INFO:tensorflow:Assets written to: ConvAE\\ConvAE\\assets\n"
     ]
    },
    {
     "name": "stdout",
     "output_type": "stream",
     "text": [
      "190/190 - 20s - loss: 0.0639 - mse: 0.0639 - val_loss: 0.0606 - val_mse: 0.0606 - 20s/epoch - 107ms/step\n",
      "Epoch 27/50\n",
      "INFO:tensorflow:Assets written to: ConvAE\\ConvAE\\assets\n"
     ]
    },
    {
     "name": "stderr",
     "output_type": "stream",
     "text": [
      "INFO:tensorflow:Assets written to: ConvAE\\ConvAE\\assets\n"
     ]
    },
    {
     "name": "stdout",
     "output_type": "stream",
     "text": [
      "190/190 - 22s - loss: 0.0639 - mse: 0.0639 - val_loss: 0.0605 - val_mse: 0.0605 - 22s/epoch - 113ms/step\n",
      "Epoch 28/50\n",
      "INFO:tensorflow:Assets written to: ConvAE\\ConvAE\\assets\n"
     ]
    },
    {
     "name": "stderr",
     "output_type": "stream",
     "text": [
      "INFO:tensorflow:Assets written to: ConvAE\\ConvAE\\assets\n"
     ]
    },
    {
     "name": "stdout",
     "output_type": "stream",
     "text": [
      "190/190 - 19s - loss: 0.0638 - mse: 0.0638 - val_loss: 0.0605 - val_mse: 0.0605 - 19s/epoch - 99ms/step\n",
      "Epoch 29/50\n",
      "INFO:tensorflow:Assets written to: ConvAE\\ConvAE\\assets\n"
     ]
    },
    {
     "name": "stderr",
     "output_type": "stream",
     "text": [
      "INFO:tensorflow:Assets written to: ConvAE\\ConvAE\\assets\n"
     ]
    },
    {
     "name": "stdout",
     "output_type": "stream",
     "text": [
      "190/190 - 18s - loss: 0.0637 - mse: 0.0637 - val_loss: 0.0604 - val_mse: 0.0604 - 18s/epoch - 97ms/step\n",
      "Epoch 30/50\n",
      "INFO:tensorflow:Assets written to: ConvAE\\ConvAE\\assets\n"
     ]
    },
    {
     "name": "stderr",
     "output_type": "stream",
     "text": [
      "INFO:tensorflow:Assets written to: ConvAE\\ConvAE\\assets\n"
     ]
    },
    {
     "name": "stdout",
     "output_type": "stream",
     "text": [
      "190/190 - 18s - loss: 0.0636 - mse: 0.0636 - val_loss: 0.0603 - val_mse: 0.0603 - 18s/epoch - 96ms/step\n",
      "Epoch 31/50\n",
      "INFO:tensorflow:Assets written to: ConvAE\\ConvAE\\assets\n"
     ]
    },
    {
     "name": "stderr",
     "output_type": "stream",
     "text": [
      "INFO:tensorflow:Assets written to: ConvAE\\ConvAE\\assets\n"
     ]
    },
    {
     "name": "stdout",
     "output_type": "stream",
     "text": [
      "190/190 - 17s - loss: 0.0636 - mse: 0.0636 - val_loss: 0.0603 - val_mse: 0.0603 - 17s/epoch - 88ms/step\n",
      "Epoch 32/50\n",
      "INFO:tensorflow:Assets written to: ConvAE\\ConvAE\\assets\n"
     ]
    },
    {
     "name": "stderr",
     "output_type": "stream",
     "text": [
      "INFO:tensorflow:Assets written to: ConvAE\\ConvAE\\assets\n"
     ]
    },
    {
     "name": "stdout",
     "output_type": "stream",
     "text": [
      "190/190 - 18s - loss: 0.0635 - mse: 0.0635 - val_loss: 0.0602 - val_mse: 0.0602 - 18s/epoch - 96ms/step\n",
      "Epoch 33/50\n",
      "INFO:tensorflow:Assets written to: ConvAE\\ConvAE\\assets\n"
     ]
    },
    {
     "name": "stderr",
     "output_type": "stream",
     "text": [
      "INFO:tensorflow:Assets written to: ConvAE\\ConvAE\\assets\n"
     ]
    },
    {
     "name": "stdout",
     "output_type": "stream",
     "text": [
      "190/190 - 20s - loss: 0.0634 - mse: 0.0634 - val_loss: 0.0601 - val_mse: 0.0601 - 20s/epoch - 107ms/step\n",
      "Epoch 34/50\n",
      "INFO:tensorflow:Assets written to: ConvAE\\ConvAE\\assets\n"
     ]
    },
    {
     "name": "stderr",
     "output_type": "stream",
     "text": [
      "INFO:tensorflow:Assets written to: ConvAE\\ConvAE\\assets\n"
     ]
    },
    {
     "name": "stdout",
     "output_type": "stream",
     "text": [
      "190/190 - 25s - loss: 0.0634 - mse: 0.0634 - val_loss: 0.0601 - val_mse: 0.0601 - 25s/epoch - 131ms/step\n",
      "Epoch 35/50\n",
      "INFO:tensorflow:Assets written to: ConvAE\\ConvAE\\assets\n"
     ]
    },
    {
     "name": "stderr",
     "output_type": "stream",
     "text": [
      "INFO:tensorflow:Assets written to: ConvAE\\ConvAE\\assets\n"
     ]
    },
    {
     "name": "stdout",
     "output_type": "stream",
     "text": [
      "190/190 - 20s - loss: 0.0633 - mse: 0.0633 - val_loss: 0.0600 - val_mse: 0.0600 - 20s/epoch - 104ms/step\n",
      "Epoch 36/50\n",
      "INFO:tensorflow:Assets written to: ConvAE\\ConvAE\\assets\n"
     ]
    },
    {
     "name": "stderr",
     "output_type": "stream",
     "text": [
      "INFO:tensorflow:Assets written to: ConvAE\\ConvAE\\assets\n"
     ]
    },
    {
     "name": "stdout",
     "output_type": "stream",
     "text": [
      "190/190 - 18s - loss: 0.0632 - mse: 0.0632 - val_loss: 0.0599 - val_mse: 0.0599 - 18s/epoch - 94ms/step\n",
      "Epoch 37/50\n",
      "INFO:tensorflow:Assets written to: ConvAE\\ConvAE\\assets\n"
     ]
    },
    {
     "name": "stderr",
     "output_type": "stream",
     "text": [
      "INFO:tensorflow:Assets written to: ConvAE\\ConvAE\\assets\n"
     ]
    },
    {
     "name": "stdout",
     "output_type": "stream",
     "text": [
      "190/190 - 19s - loss: 0.0632 - mse: 0.0632 - val_loss: 0.0599 - val_mse: 0.0599 - 19s/epoch - 100ms/step\n",
      "Epoch 38/50\n",
      "INFO:tensorflow:Assets written to: ConvAE\\ConvAE\\assets\n"
     ]
    },
    {
     "name": "stderr",
     "output_type": "stream",
     "text": [
      "INFO:tensorflow:Assets written to: ConvAE\\ConvAE\\assets\n"
     ]
    },
    {
     "name": "stdout",
     "output_type": "stream",
     "text": [
      "190/190 - 18s - loss: 0.0631 - mse: 0.0631 - val_loss: 0.0598 - val_mse: 0.0598 - 18s/epoch - 96ms/step\n",
      "Epoch 39/50\n",
      "INFO:tensorflow:Assets written to: ConvAE\\ConvAE\\assets\n"
     ]
    },
    {
     "name": "stderr",
     "output_type": "stream",
     "text": [
      "INFO:tensorflow:Assets written to: ConvAE\\ConvAE\\assets\n"
     ]
    },
    {
     "name": "stdout",
     "output_type": "stream",
     "text": [
      "190/190 - 20s - loss: 0.0630 - mse: 0.0630 - val_loss: 0.0597 - val_mse: 0.0597 - 20s/epoch - 105ms/step\n",
      "Epoch 40/50\n",
      "INFO:tensorflow:Assets written to: ConvAE\\ConvAE\\assets\n"
     ]
    },
    {
     "name": "stderr",
     "output_type": "stream",
     "text": [
      "INFO:tensorflow:Assets written to: ConvAE\\ConvAE\\assets\n"
     ]
    },
    {
     "name": "stdout",
     "output_type": "stream",
     "text": [
      "190/190 - 19s - loss: 0.0630 - mse: 0.0630 - val_loss: 0.0596 - val_mse: 0.0596 - 19s/epoch - 103ms/step\n",
      "Epoch 41/50\n",
      "INFO:tensorflow:Assets written to: ConvAE\\ConvAE\\assets\n"
     ]
    },
    {
     "name": "stderr",
     "output_type": "stream",
     "text": [
      "INFO:tensorflow:Assets written to: ConvAE\\ConvAE\\assets\n"
     ]
    },
    {
     "name": "stdout",
     "output_type": "stream",
     "text": [
      "190/190 - 19s - loss: 0.0629 - mse: 0.0629 - val_loss: 0.0596 - val_mse: 0.0596 - 19s/epoch - 99ms/step\n",
      "Epoch 42/50\n",
      "INFO:tensorflow:Assets written to: ConvAE\\ConvAE\\assets\n"
     ]
    },
    {
     "name": "stderr",
     "output_type": "stream",
     "text": [
      "INFO:tensorflow:Assets written to: ConvAE\\ConvAE\\assets\n"
     ]
    },
    {
     "name": "stdout",
     "output_type": "stream",
     "text": [
      "190/190 - 21s - loss: 0.0628 - mse: 0.0628 - val_loss: 0.0595 - val_mse: 0.0595 - 21s/epoch - 112ms/step\n",
      "Epoch 43/50\n",
      "INFO:tensorflow:Assets written to: ConvAE\\ConvAE\\assets\n"
     ]
    },
    {
     "name": "stderr",
     "output_type": "stream",
     "text": [
      "INFO:tensorflow:Assets written to: ConvAE\\ConvAE\\assets\n"
     ]
    },
    {
     "name": "stdout",
     "output_type": "stream",
     "text": [
      "190/190 - 21s - loss: 0.0627 - mse: 0.0627 - val_loss: 0.0594 - val_mse: 0.0594 - 21s/epoch - 111ms/step\n",
      "Epoch 44/50\n",
      "INFO:tensorflow:Assets written to: ConvAE\\ConvAE\\assets\n"
     ]
    },
    {
     "name": "stderr",
     "output_type": "stream",
     "text": [
      "INFO:tensorflow:Assets written to: ConvAE\\ConvAE\\assets\n"
     ]
    },
    {
     "name": "stdout",
     "output_type": "stream",
     "text": [
      "190/190 - 25s - loss: 0.0627 - mse: 0.0627 - val_loss: 0.0593 - val_mse: 0.0593 - 25s/epoch - 131ms/step\n",
      "Epoch 45/50\n",
      "INFO:tensorflow:Assets written to: ConvAE\\ConvAE\\assets\n"
     ]
    },
    {
     "name": "stderr",
     "output_type": "stream",
     "text": [
      "INFO:tensorflow:Assets written to: ConvAE\\ConvAE\\assets\n"
     ]
    },
    {
     "name": "stdout",
     "output_type": "stream",
     "text": [
      "190/190 - 18s - loss: 0.0626 - mse: 0.0626 - val_loss: 0.0593 - val_mse: 0.0593 - 18s/epoch - 95ms/step\n",
      "Epoch 46/50\n",
      "INFO:tensorflow:Assets written to: ConvAE\\ConvAE\\assets\n"
     ]
    },
    {
     "name": "stderr",
     "output_type": "stream",
     "text": [
      "INFO:tensorflow:Assets written to: ConvAE\\ConvAE\\assets\n"
     ]
    },
    {
     "name": "stdout",
     "output_type": "stream",
     "text": [
      "190/190 - 19s - loss: 0.0625 - mse: 0.0625 - val_loss: 0.0592 - val_mse: 0.0592 - 19s/epoch - 100ms/step\n",
      "Epoch 47/50\n",
      "INFO:tensorflow:Assets written to: ConvAE\\ConvAE\\assets\n"
     ]
    },
    {
     "name": "stderr",
     "output_type": "stream",
     "text": [
      "INFO:tensorflow:Assets written to: ConvAE\\ConvAE\\assets\n"
     ]
    },
    {
     "name": "stdout",
     "output_type": "stream",
     "text": [
      "190/190 - 18s - loss: 0.0624 - mse: 0.0624 - val_loss: 0.0591 - val_mse: 0.0591 - 18s/epoch - 96ms/step\n",
      "Epoch 48/50\n",
      "INFO:tensorflow:Assets written to: ConvAE\\ConvAE\\assets\n"
     ]
    },
    {
     "name": "stderr",
     "output_type": "stream",
     "text": [
      "INFO:tensorflow:Assets written to: ConvAE\\ConvAE\\assets\n"
     ]
    },
    {
     "name": "stdout",
     "output_type": "stream",
     "text": [
      "190/190 - 19s - loss: 0.0624 - mse: 0.0624 - val_loss: 0.0590 - val_mse: 0.0590 - 19s/epoch - 101ms/step\n",
      "Epoch 49/50\n",
      "INFO:tensorflow:Assets written to: ConvAE\\ConvAE\\assets\n"
     ]
    },
    {
     "name": "stderr",
     "output_type": "stream",
     "text": [
      "INFO:tensorflow:Assets written to: ConvAE\\ConvAE\\assets\n"
     ]
    },
    {
     "name": "stdout",
     "output_type": "stream",
     "text": [
      "190/190 - 21s - loss: 0.0623 - mse: 0.0623 - val_loss: 0.0590 - val_mse: 0.0590 - 21s/epoch - 110ms/step\n",
      "Epoch 50/50\n",
      "INFO:tensorflow:Assets written to: ConvAE\\ConvAE\\assets\n"
     ]
    },
    {
     "name": "stderr",
     "output_type": "stream",
     "text": [
      "INFO:tensorflow:Assets written to: ConvAE\\ConvAE\\assets\n"
     ]
    },
    {
     "name": "stdout",
     "output_type": "stream",
     "text": [
      "190/190 - 21s - loss: 0.0622 - mse: 0.0622 - val_loss: 0.0589 - val_mse: 0.0589 - 21s/epoch - 112ms/step\n"
     ]
    }
   ],
   "source": [
    "act= \"relu\"\n",
    "alphac = 0.0\n",
    "\n",
    "cencoder = tf.keras.Sequential([\n",
    "    tf.keras.layers.Input(shape=[80,80,4]),\n",
    "    tf.keras.layers.Conv2D(filters=32,kernel_size=(3,3),padding=\"same\", activation=act,\n",
    "                           kernel_regularizer=tf.keras.regularizers.l2(alphac)),\n",
    "    tf.keras.layers.MaxPooling2D((2,2),padding=\"same\"),\n",
    "    tf.keras.layers.Conv2D(filters=32,kernel_size=(3,3),activation=act,padding=\"same\",\n",
    "                          kernel_regularizer=tf.keras.regularizers.l2(alphac)),\n",
    "    tf.keras.layers.MaxPooling2D((2,2),padding=\"same\")])\n",
    "\n",
    "cdecoder = tf.keras.Sequential([\n",
    "    tf.keras.layers.Conv2DTranspose(filters=32,kernel_size=(3,3),strides=2,activation=act,padding=\"same\",\n",
    "                          kernel_regularizer=tf.keras.regularizers.l2(alphac)),\n",
    "     tf.keras.layers.Conv2DTranspose(filters=32,kernel_size=(3,3),strides=2,activation=act,padding=\"same\",\n",
    "                          kernel_regularizer=tf.keras.regularizers.l2(alphac)),\n",
    "    tf.keras.layers.Conv2D(4,kernel_size=(3,3),activation=\"sigmoid\",padding=\"same\")])\n",
    "\n",
    "cautoencoder = tf.keras.Sequential([cencoder,cdecoder])\n",
    "\n",
    "coptimizer = tf.keras.optimizers.SGD(learning_rate=0.1)\n",
    "checkpoint_cb = tf.keras.callbacks.ModelCheckpoint(r\"ConvAE/ConvAE\",monitor=\"val_mse\",save_best_only=True)\n",
    "cautoencoder.compile(loss=\"mean_squared_error\",optimizer=coptimizer,metrics=[\"mse\"])\n",
    "\n",
    "history = cautoencoder.fit(dataset.X,dataset.X,epochs=50,verbose=2,validation_split=0.1,callbacks=[checkpoint_cb])"
   ]
  },
  {
   "cell_type": "markdown",
   "id": "fd4d77d6-da8f-445d-a857-e8f1b73d735e",
   "metadata": {},
   "source": [
    "## Tests the output of the Convolutional Autoencoder"
   ]
  },
  {
   "cell_type": "code",
   "execution_count": 11,
   "id": "a4c0149d-4eda-44d6-9d0a-65fc84bfff57",
   "metadata": {},
   "outputs": [
    {
     "name": "stdout",
     "output_type": "stream",
     "text": [
      "(1, 80, 80, 4)\n",
      "1/1 [==============================] - 0s 84ms/step\n",
      "0.0 0.0 0.0 0.0\n",
      "0.017426232 0.033444587 0.046075426 0.044090662\n"
     ]
    }
   ],
   "source": [
    "m1=featurizer.featurize(\"[H]C1=CC([N+]([O-])=O)=CC([N+]([O-])=O)=C1/N=N/C2=CC([H])=C(C=C2[H])N(CC)CC\")\n",
    "print(m1.shape)\n",
    "recons = cautoencoder.predict(m1)\n",
    "print(m1[0,0,0,0],m1[0,0,0,1],m1[0,0,0,2],m1[0,0,0,3])\n",
    "print(recons[0,0,0,0],recons[0,0,0,1],recons[0,0,0,2],recons[0,0,0,3])"
   ]
  },
  {
   "cell_type": "markdown",
   "id": "f2a718f7-d9a1-4df2-bda2-b8c810428f2e",
   "metadata": {},
   "source": [
    "## Save Convolutional Autoencoder"
   ]
  },
  {
   "cell_type": "code",
   "execution_count": 15,
   "id": "7b7d6ca5-7484-4f78-a6c0-0f3ebd834859",
   "metadata": {},
   "outputs": [
    {
     "name": "stdout",
     "output_type": "stream",
     "text": [
      "INFO:tensorflow:Assets written to: 6731_WORKS_26FEB_150EPCS\\assets\n"
     ]
    },
    {
     "name": "stderr",
     "output_type": "stream",
     "text": [
      "INFO:tensorflow:Assets written to: 6731_WORKS_26FEB_150EPCS\\assets\n"
     ]
    },
    {
     "name": "stdout",
     "output_type": "stream",
     "text": [
      "model saved.\n"
     ]
    }
   ],
   "source": [
    "cautoencoder.save(\"6731_WORKS_26FEB_150EPCS\",save_format=\"tf\")\n",
    "print(\"model saved.\")"
   ]
  },
  {
   "cell_type": "markdown",
   "id": "96afa96f-6948-4c9a-add7-225ff943c148",
   "metadata": {},
   "source": [
    "## Load and restart training on the Convolutional Autoencoder"
   ]
  },
  {
   "cell_type": "code",
   "execution_count": 13,
   "id": "8c5f08b6-39cd-4671-a73f-fb30ac584c73",
   "metadata": {},
   "outputs": [
    {
     "name": "stdout",
     "output_type": "stream",
     "text": [
      "Epoch 51/150\n",
      "INFO:tensorflow:Assets written to: ConvAE\\ConvAE\\assets\n"
     ]
    },
    {
     "name": "stderr",
     "output_type": "stream",
     "text": [
      "INFO:tensorflow:Assets written to: ConvAE\\ConvAE\\assets\n"
     ]
    },
    {
     "name": "stdout",
     "output_type": "stream",
     "text": [
      "190/190 - 26s - loss: 0.0618 - mse: 0.0618 - val_loss: 0.0582 - val_mse: 0.0582 - 26s/epoch - 135ms/step\n",
      "Epoch 52/150\n",
      "INFO:tensorflow:Assets written to: ConvAE\\ConvAE\\assets\n"
     ]
    },
    {
     "name": "stderr",
     "output_type": "stream",
     "text": [
      "INFO:tensorflow:Assets written to: ConvAE\\ConvAE\\assets\n"
     ]
    },
    {
     "name": "stdout",
     "output_type": "stream",
     "text": [
      "190/190 - 16s - loss: 0.0610 - mse: 0.0610 - val_loss: 0.0574 - val_mse: 0.0574 - 16s/epoch - 87ms/step\n",
      "Epoch 53/150\n",
      "INFO:tensorflow:Assets written to: ConvAE\\ConvAE\\assets\n"
     ]
    },
    {
     "name": "stderr",
     "output_type": "stream",
     "text": [
      "INFO:tensorflow:Assets written to: ConvAE\\ConvAE\\assets\n"
     ]
    },
    {
     "name": "stdout",
     "output_type": "stream",
     "text": [
      "190/190 - 16s - loss: 0.0601 - mse: 0.0601 - val_loss: 0.0565 - val_mse: 0.0565 - 16s/epoch - 82ms/step\n",
      "Epoch 54/150\n",
      "INFO:tensorflow:Assets written to: ConvAE\\ConvAE\\assets\n"
     ]
    },
    {
     "name": "stderr",
     "output_type": "stream",
     "text": [
      "INFO:tensorflow:Assets written to: ConvAE\\ConvAE\\assets\n"
     ]
    },
    {
     "name": "stdout",
     "output_type": "stream",
     "text": [
      "190/190 - 14s - loss: 0.0592 - mse: 0.0592 - val_loss: 0.0556 - val_mse: 0.0556 - 14s/epoch - 75ms/step\n",
      "Epoch 55/150\n",
      "INFO:tensorflow:Assets written to: ConvAE\\ConvAE\\assets\n"
     ]
    },
    {
     "name": "stderr",
     "output_type": "stream",
     "text": [
      "INFO:tensorflow:Assets written to: ConvAE\\ConvAE\\assets\n"
     ]
    },
    {
     "name": "stdout",
     "output_type": "stream",
     "text": [
      "190/190 - 14s - loss: 0.0582 - mse: 0.0582 - val_loss: 0.0546 - val_mse: 0.0546 - 14s/epoch - 73ms/step\n",
      "Epoch 56/150\n",
      "INFO:tensorflow:Assets written to: ConvAE\\ConvAE\\assets\n"
     ]
    },
    {
     "name": "stderr",
     "output_type": "stream",
     "text": [
      "INFO:tensorflow:Assets written to: ConvAE\\ConvAE\\assets\n"
     ]
    },
    {
     "name": "stdout",
     "output_type": "stream",
     "text": [
      "190/190 - 13s - loss: 0.0570 - mse: 0.0570 - val_loss: 0.0535 - val_mse: 0.0535 - 13s/epoch - 70ms/step\n",
      "Epoch 57/150\n",
      "INFO:tensorflow:Assets written to: ConvAE\\ConvAE\\assets\n"
     ]
    },
    {
     "name": "stderr",
     "output_type": "stream",
     "text": [
      "INFO:tensorflow:Assets written to: ConvAE\\ConvAE\\assets\n"
     ]
    },
    {
     "name": "stdout",
     "output_type": "stream",
     "text": [
      "190/190 - 14s - loss: 0.0556 - mse: 0.0556 - val_loss: 0.0522 - val_mse: 0.0522 - 14s/epoch - 76ms/step\n",
      "Epoch 58/150\n",
      "INFO:tensorflow:Assets written to: ConvAE\\ConvAE\\assets\n"
     ]
    },
    {
     "name": "stderr",
     "output_type": "stream",
     "text": [
      "INFO:tensorflow:Assets written to: ConvAE\\ConvAE\\assets\n"
     ]
    },
    {
     "name": "stdout",
     "output_type": "stream",
     "text": [
      "190/190 - 16s - loss: 0.0543 - mse: 0.0543 - val_loss: 0.0511 - val_mse: 0.0511 - 16s/epoch - 85ms/step\n",
      "Epoch 59/150\n",
      "INFO:tensorflow:Assets written to: ConvAE\\ConvAE\\assets\n"
     ]
    },
    {
     "name": "stderr",
     "output_type": "stream",
     "text": [
      "INFO:tensorflow:Assets written to: ConvAE\\ConvAE\\assets\n"
     ]
    },
    {
     "name": "stdout",
     "output_type": "stream",
     "text": [
      "190/190 - 16s - loss: 0.0533 - mse: 0.0533 - val_loss: 0.0504 - val_mse: 0.0504 - 16s/epoch - 84ms/step\n",
      "Epoch 60/150\n",
      "INFO:tensorflow:Assets written to: ConvAE\\ConvAE\\assets\n"
     ]
    },
    {
     "name": "stderr",
     "output_type": "stream",
     "text": [
      "INFO:tensorflow:Assets written to: ConvAE\\ConvAE\\assets\n"
     ]
    },
    {
     "name": "stdout",
     "output_type": "stream",
     "text": [
      "190/190 - 16s - loss: 0.0527 - mse: 0.0527 - val_loss: 0.0499 - val_mse: 0.0499 - 16s/epoch - 85ms/step\n",
      "Epoch 61/150\n",
      "INFO:tensorflow:Assets written to: ConvAE\\ConvAE\\assets\n"
     ]
    },
    {
     "name": "stderr",
     "output_type": "stream",
     "text": [
      "INFO:tensorflow:Assets written to: ConvAE\\ConvAE\\assets\n"
     ]
    },
    {
     "name": "stdout",
     "output_type": "stream",
     "text": [
      "190/190 - 16s - loss: 0.0522 - mse: 0.0522 - val_loss: 0.0495 - val_mse: 0.0495 - 16s/epoch - 84ms/step\n",
      "Epoch 62/150\n",
      "INFO:tensorflow:Assets written to: ConvAE\\ConvAE\\assets\n"
     ]
    },
    {
     "name": "stderr",
     "output_type": "stream",
     "text": [
      "INFO:tensorflow:Assets written to: ConvAE\\ConvAE\\assets\n"
     ]
    },
    {
     "name": "stdout",
     "output_type": "stream",
     "text": [
      "190/190 - 24s - loss: 0.0518 - mse: 0.0518 - val_loss: 0.0493 - val_mse: 0.0493 - 24s/epoch - 127ms/step\n",
      "Epoch 63/150\n",
      "INFO:tensorflow:Assets written to: ConvAE\\ConvAE\\assets\n"
     ]
    },
    {
     "name": "stderr",
     "output_type": "stream",
     "text": [
      "INFO:tensorflow:Assets written to: ConvAE\\ConvAE\\assets\n"
     ]
    },
    {
     "name": "stdout",
     "output_type": "stream",
     "text": [
      "190/190 - 16s - loss: 0.0516 - mse: 0.0516 - val_loss: 0.0491 - val_mse: 0.0491 - 16s/epoch - 85ms/step\n",
      "Epoch 64/150\n",
      "INFO:tensorflow:Assets written to: ConvAE\\ConvAE\\assets\n"
     ]
    },
    {
     "name": "stderr",
     "output_type": "stream",
     "text": [
      "INFO:tensorflow:Assets written to: ConvAE\\ConvAE\\assets\n"
     ]
    },
    {
     "name": "stdout",
     "output_type": "stream",
     "text": [
      "190/190 - 17s - loss: 0.0513 - mse: 0.0513 - val_loss: 0.0489 - val_mse: 0.0489 - 17s/epoch - 89ms/step\n",
      "Epoch 65/150\n",
      "INFO:tensorflow:Assets written to: ConvAE\\ConvAE\\assets\n"
     ]
    },
    {
     "name": "stderr",
     "output_type": "stream",
     "text": [
      "INFO:tensorflow:Assets written to: ConvAE\\ConvAE\\assets\n"
     ]
    },
    {
     "name": "stdout",
     "output_type": "stream",
     "text": [
      "190/190 - 17s - loss: 0.0512 - mse: 0.0512 - val_loss: 0.0487 - val_mse: 0.0487 - 17s/epoch - 88ms/step\n",
      "Epoch 66/150\n",
      "INFO:tensorflow:Assets written to: ConvAE\\ConvAE\\assets\n"
     ]
    },
    {
     "name": "stderr",
     "output_type": "stream",
     "text": [
      "INFO:tensorflow:Assets written to: ConvAE\\ConvAE\\assets\n"
     ]
    },
    {
     "name": "stdout",
     "output_type": "stream",
     "text": [
      "190/190 - 16s - loss: 0.0510 - mse: 0.0510 - val_loss: 0.0486 - val_mse: 0.0486 - 16s/epoch - 86ms/step\n",
      "Epoch 67/150\n",
      "INFO:tensorflow:Assets written to: ConvAE\\ConvAE\\assets\n"
     ]
    },
    {
     "name": "stderr",
     "output_type": "stream",
     "text": [
      "INFO:tensorflow:Assets written to: ConvAE\\ConvAE\\assets\n"
     ]
    },
    {
     "name": "stdout",
     "output_type": "stream",
     "text": [
      "190/190 - 16s - loss: 0.0509 - mse: 0.0509 - val_loss: 0.0485 - val_mse: 0.0485 - 16s/epoch - 83ms/step\n",
      "Epoch 68/150\n",
      "INFO:tensorflow:Assets written to: ConvAE\\ConvAE\\assets\n"
     ]
    },
    {
     "name": "stderr",
     "output_type": "stream",
     "text": [
      "INFO:tensorflow:Assets written to: ConvAE\\ConvAE\\assets\n"
     ]
    },
    {
     "name": "stdout",
     "output_type": "stream",
     "text": [
      "190/190 - 16s - loss: 0.0507 - mse: 0.0507 - val_loss: 0.0484 - val_mse: 0.0484 - 16s/epoch - 82ms/step\n",
      "Epoch 69/150\n",
      "INFO:tensorflow:Assets written to: ConvAE\\ConvAE\\assets\n"
     ]
    },
    {
     "name": "stderr",
     "output_type": "stream",
     "text": [
      "INFO:tensorflow:Assets written to: ConvAE\\ConvAE\\assets\n"
     ]
    },
    {
     "name": "stdout",
     "output_type": "stream",
     "text": [
      "190/190 - 17s - loss: 0.0506 - mse: 0.0506 - val_loss: 0.0483 - val_mse: 0.0483 - 17s/epoch - 88ms/step\n",
      "Epoch 70/150\n",
      "INFO:tensorflow:Assets written to: ConvAE\\ConvAE\\assets\n"
     ]
    },
    {
     "name": "stderr",
     "output_type": "stream",
     "text": [
      "INFO:tensorflow:Assets written to: ConvAE\\ConvAE\\assets\n"
     ]
    },
    {
     "name": "stdout",
     "output_type": "stream",
     "text": [
      "190/190 - 15s - loss: 0.0505 - mse: 0.0505 - val_loss: 0.0482 - val_mse: 0.0482 - 15s/epoch - 81ms/step\n",
      "Epoch 71/150\n",
      "INFO:tensorflow:Assets written to: ConvAE\\ConvAE\\assets\n"
     ]
    },
    {
     "name": "stderr",
     "output_type": "stream",
     "text": [
      "INFO:tensorflow:Assets written to: ConvAE\\ConvAE\\assets\n"
     ]
    },
    {
     "name": "stdout",
     "output_type": "stream",
     "text": [
      "190/190 - 19s - loss: 0.0504 - mse: 0.0504 - val_loss: 0.0482 - val_mse: 0.0482 - 19s/epoch - 99ms/step\n",
      "Epoch 72/150\n",
      "INFO:tensorflow:Assets written to: ConvAE\\ConvAE\\assets\n"
     ]
    },
    {
     "name": "stderr",
     "output_type": "stream",
     "text": [
      "INFO:tensorflow:Assets written to: ConvAE\\ConvAE\\assets\n"
     ]
    },
    {
     "name": "stdout",
     "output_type": "stream",
     "text": [
      "190/190 - 25s - loss: 0.0503 - mse: 0.0503 - val_loss: 0.0481 - val_mse: 0.0481 - 25s/epoch - 132ms/step\n",
      "Epoch 73/150\n",
      "INFO:tensorflow:Assets written to: ConvAE\\ConvAE\\assets\n"
     ]
    },
    {
     "name": "stderr",
     "output_type": "stream",
     "text": [
      "INFO:tensorflow:Assets written to: ConvAE\\ConvAE\\assets\n"
     ]
    },
    {
     "name": "stdout",
     "output_type": "stream",
     "text": [
      "190/190 - 17s - loss: 0.0503 - mse: 0.0503 - val_loss: 0.0480 - val_mse: 0.0480 - 17s/epoch - 87ms/step\n",
      "Epoch 74/150\n",
      "INFO:tensorflow:Assets written to: ConvAE\\ConvAE\\assets\n"
     ]
    },
    {
     "name": "stderr",
     "output_type": "stream",
     "text": [
      "INFO:tensorflow:Assets written to: ConvAE\\ConvAE\\assets\n"
     ]
    },
    {
     "name": "stdout",
     "output_type": "stream",
     "text": [
      "190/190 - 19s - loss: 0.0502 - mse: 0.0502 - val_loss: 0.0480 - val_mse: 0.0480 - 19s/epoch - 98ms/step\n",
      "Epoch 75/150\n",
      "INFO:tensorflow:Assets written to: ConvAE\\ConvAE\\assets\n"
     ]
    },
    {
     "name": "stderr",
     "output_type": "stream",
     "text": [
      "INFO:tensorflow:Assets written to: ConvAE\\ConvAE\\assets\n"
     ]
    },
    {
     "name": "stdout",
     "output_type": "stream",
     "text": [
      "190/190 - 18s - loss: 0.0501 - mse: 0.0501 - val_loss: 0.0479 - val_mse: 0.0479 - 18s/epoch - 97ms/step\n",
      "Epoch 76/150\n",
      "INFO:tensorflow:Assets written to: ConvAE\\ConvAE\\assets\n"
     ]
    },
    {
     "name": "stderr",
     "output_type": "stream",
     "text": [
      "INFO:tensorflow:Assets written to: ConvAE\\ConvAE\\assets\n"
     ]
    },
    {
     "name": "stdout",
     "output_type": "stream",
     "text": [
      "190/190 - 21s - loss: 0.0501 - mse: 0.0501 - val_loss: 0.0479 - val_mse: 0.0479 - 21s/epoch - 109ms/step\n",
      "Epoch 77/150\n",
      "INFO:tensorflow:Assets written to: ConvAE\\ConvAE\\assets\n"
     ]
    },
    {
     "name": "stderr",
     "output_type": "stream",
     "text": [
      "INFO:tensorflow:Assets written to: ConvAE\\ConvAE\\assets\n"
     ]
    },
    {
     "name": "stdout",
     "output_type": "stream",
     "text": [
      "190/190 - 19s - loss: 0.0500 - mse: 0.0500 - val_loss: 0.0479 - val_mse: 0.0479 - 19s/epoch - 100ms/step\n",
      "Epoch 78/150\n",
      "INFO:tensorflow:Assets written to: ConvAE\\ConvAE\\assets\n"
     ]
    },
    {
     "name": "stderr",
     "output_type": "stream",
     "text": [
      "INFO:tensorflow:Assets written to: ConvAE\\ConvAE\\assets\n"
     ]
    },
    {
     "name": "stdout",
     "output_type": "stream",
     "text": [
      "190/190 - 17s - loss: 0.0500 - mse: 0.0500 - val_loss: 0.0478 - val_mse: 0.0478 - 17s/epoch - 92ms/step\n",
      "Epoch 79/150\n",
      "INFO:tensorflow:Assets written to: ConvAE\\ConvAE\\assets\n"
     ]
    },
    {
     "name": "stderr",
     "output_type": "stream",
     "text": [
      "INFO:tensorflow:Assets written to: ConvAE\\ConvAE\\assets\n"
     ]
    },
    {
     "name": "stdout",
     "output_type": "stream",
     "text": [
      "190/190 - 19s - loss: 0.0499 - mse: 0.0499 - val_loss: 0.0478 - val_mse: 0.0478 - 19s/epoch - 101ms/step\n",
      "Epoch 80/150\n",
      "INFO:tensorflow:Assets written to: ConvAE\\ConvAE\\assets\n"
     ]
    },
    {
     "name": "stderr",
     "output_type": "stream",
     "text": [
      "INFO:tensorflow:Assets written to: ConvAE\\ConvAE\\assets\n"
     ]
    },
    {
     "name": "stdout",
     "output_type": "stream",
     "text": [
      "190/190 - 18s - loss: 0.0499 - mse: 0.0499 - val_loss: 0.0477 - val_mse: 0.0477 - 18s/epoch - 92ms/step\n",
      "Epoch 81/150\n",
      "INFO:tensorflow:Assets written to: ConvAE\\ConvAE\\assets\n"
     ]
    },
    {
     "name": "stderr",
     "output_type": "stream",
     "text": [
      "INFO:tensorflow:Assets written to: ConvAE\\ConvAE\\assets\n"
     ]
    },
    {
     "name": "stdout",
     "output_type": "stream",
     "text": [
      "190/190 - 17s - loss: 0.0499 - mse: 0.0499 - val_loss: 0.0477 - val_mse: 0.0477 - 17s/epoch - 92ms/step\n",
      "Epoch 82/150\n",
      "INFO:tensorflow:Assets written to: ConvAE\\ConvAE\\assets\n"
     ]
    },
    {
     "name": "stderr",
     "output_type": "stream",
     "text": [
      "INFO:tensorflow:Assets written to: ConvAE\\ConvAE\\assets\n"
     ]
    },
    {
     "name": "stdout",
     "output_type": "stream",
     "text": [
      "190/190 - 17s - loss: 0.0498 - mse: 0.0498 - val_loss: 0.0477 - val_mse: 0.0477 - 17s/epoch - 91ms/step\n",
      "Epoch 83/150\n",
      "INFO:tensorflow:Assets written to: ConvAE\\ConvAE\\assets\n"
     ]
    },
    {
     "name": "stderr",
     "output_type": "stream",
     "text": [
      "INFO:tensorflow:Assets written to: ConvAE\\ConvAE\\assets\n"
     ]
    },
    {
     "name": "stdout",
     "output_type": "stream",
     "text": [
      "190/190 - 24s - loss: 0.0498 - mse: 0.0498 - val_loss: 0.0477 - val_mse: 0.0477 - 24s/epoch - 127ms/step\n",
      "Epoch 84/150\n",
      "INFO:tensorflow:Assets written to: ConvAE\\ConvAE\\assets\n"
     ]
    },
    {
     "name": "stderr",
     "output_type": "stream",
     "text": [
      "INFO:tensorflow:Assets written to: ConvAE\\ConvAE\\assets\n"
     ]
    },
    {
     "name": "stdout",
     "output_type": "stream",
     "text": [
      "190/190 - 20s - loss: 0.0497 - mse: 0.0497 - val_loss: 0.0476 - val_mse: 0.0476 - 20s/epoch - 105ms/step\n",
      "Epoch 85/150\n",
      "INFO:tensorflow:Assets written to: ConvAE\\ConvAE\\assets\n"
     ]
    },
    {
     "name": "stderr",
     "output_type": "stream",
     "text": [
      "INFO:tensorflow:Assets written to: ConvAE\\ConvAE\\assets\n"
     ]
    },
    {
     "name": "stdout",
     "output_type": "stream",
     "text": [
      "190/190 - 17s - loss: 0.0497 - mse: 0.0497 - val_loss: 0.0476 - val_mse: 0.0476 - 17s/epoch - 91ms/step\n",
      "Epoch 86/150\n",
      "INFO:tensorflow:Assets written to: ConvAE\\ConvAE\\assets\n"
     ]
    },
    {
     "name": "stderr",
     "output_type": "stream",
     "text": [
      "INFO:tensorflow:Assets written to: ConvAE\\ConvAE\\assets\n"
     ]
    },
    {
     "name": "stdout",
     "output_type": "stream",
     "text": [
      "190/190 - 16s - loss: 0.0497 - mse: 0.0497 - val_loss: 0.0476 - val_mse: 0.0476 - 16s/epoch - 87ms/step\n",
      "Epoch 87/150\n",
      "INFO:tensorflow:Assets written to: ConvAE\\ConvAE\\assets\n"
     ]
    },
    {
     "name": "stderr",
     "output_type": "stream",
     "text": [
      "INFO:tensorflow:Assets written to: ConvAE\\ConvAE\\assets\n"
     ]
    },
    {
     "name": "stdout",
     "output_type": "stream",
     "text": [
      "190/190 - 17s - loss: 0.0496 - mse: 0.0496 - val_loss: 0.0476 - val_mse: 0.0476 - 17s/epoch - 89ms/step\n",
      "Epoch 88/150\n",
      "INFO:tensorflow:Assets written to: ConvAE\\ConvAE\\assets\n"
     ]
    },
    {
     "name": "stderr",
     "output_type": "stream",
     "text": [
      "INFO:tensorflow:Assets written to: ConvAE\\ConvAE\\assets\n"
     ]
    },
    {
     "name": "stdout",
     "output_type": "stream",
     "text": [
      "190/190 - 17s - loss: 0.0496 - mse: 0.0496 - val_loss: 0.0475 - val_mse: 0.0475 - 17s/epoch - 88ms/step\n",
      "Epoch 89/150\n",
      "INFO:tensorflow:Assets written to: ConvAE\\ConvAE\\assets\n"
     ]
    },
    {
     "name": "stderr",
     "output_type": "stream",
     "text": [
      "INFO:tensorflow:Assets written to: ConvAE\\ConvAE\\assets\n"
     ]
    },
    {
     "name": "stdout",
     "output_type": "stream",
     "text": [
      "190/190 - 16s - loss: 0.0496 - mse: 0.0496 - val_loss: 0.0475 - val_mse: 0.0475 - 16s/epoch - 86ms/step\n",
      "Epoch 90/150\n",
      "INFO:tensorflow:Assets written to: ConvAE\\ConvAE\\assets\n"
     ]
    },
    {
     "name": "stderr",
     "output_type": "stream",
     "text": [
      "INFO:tensorflow:Assets written to: ConvAE\\ConvAE\\assets\n"
     ]
    },
    {
     "name": "stdout",
     "output_type": "stream",
     "text": [
      "190/190 - 16s - loss: 0.0496 - mse: 0.0496 - val_loss: 0.0475 - val_mse: 0.0475 - 16s/epoch - 84ms/step\n",
      "Epoch 91/150\n",
      "INFO:tensorflow:Assets written to: ConvAE\\ConvAE\\assets\n"
     ]
    },
    {
     "name": "stderr",
     "output_type": "stream",
     "text": [
      "INFO:tensorflow:Assets written to: ConvAE\\ConvAE\\assets\n"
     ]
    },
    {
     "name": "stdout",
     "output_type": "stream",
     "text": [
      "190/190 - 21s - loss: 0.0495 - mse: 0.0495 - val_loss: 0.0475 - val_mse: 0.0475 - 21s/epoch - 110ms/step\n",
      "Epoch 92/150\n",
      "INFO:tensorflow:Assets written to: ConvAE\\ConvAE\\assets\n"
     ]
    },
    {
     "name": "stderr",
     "output_type": "stream",
     "text": [
      "INFO:tensorflow:Assets written to: ConvAE\\ConvAE\\assets\n"
     ]
    },
    {
     "name": "stdout",
     "output_type": "stream",
     "text": [
      "190/190 - 29s - loss: 0.0495 - mse: 0.0495 - val_loss: 0.0474 - val_mse: 0.0474 - 29s/epoch - 155ms/step\n",
      "Epoch 93/150\n",
      "INFO:tensorflow:Assets written to: ConvAE\\ConvAE\\assets\n"
     ]
    },
    {
     "name": "stderr",
     "output_type": "stream",
     "text": [
      "INFO:tensorflow:Assets written to: ConvAE\\ConvAE\\assets\n"
     ]
    },
    {
     "name": "stdout",
     "output_type": "stream",
     "text": [
      "190/190 - 35s - loss: 0.0495 - mse: 0.0495 - val_loss: 0.0474 - val_mse: 0.0474 - 35s/epoch - 182ms/step\n",
      "Epoch 94/150\n",
      "INFO:tensorflow:Assets written to: ConvAE\\ConvAE\\assets\n"
     ]
    },
    {
     "name": "stderr",
     "output_type": "stream",
     "text": [
      "INFO:tensorflow:Assets written to: ConvAE\\ConvAE\\assets\n"
     ]
    },
    {
     "name": "stdout",
     "output_type": "stream",
     "text": [
      "190/190 - 31s - loss: 0.0495 - mse: 0.0495 - val_loss: 0.0474 - val_mse: 0.0474 - 31s/epoch - 161ms/step\n",
      "Epoch 95/150\n",
      "INFO:tensorflow:Assets written to: ConvAE\\ConvAE\\assets\n"
     ]
    },
    {
     "name": "stderr",
     "output_type": "stream",
     "text": [
      "INFO:tensorflow:Assets written to: ConvAE\\ConvAE\\assets\n"
     ]
    },
    {
     "name": "stdout",
     "output_type": "stream",
     "text": [
      "190/190 - 22s - loss: 0.0494 - mse: 0.0494 - val_loss: 0.0474 - val_mse: 0.0474 - 22s/epoch - 114ms/step\n",
      "Epoch 96/150\n",
      "INFO:tensorflow:Assets written to: ConvAE\\ConvAE\\assets\n"
     ]
    },
    {
     "name": "stderr",
     "output_type": "stream",
     "text": [
      "INFO:tensorflow:Assets written to: ConvAE\\ConvAE\\assets\n"
     ]
    },
    {
     "name": "stdout",
     "output_type": "stream",
     "text": [
      "190/190 - 29s - loss: 0.0494 - mse: 0.0494 - val_loss: 0.0474 - val_mse: 0.0474 - 29s/epoch - 154ms/step\n",
      "Epoch 97/150\n",
      "INFO:tensorflow:Assets written to: ConvAE\\ConvAE\\assets\n"
     ]
    },
    {
     "name": "stderr",
     "output_type": "stream",
     "text": [
      "INFO:tensorflow:Assets written to: ConvAE\\ConvAE\\assets\n"
     ]
    },
    {
     "name": "stdout",
     "output_type": "stream",
     "text": [
      "190/190 - 26s - loss: 0.0494 - mse: 0.0494 - val_loss: 0.0474 - val_mse: 0.0474 - 26s/epoch - 137ms/step\n",
      "Epoch 98/150\n",
      "INFO:tensorflow:Assets written to: ConvAE\\ConvAE\\assets\n"
     ]
    },
    {
     "name": "stderr",
     "output_type": "stream",
     "text": [
      "INFO:tensorflow:Assets written to: ConvAE\\ConvAE\\assets\n"
     ]
    },
    {
     "name": "stdout",
     "output_type": "stream",
     "text": [
      "190/190 - 24s - loss: 0.0494 - mse: 0.0494 - val_loss: 0.0473 - val_mse: 0.0473 - 24s/epoch - 126ms/step\n",
      "Epoch 99/150\n",
      "INFO:tensorflow:Assets written to: ConvAE\\ConvAE\\assets\n"
     ]
    },
    {
     "name": "stderr",
     "output_type": "stream",
     "text": [
      "INFO:tensorflow:Assets written to: ConvAE\\ConvAE\\assets\n"
     ]
    },
    {
     "name": "stdout",
     "output_type": "stream",
     "text": [
      "190/190 - 33s - loss: 0.0494 - mse: 0.0494 - val_loss: 0.0473 - val_mse: 0.0473 - 33s/epoch - 176ms/step\n",
      "Epoch 100/150\n",
      "INFO:tensorflow:Assets written to: ConvAE\\ConvAE\\assets\n"
     ]
    },
    {
     "name": "stderr",
     "output_type": "stream",
     "text": [
      "INFO:tensorflow:Assets written to: ConvAE\\ConvAE\\assets\n"
     ]
    },
    {
     "name": "stdout",
     "output_type": "stream",
     "text": [
      "190/190 - 22s - loss: 0.0493 - mse: 0.0493 - val_loss: 0.0473 - val_mse: 0.0473 - 22s/epoch - 118ms/step\n",
      "Epoch 101/150\n",
      "INFO:tensorflow:Assets written to: ConvAE\\ConvAE\\assets\n"
     ]
    },
    {
     "name": "stderr",
     "output_type": "stream",
     "text": [
      "INFO:tensorflow:Assets written to: ConvAE\\ConvAE\\assets\n"
     ]
    },
    {
     "name": "stdout",
     "output_type": "stream",
     "text": [
      "190/190 - 17s - loss: 0.0493 - mse: 0.0493 - val_loss: 0.0473 - val_mse: 0.0473 - 17s/epoch - 91ms/step\n",
      "Epoch 102/150\n",
      "INFO:tensorflow:Assets written to: ConvAE\\ConvAE\\assets\n"
     ]
    },
    {
     "name": "stderr",
     "output_type": "stream",
     "text": [
      "INFO:tensorflow:Assets written to: ConvAE\\ConvAE\\assets\n"
     ]
    },
    {
     "name": "stdout",
     "output_type": "stream",
     "text": [
      "190/190 - 16s - loss: 0.0493 - mse: 0.0493 - val_loss: 0.0473 - val_mse: 0.0473 - 16s/epoch - 85ms/step\n",
      "Epoch 103/150\n",
      "INFO:tensorflow:Assets written to: ConvAE\\ConvAE\\assets\n"
     ]
    },
    {
     "name": "stderr",
     "output_type": "stream",
     "text": [
      "INFO:tensorflow:Assets written to: ConvAE\\ConvAE\\assets\n"
     ]
    },
    {
     "name": "stdout",
     "output_type": "stream",
     "text": [
      "190/190 - 23s - loss: 0.0493 - mse: 0.0493 - val_loss: 0.0473 - val_mse: 0.0473 - 23s/epoch - 120ms/step\n",
      "Epoch 104/150\n",
      "INFO:tensorflow:Assets written to: ConvAE\\ConvAE\\assets\n"
     ]
    },
    {
     "name": "stderr",
     "output_type": "stream",
     "text": [
      "INFO:tensorflow:Assets written to: ConvAE\\ConvAE\\assets\n"
     ]
    },
    {
     "name": "stdout",
     "output_type": "stream",
     "text": [
      "190/190 - 30s - loss: 0.0493 - mse: 0.0493 - val_loss: 0.0473 - val_mse: 0.0473 - 30s/epoch - 158ms/step\n",
      "Epoch 105/150\n",
      "INFO:tensorflow:Assets written to: ConvAE\\ConvAE\\assets\n"
     ]
    },
    {
     "name": "stderr",
     "output_type": "stream",
     "text": [
      "INFO:tensorflow:Assets written to: ConvAE\\ConvAE\\assets\n"
     ]
    },
    {
     "name": "stdout",
     "output_type": "stream",
     "text": [
      "190/190 - 25s - loss: 0.0493 - mse: 0.0493 - val_loss: 0.0473 - val_mse: 0.0473 - 25s/epoch - 130ms/step\n",
      "Epoch 106/150\n",
      "INFO:tensorflow:Assets written to: ConvAE\\ConvAE\\assets\n"
     ]
    },
    {
     "name": "stderr",
     "output_type": "stream",
     "text": [
      "INFO:tensorflow:Assets written to: ConvAE\\ConvAE\\assets\n"
     ]
    },
    {
     "name": "stdout",
     "output_type": "stream",
     "text": [
      "190/190 - 21s - loss: 0.0493 - mse: 0.0493 - val_loss: 0.0472 - val_mse: 0.0472 - 21s/epoch - 113ms/step\n",
      "Epoch 107/150\n",
      "INFO:tensorflow:Assets written to: ConvAE\\ConvAE\\assets\n"
     ]
    },
    {
     "name": "stderr",
     "output_type": "stream",
     "text": [
      "INFO:tensorflow:Assets written to: ConvAE\\ConvAE\\assets\n"
     ]
    },
    {
     "name": "stdout",
     "output_type": "stream",
     "text": [
      "190/190 - 18s - loss: 0.0492 - mse: 0.0492 - val_loss: 0.0472 - val_mse: 0.0472 - 18s/epoch - 93ms/step\n",
      "Epoch 108/150\n",
      "INFO:tensorflow:Assets written to: ConvAE\\ConvAE\\assets\n"
     ]
    },
    {
     "name": "stderr",
     "output_type": "stream",
     "text": [
      "INFO:tensorflow:Assets written to: ConvAE\\ConvAE\\assets\n"
     ]
    },
    {
     "name": "stdout",
     "output_type": "stream",
     "text": [
      "190/190 - 26s - loss: 0.0492 - mse: 0.0492 - val_loss: 0.0472 - val_mse: 0.0472 - 26s/epoch - 137ms/step\n",
      "Epoch 109/150\n",
      "INFO:tensorflow:Assets written to: ConvAE\\ConvAE\\assets\n"
     ]
    },
    {
     "name": "stderr",
     "output_type": "stream",
     "text": [
      "INFO:tensorflow:Assets written to: ConvAE\\ConvAE\\assets\n"
     ]
    },
    {
     "name": "stdout",
     "output_type": "stream",
     "text": [
      "190/190 - 27s - loss: 0.0492 - mse: 0.0492 - val_loss: 0.0472 - val_mse: 0.0472 - 27s/epoch - 140ms/step\n",
      "Epoch 110/150\n",
      "INFO:tensorflow:Assets written to: ConvAE\\ConvAE\\assets\n"
     ]
    },
    {
     "name": "stderr",
     "output_type": "stream",
     "text": [
      "INFO:tensorflow:Assets written to: ConvAE\\ConvAE\\assets\n"
     ]
    },
    {
     "name": "stdout",
     "output_type": "stream",
     "text": [
      "190/190 - 27s - loss: 0.0492 - mse: 0.0492 - val_loss: 0.0472 - val_mse: 0.0472 - 27s/epoch - 140ms/step\n",
      "Epoch 111/150\n",
      "INFO:tensorflow:Assets written to: ConvAE\\ConvAE\\assets\n"
     ]
    },
    {
     "name": "stderr",
     "output_type": "stream",
     "text": [
      "INFO:tensorflow:Assets written to: ConvAE\\ConvAE\\assets\n"
     ]
    },
    {
     "name": "stdout",
     "output_type": "stream",
     "text": [
      "190/190 - 25s - loss: 0.0492 - mse: 0.0492 - val_loss: 0.0472 - val_mse: 0.0472 - 25s/epoch - 129ms/step\n",
      "Epoch 112/150\n",
      "INFO:tensorflow:Assets written to: ConvAE\\ConvAE\\assets\n"
     ]
    },
    {
     "name": "stderr",
     "output_type": "stream",
     "text": [
      "INFO:tensorflow:Assets written to: ConvAE\\ConvAE\\assets\n"
     ]
    },
    {
     "name": "stdout",
     "output_type": "stream",
     "text": [
      "190/190 - 32s - loss: 0.0492 - mse: 0.0492 - val_loss: 0.0472 - val_mse: 0.0472 - 32s/epoch - 166ms/step\n",
      "Epoch 113/150\n",
      "INFO:tensorflow:Assets written to: ConvAE\\ConvAE\\assets\n"
     ]
    },
    {
     "name": "stderr",
     "output_type": "stream",
     "text": [
      "INFO:tensorflow:Assets written to: ConvAE\\ConvAE\\assets\n"
     ]
    },
    {
     "name": "stdout",
     "output_type": "stream",
     "text": [
      "190/190 - 35s - loss: 0.0492 - mse: 0.0492 - val_loss: 0.0472 - val_mse: 0.0472 - 35s/epoch - 183ms/step\n",
      "Epoch 114/150\n",
      "INFO:tensorflow:Assets written to: ConvAE\\ConvAE\\assets\n"
     ]
    },
    {
     "name": "stderr",
     "output_type": "stream",
     "text": [
      "INFO:tensorflow:Assets written to: ConvAE\\ConvAE\\assets\n"
     ]
    },
    {
     "name": "stdout",
     "output_type": "stream",
     "text": [
      "190/190 - 23s - loss: 0.0492 - mse: 0.0492 - val_loss: 0.0472 - val_mse: 0.0472 - 23s/epoch - 122ms/step\n",
      "Epoch 115/150\n",
      "INFO:tensorflow:Assets written to: ConvAE\\ConvAE\\assets\n"
     ]
    },
    {
     "name": "stderr",
     "output_type": "stream",
     "text": [
      "INFO:tensorflow:Assets written to: ConvAE\\ConvAE\\assets\n"
     ]
    },
    {
     "name": "stdout",
     "output_type": "stream",
     "text": [
      "190/190 - 24s - loss: 0.0491 - mse: 0.0491 - val_loss: 0.0471 - val_mse: 0.0471 - 24s/epoch - 129ms/step\n",
      "Epoch 116/150\n",
      "INFO:tensorflow:Assets written to: ConvAE\\ConvAE\\assets\n"
     ]
    },
    {
     "name": "stderr",
     "output_type": "stream",
     "text": [
      "INFO:tensorflow:Assets written to: ConvAE\\ConvAE\\assets\n"
     ]
    },
    {
     "name": "stdout",
     "output_type": "stream",
     "text": [
      "190/190 - 22s - loss: 0.0491 - mse: 0.0491 - val_loss: 0.0471 - val_mse: 0.0471 - 22s/epoch - 118ms/step\n",
      "Epoch 117/150\n",
      "INFO:tensorflow:Assets written to: ConvAE\\ConvAE\\assets\n"
     ]
    },
    {
     "name": "stderr",
     "output_type": "stream",
     "text": [
      "INFO:tensorflow:Assets written to: ConvAE\\ConvAE\\assets\n"
     ]
    },
    {
     "name": "stdout",
     "output_type": "stream",
     "text": [
      "190/190 - 18s - loss: 0.0491 - mse: 0.0491 - val_loss: 0.0471 - val_mse: 0.0471 - 18s/epoch - 96ms/step\n",
      "Epoch 118/150\n",
      "INFO:tensorflow:Assets written to: ConvAE\\ConvAE\\assets\n"
     ]
    },
    {
     "name": "stderr",
     "output_type": "stream",
     "text": [
      "INFO:tensorflow:Assets written to: ConvAE\\ConvAE\\assets\n"
     ]
    },
    {
     "name": "stdout",
     "output_type": "stream",
     "text": [
      "190/190 - 22s - loss: 0.0491 - mse: 0.0491 - val_loss: 0.0471 - val_mse: 0.0471 - 22s/epoch - 117ms/step\n",
      "Epoch 119/150\n",
      "INFO:tensorflow:Assets written to: ConvAE\\ConvAE\\assets\n"
     ]
    },
    {
     "name": "stderr",
     "output_type": "stream",
     "text": [
      "INFO:tensorflow:Assets written to: ConvAE\\ConvAE\\assets\n"
     ]
    },
    {
     "name": "stdout",
     "output_type": "stream",
     "text": [
      "190/190 - 20s - loss: 0.0491 - mse: 0.0491 - val_loss: 0.0471 - val_mse: 0.0471 - 20s/epoch - 107ms/step\n",
      "Epoch 120/150\n",
      "INFO:tensorflow:Assets written to: ConvAE\\ConvAE\\assets\n"
     ]
    },
    {
     "name": "stderr",
     "output_type": "stream",
     "text": [
      "INFO:tensorflow:Assets written to: ConvAE\\ConvAE\\assets\n"
     ]
    },
    {
     "name": "stdout",
     "output_type": "stream",
     "text": [
      "190/190 - 17s - loss: 0.0491 - mse: 0.0491 - val_loss: 0.0471 - val_mse: 0.0471 - 17s/epoch - 89ms/step\n",
      "Epoch 121/150\n",
      "INFO:tensorflow:Assets written to: ConvAE\\ConvAE\\assets\n"
     ]
    },
    {
     "name": "stderr",
     "output_type": "stream",
     "text": [
      "INFO:tensorflow:Assets written to: ConvAE\\ConvAE\\assets\n"
     ]
    },
    {
     "name": "stdout",
     "output_type": "stream",
     "text": [
      "190/190 - 21s - loss: 0.0491 - mse: 0.0491 - val_loss: 0.0471 - val_mse: 0.0471 - 21s/epoch - 109ms/step\n",
      "Epoch 122/150\n",
      "INFO:tensorflow:Assets written to: ConvAE\\ConvAE\\assets\n"
     ]
    },
    {
     "name": "stderr",
     "output_type": "stream",
     "text": [
      "INFO:tensorflow:Assets written to: ConvAE\\ConvAE\\assets\n"
     ]
    },
    {
     "name": "stdout",
     "output_type": "stream",
     "text": [
      "190/190 - 25s - loss: 0.0491 - mse: 0.0491 - val_loss: 0.0471 - val_mse: 0.0471 - 25s/epoch - 133ms/step\n",
      "Epoch 123/150\n",
      "INFO:tensorflow:Assets written to: ConvAE\\ConvAE\\assets\n"
     ]
    },
    {
     "name": "stderr",
     "output_type": "stream",
     "text": [
      "INFO:tensorflow:Assets written to: ConvAE\\ConvAE\\assets\n"
     ]
    },
    {
     "name": "stdout",
     "output_type": "stream",
     "text": [
      "190/190 - 36s - loss: 0.0491 - mse: 0.0491 - val_loss: 0.0471 - val_mse: 0.0471 - 36s/epoch - 192ms/step\n",
      "Epoch 124/150\n",
      "INFO:tensorflow:Assets written to: ConvAE\\ConvAE\\assets\n"
     ]
    },
    {
     "name": "stderr",
     "output_type": "stream",
     "text": [
      "INFO:tensorflow:Assets written to: ConvAE\\ConvAE\\assets\n"
     ]
    },
    {
     "name": "stdout",
     "output_type": "stream",
     "text": [
      "190/190 - 33s - loss: 0.0490 - mse: 0.0490 - val_loss: 0.0471 - val_mse: 0.0471 - 33s/epoch - 171ms/step\n",
      "Epoch 125/150\n",
      "INFO:tensorflow:Assets written to: ConvAE\\ConvAE\\assets\n"
     ]
    },
    {
     "name": "stderr",
     "output_type": "stream",
     "text": [
      "INFO:tensorflow:Assets written to: ConvAE\\ConvAE\\assets\n"
     ]
    },
    {
     "name": "stdout",
     "output_type": "stream",
     "text": [
      "190/190 - 25s - loss: 0.0490 - mse: 0.0490 - val_loss: 0.0471 - val_mse: 0.0471 - 25s/epoch - 133ms/step\n",
      "Epoch 126/150\n",
      "INFO:tensorflow:Assets written to: ConvAE\\ConvAE\\assets\n"
     ]
    },
    {
     "name": "stderr",
     "output_type": "stream",
     "text": [
      "INFO:tensorflow:Assets written to: ConvAE\\ConvAE\\assets\n"
     ]
    },
    {
     "name": "stdout",
     "output_type": "stream",
     "text": [
      "190/190 - 20s - loss: 0.0490 - mse: 0.0490 - val_loss: 0.0471 - val_mse: 0.0471 - 20s/epoch - 104ms/step\n",
      "Epoch 127/150\n",
      "INFO:tensorflow:Assets written to: ConvAE\\ConvAE\\assets\n"
     ]
    },
    {
     "name": "stderr",
     "output_type": "stream",
     "text": [
      "INFO:tensorflow:Assets written to: ConvAE\\ConvAE\\assets\n"
     ]
    },
    {
     "name": "stdout",
     "output_type": "stream",
     "text": [
      "190/190 - 24s - loss: 0.0490 - mse: 0.0490 - val_loss: 0.0471 - val_mse: 0.0471 - 24s/epoch - 127ms/step\n",
      "Epoch 128/150\n",
      "INFO:tensorflow:Assets written to: ConvAE\\ConvAE\\assets\n"
     ]
    },
    {
     "name": "stderr",
     "output_type": "stream",
     "text": [
      "INFO:tensorflow:Assets written to: ConvAE\\ConvAE\\assets\n"
     ]
    },
    {
     "name": "stdout",
     "output_type": "stream",
     "text": [
      "190/190 - 23s - loss: 0.0490 - mse: 0.0490 - val_loss: 0.0470 - val_mse: 0.0470 - 23s/epoch - 123ms/step\n",
      "Epoch 129/150\n",
      "INFO:tensorflow:Assets written to: ConvAE\\ConvAE\\assets\n"
     ]
    },
    {
     "name": "stderr",
     "output_type": "stream",
     "text": [
      "INFO:tensorflow:Assets written to: ConvAE\\ConvAE\\assets\n"
     ]
    },
    {
     "name": "stdout",
     "output_type": "stream",
     "text": [
      "190/190 - 31s - loss: 0.0490 - mse: 0.0490 - val_loss: 0.0470 - val_mse: 0.0470 - 31s/epoch - 164ms/step\n",
      "Epoch 130/150\n",
      "INFO:tensorflow:Assets written to: ConvAE\\ConvAE\\assets\n"
     ]
    },
    {
     "name": "stderr",
     "output_type": "stream",
     "text": [
      "INFO:tensorflow:Assets written to: ConvAE\\ConvAE\\assets\n"
     ]
    },
    {
     "name": "stdout",
     "output_type": "stream",
     "text": [
      "190/190 - 24s - loss: 0.0490 - mse: 0.0490 - val_loss: 0.0470 - val_mse: 0.0470 - 24s/epoch - 126ms/step\n",
      "Epoch 131/150\n",
      "INFO:tensorflow:Assets written to: ConvAE\\ConvAE\\assets\n"
     ]
    },
    {
     "name": "stderr",
     "output_type": "stream",
     "text": [
      "INFO:tensorflow:Assets written to: ConvAE\\ConvAE\\assets\n"
     ]
    },
    {
     "name": "stdout",
     "output_type": "stream",
     "text": [
      "190/190 - 25s - loss: 0.0490 - mse: 0.0490 - val_loss: 0.0470 - val_mse: 0.0470 - 25s/epoch - 133ms/step\n",
      "Epoch 132/150\n",
      "INFO:tensorflow:Assets written to: ConvAE\\ConvAE\\assets\n"
     ]
    },
    {
     "name": "stderr",
     "output_type": "stream",
     "text": [
      "INFO:tensorflow:Assets written to: ConvAE\\ConvAE\\assets\n"
     ]
    },
    {
     "name": "stdout",
     "output_type": "stream",
     "text": [
      "190/190 - 21s - loss: 0.0490 - mse: 0.0490 - val_loss: 0.0470 - val_mse: 0.0470 - 21s/epoch - 110ms/step\n",
      "Epoch 133/150\n",
      "INFO:tensorflow:Assets written to: ConvAE\\ConvAE\\assets\n"
     ]
    },
    {
     "name": "stderr",
     "output_type": "stream",
     "text": [
      "INFO:tensorflow:Assets written to: ConvAE\\ConvAE\\assets\n"
     ]
    },
    {
     "name": "stdout",
     "output_type": "stream",
     "text": [
      "190/190 - 30s - loss: 0.0490 - mse: 0.0490 - val_loss: 0.0470 - val_mse: 0.0470 - 30s/epoch - 160ms/step\n",
      "Epoch 134/150\n",
      "INFO:tensorflow:Assets written to: ConvAE\\ConvAE\\assets\n"
     ]
    },
    {
     "name": "stderr",
     "output_type": "stream",
     "text": [
      "INFO:tensorflow:Assets written to: ConvAE\\ConvAE\\assets\n"
     ]
    },
    {
     "name": "stdout",
     "output_type": "stream",
     "text": [
      "190/190 - 31s - loss: 0.0490 - mse: 0.0490 - val_loss: 0.0470 - val_mse: 0.0470 - 31s/epoch - 161ms/step\n",
      "Epoch 135/150\n",
      "INFO:tensorflow:Assets written to: ConvAE\\ConvAE\\assets\n"
     ]
    },
    {
     "name": "stderr",
     "output_type": "stream",
     "text": [
      "INFO:tensorflow:Assets written to: ConvAE\\ConvAE\\assets\n"
     ]
    },
    {
     "name": "stdout",
     "output_type": "stream",
     "text": [
      "190/190 - 26s - loss: 0.0490 - mse: 0.0490 - val_loss: 0.0470 - val_mse: 0.0470 - 26s/epoch - 138ms/step\n",
      "Epoch 136/150\n",
      "INFO:tensorflow:Assets written to: ConvAE\\ConvAE\\assets\n"
     ]
    },
    {
     "name": "stderr",
     "output_type": "stream",
     "text": [
      "INFO:tensorflow:Assets written to: ConvAE\\ConvAE\\assets\n"
     ]
    },
    {
     "name": "stdout",
     "output_type": "stream",
     "text": [
      "190/190 - 30s - loss: 0.0489 - mse: 0.0489 - val_loss: 0.0470 - val_mse: 0.0470 - 30s/epoch - 157ms/step\n",
      "Epoch 137/150\n",
      "INFO:tensorflow:Assets written to: ConvAE\\ConvAE\\assets\n"
     ]
    },
    {
     "name": "stderr",
     "output_type": "stream",
     "text": [
      "INFO:tensorflow:Assets written to: ConvAE\\ConvAE\\assets\n"
     ]
    },
    {
     "name": "stdout",
     "output_type": "stream",
     "text": [
      "190/190 - 17s - loss: 0.0489 - mse: 0.0489 - val_loss: 0.0470 - val_mse: 0.0470 - 17s/epoch - 89ms/step\n",
      "Epoch 138/150\n",
      "INFO:tensorflow:Assets written to: ConvAE\\ConvAE\\assets\n"
     ]
    },
    {
     "name": "stderr",
     "output_type": "stream",
     "text": [
      "INFO:tensorflow:Assets written to: ConvAE\\ConvAE\\assets\n"
     ]
    },
    {
     "name": "stdout",
     "output_type": "stream",
     "text": [
      "190/190 - 15s - loss: 0.0489 - mse: 0.0489 - val_loss: 0.0470 - val_mse: 0.0470 - 15s/epoch - 80ms/step\n",
      "Epoch 139/150\n",
      "INFO:tensorflow:Assets written to: ConvAE\\ConvAE\\assets\n"
     ]
    },
    {
     "name": "stderr",
     "output_type": "stream",
     "text": [
      "INFO:tensorflow:Assets written to: ConvAE\\ConvAE\\assets\n"
     ]
    },
    {
     "name": "stdout",
     "output_type": "stream",
     "text": [
      "190/190 - 16s - loss: 0.0489 - mse: 0.0489 - val_loss: 0.0470 - val_mse: 0.0470 - 16s/epoch - 86ms/step\n",
      "Epoch 140/150\n",
      "INFO:tensorflow:Assets written to: ConvAE\\ConvAE\\assets\n"
     ]
    },
    {
     "name": "stderr",
     "output_type": "stream",
     "text": [
      "INFO:tensorflow:Assets written to: ConvAE\\ConvAE\\assets\n"
     ]
    },
    {
     "name": "stdout",
     "output_type": "stream",
     "text": [
      "190/190 - 21s - loss: 0.0489 - mse: 0.0489 - val_loss: 0.0470 - val_mse: 0.0470 - 21s/epoch - 111ms/step\n",
      "Epoch 141/150\n",
      "INFO:tensorflow:Assets written to: ConvAE\\ConvAE\\assets\n"
     ]
    },
    {
     "name": "stderr",
     "output_type": "stream",
     "text": [
      "INFO:tensorflow:Assets written to: ConvAE\\ConvAE\\assets\n"
     ]
    },
    {
     "name": "stdout",
     "output_type": "stream",
     "text": [
      "190/190 - 19s - loss: 0.0489 - mse: 0.0489 - val_loss: 0.0470 - val_mse: 0.0470 - 19s/epoch - 98ms/step\n",
      "Epoch 142/150\n",
      "INFO:tensorflow:Assets written to: ConvAE\\ConvAE\\assets\n"
     ]
    },
    {
     "name": "stderr",
     "output_type": "stream",
     "text": [
      "INFO:tensorflow:Assets written to: ConvAE\\ConvAE\\assets\n"
     ]
    },
    {
     "name": "stdout",
     "output_type": "stream",
     "text": [
      "190/190 - 17s - loss: 0.0489 - mse: 0.0489 - val_loss: 0.0470 - val_mse: 0.0470 - 17s/epoch - 92ms/step\n",
      "Epoch 143/150\n",
      "INFO:tensorflow:Assets written to: ConvAE\\ConvAE\\assets\n"
     ]
    },
    {
     "name": "stderr",
     "output_type": "stream",
     "text": [
      "INFO:tensorflow:Assets written to: ConvAE\\ConvAE\\assets\n"
     ]
    },
    {
     "name": "stdout",
     "output_type": "stream",
     "text": [
      "190/190 - 32s - loss: 0.0489 - mse: 0.0489 - val_loss: 0.0470 - val_mse: 0.0470 - 32s/epoch - 168ms/step\n",
      "Epoch 144/150\n",
      "INFO:tensorflow:Assets written to: ConvAE\\ConvAE\\assets\n"
     ]
    },
    {
     "name": "stderr",
     "output_type": "stream",
     "text": [
      "INFO:tensorflow:Assets written to: ConvAE\\ConvAE\\assets\n"
     ]
    },
    {
     "name": "stdout",
     "output_type": "stream",
     "text": [
      "190/190 - 26s - loss: 0.0489 - mse: 0.0489 - val_loss: 0.0469 - val_mse: 0.0469 - 26s/epoch - 139ms/step\n",
      "Epoch 145/150\n",
      "INFO:tensorflow:Assets written to: ConvAE\\ConvAE\\assets\n"
     ]
    },
    {
     "name": "stderr",
     "output_type": "stream",
     "text": [
      "INFO:tensorflow:Assets written to: ConvAE\\ConvAE\\assets\n"
     ]
    },
    {
     "name": "stdout",
     "output_type": "stream",
     "text": [
      "190/190 - 18s - loss: 0.0489 - mse: 0.0489 - val_loss: 0.0469 - val_mse: 0.0469 - 18s/epoch - 96ms/step\n",
      "Epoch 146/150\n",
      "INFO:tensorflow:Assets written to: ConvAE\\ConvAE\\assets\n"
     ]
    },
    {
     "name": "stderr",
     "output_type": "stream",
     "text": [
      "INFO:tensorflow:Assets written to: ConvAE\\ConvAE\\assets\n"
     ]
    },
    {
     "name": "stdout",
     "output_type": "stream",
     "text": [
      "190/190 - 17s - loss: 0.0489 - mse: 0.0489 - val_loss: 0.0469 - val_mse: 0.0469 - 17s/epoch - 88ms/step\n",
      "Epoch 147/150\n",
      "INFO:tensorflow:Assets written to: ConvAE\\ConvAE\\assets\n"
     ]
    },
    {
     "name": "stderr",
     "output_type": "stream",
     "text": [
      "INFO:tensorflow:Assets written to: ConvAE\\ConvAE\\assets\n"
     ]
    },
    {
     "name": "stdout",
     "output_type": "stream",
     "text": [
      "190/190 - 16s - loss: 0.0489 - mse: 0.0489 - val_loss: 0.0469 - val_mse: 0.0469 - 16s/epoch - 85ms/step\n",
      "Epoch 148/150\n",
      "INFO:tensorflow:Assets written to: ConvAE\\ConvAE\\assets\n"
     ]
    },
    {
     "name": "stderr",
     "output_type": "stream",
     "text": [
      "INFO:tensorflow:Assets written to: ConvAE\\ConvAE\\assets\n"
     ]
    },
    {
     "name": "stdout",
     "output_type": "stream",
     "text": [
      "190/190 - 17s - loss: 0.0489 - mse: 0.0489 - val_loss: 0.0469 - val_mse: 0.0469 - 17s/epoch - 87ms/step\n",
      "Epoch 149/150\n",
      "INFO:tensorflow:Assets written to: ConvAE\\ConvAE\\assets\n"
     ]
    },
    {
     "name": "stderr",
     "output_type": "stream",
     "text": [
      "INFO:tensorflow:Assets written to: ConvAE\\ConvAE\\assets\n"
     ]
    },
    {
     "name": "stdout",
     "output_type": "stream",
     "text": [
      "190/190 - 15s - loss: 0.0489 - mse: 0.0489 - val_loss: 0.0469 - val_mse: 0.0469 - 15s/epoch - 77ms/step\n",
      "Epoch 150/150\n",
      "INFO:tensorflow:Assets written to: ConvAE\\ConvAE\\assets\n"
     ]
    },
    {
     "name": "stderr",
     "output_type": "stream",
     "text": [
      "INFO:tensorflow:Assets written to: ConvAE\\ConvAE\\assets\n"
     ]
    },
    {
     "name": "stdout",
     "output_type": "stream",
     "text": [
      "190/190 - 15s - loss: 0.0489 - mse: 0.0489 - val_loss: 0.0469 - val_mse: 0.0469 - 15s/epoch - 78ms/step\n"
     ]
    }
   ],
   "source": [
    "cautoencoder = tf.keras.models.load_model(\"6731_WORKS_26FEB_50EPCS\")\n",
    "\n",
    "coptimizer = tf.keras.optimizers.SGD(learning_rate=0.1,momentum=0.9)\n",
    "cautoencoder.compile(loss=\"mean_squared_error\",optimizer=coptimizer,metrics=[\"mse\"])\n",
    "checkpoint_cb = tf.keras.callbacks.ModelCheckpoint(r\"ConvAE/ConvAE\",monitor=\"val_mse\",save_best_only=True)\n",
    "\n",
    "history = cautoencoder.fit(dataset.X,dataset.X,epochs=150,verbose=2,validation_split=0.1,initial_epoch=50,callbacks=[checkpoint_cb])"
   ]
  },
  {
   "cell_type": "markdown",
   "id": "a5e80d75-0a3a-4ddf-adc3-f8f1e94088c6",
   "metadata": {},
   "source": [
    "## Code for scaling images"
   ]
  },
  {
   "cell_type": "code",
   "execution_count": null,
   "id": "68654c36-66de-49fe-a5dc-b54b51b01c13",
   "metadata": {},
   "outputs": [],
   "source": [
    "#scaling for images\n",
    "biggest, smallest = 0.0, 6000.0\n",
    "tmp=np.empty(2)\n",
    "for i in range(4):\n",
    "    tmp[0] = newimages[i].max()\n",
    "    tmp[1] = oldimages[i].max()\n",
    "    tmps = tmp.max()\n",
    "    if tmps > biggest:\n",
    "        biggest = tmps\n",
    "    tmp[0] = newimages[i].min()\n",
    "    tmp[1] = oldimages[i].min()\n",
    "    tmps = tmp.min()\n",
    "    if tmps < smallest:\n",
    "        smallest = tmps\n",
    "scaled_newimages = ((newimages - smallest) * (1/(biggest-smallest)) * 255).astype('uint8')\n",
    "scaled_oldimages = ((oldimages - smallest) * (1/(biggest-smallest)) * 255).astype('uint8')"
   ]
  }
 ],
 "metadata": {
  "kernelspec": {
   "display_name": "Python 3 (ipykernel)",
   "language": "python",
   "name": "python3"
  },
  "language_info": {
   "codemirror_mode": {
    "name": "ipython",
    "version": 3
   },
   "file_extension": ".py",
   "mimetype": "text/x-python",
   "name": "python",
   "nbconvert_exporter": "python",
   "pygments_lexer": "ipython3",
   "version": "3.10.13"
  }
 },
 "nbformat": 4,
 "nbformat_minor": 5
}
