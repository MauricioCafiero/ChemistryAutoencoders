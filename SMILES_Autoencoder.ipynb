{
 "cells": [
  {
   "cell_type": "markdown",
   "id": "90a860f7-e171-4802-bc58-610d7a062c45",
   "metadata": {},
   "source": [
    "# SMILES string Autoencoder\n",
    "\n",
    "This Block\n",
    "- Tokenizes SMILES string input using a tokenizer from Deepchem (which inherits from Huggingface/Transformers)\n",
    "- Pads tokenized strings to max_length of the longest string\n",
    "- vocab list has been pre-trimmed to what is contained in the 6731 dataset; for a new dataset use a full vocab list"
   ]
  },
  {
   "cell_type": "code",
   "execution_count": 1,
   "id": "3a76e239-bd0e-4783-9c3e-7eb5ca48caa4",
   "metadata": {},
   "outputs": [
    {
     "name": "stdout",
     "output_type": "stream",
     "text": [
      "WARNING:tensorflow:From C:\\ProgramData\\Anaconda3\\envs\\rdkitenv\\lib\\site-packages\\keras\\src\\losses.py:2976: The name tf.losses.sparse_softmax_cross_entropy is deprecated. Please use tf.compat.v1.losses.sparse_softmax_cross_entropy instead.\n",
      "\n",
      "WARNING:tensorflow:From C:\\ProgramData\\Anaconda3\\envs\\rdkitenv\\lib\\site-packages\\tensorflow\\python\\util\\deprecation.py:588: calling function (from tensorflow.python.eager.polymorphic_function.polymorphic_function) with experimental_relax_shapes is deprecated and will be removed in a future version.\n",
      "Instructions for updating:\n",
      "experimental_relax_shapes is deprecated, use reduce_retracing instead\n"
     ]
    },
    {
     "name": "stderr",
     "output_type": "stream",
     "text": [
      "Skipped loading modules with pytorch-geometric dependency, missing a dependency. No module named 'torch_geometric'\n",
      "Skipped loading modules with pytorch-geometric dependency, missing a dependency. cannot import name 'DMPNN' from 'deepchem.models.torch_models' (C:\\ProgramData\\Anaconda3\\envs\\rdkitenv\\lib\\site-packages\\deepchem\\models\\torch_models\\__init__.py)\n",
      "Skipped loading some Jax models, missing a dependency. No module named 'jax'\n"
     ]
    },
    {
     "name": "stdout",
     "output_type": "stream",
     "text": [
      "105\n",
      "Number of features and datapoints:  (6731, 105)\n",
      "featurization done with:  SMILES Tokenizer\n"
     ]
    }
   ],
   "source": [
    "import tensorflow as tf\n",
    "import numpy as np\n",
    "import pandas as pd \n",
    "import deepchem as dc\n",
    "import time\n",
    "import mordred\n",
    "import transformers\n",
    "from rdkit import Chem\n",
    "import matplotlib.pyplot as plt\n",
    "from rdkit.Chem import AllChem, Draw\n",
    "from sklearn.model_selection import train_test_split\n",
    "from deepchem.feat.smiles_tokenizer import SmilesTokenizer\n",
    "\n",
    "#df = pd.read_csv(\"392-azo.csv\")\n",
    "#df = pd.read_csv(\"212-azo.csv\")\n",
    "#df = pd.read_csv(\"604-azo.csv\")\n",
    "#df = pd.read_csv(\"621-azo.csv\")\n",
    "df = pd.read_csv(\"6731-azo.csv\")\n",
    "\n",
    "Xa = [\"\"]*len(df)\n",
    "w = [\"\"]*len(df)\n",
    "i=0\n",
    "for name in df[\"SMILES\"]:\n",
    "    Xa[i]=name\n",
    "    w[i]=1.0\n",
    "    i += 1\n",
    "Xa = list(Xa)\n",
    "w=list(w)\n",
    "\n",
    "#===========================================================================================\n",
    "#featurize, padding to max_length\n",
    "\n",
    "tokenizer=dc.feat.SmilesTokenizer(vocab_file=\"vocab_new.txt\")\n",
    "featname=\"SMILES Tokenizer\"\n",
    "\n",
    "fl = list(map(lambda x: tokenizer.encode(x),Xa))\n",
    "biggest = 1\n",
    "for i in range(len(fl)):\n",
    "    temp = len(fl[i])\n",
    "    if temp > biggest:\n",
    "        biggest = temp\n",
    "\n",
    "print(biggest)\n",
    "max_length = biggest\n",
    "fl2 = list(map(lambda x: tokenizer.add_padding_tokens(x,max_length),fl))\n",
    "#print(fl2[:5])\n",
    "vocab_size=74\n",
    "\n",
    "f = np.array(fl2)\n",
    "print(\"Number of features and datapoints: \",f.shape)\n",
    "\n",
    "#===========================================================================================\n",
    "print(\"featurization done with: \",featname)\n",
    "\n",
    "# set npp for how many points in the dataset, len(df) for whole dataset\n",
    "nnp=len(df)\n",
    "\n",
    "#set y to X\n",
    "y = f\n",
    "\n",
    "#set dataset\n",
    "\n",
    "dataset = dc.data.NumpyDataset(X=f[:nnp,:], y=y[:nnp,:], ids=Xa[:nnp], w=w[:nnp])"
   ]
  },
  {
   "cell_type": "markdown",
   "id": "02bba94b-f090-4616-a5bd-dd843685511a",
   "metadata": {},
   "source": [
    "## Autoencoder Model\n",
    "- Encoder is one GRU layer with 128 NTLUs\n",
    "- Decoder is one GRU layer with 128 NTLUs, followed by a dense/softmax output layer "
   ]
  },
  {
   "cell_type": "code",
   "execution_count": 2,
   "id": "53776a66-81b7-47de-a716-739b647e456b",
   "metadata": {},
   "outputs": [
    {
     "name": "stdout",
     "output_type": "stream",
     "text": [
      "WARNING:tensorflow:From C:\\ProgramData\\Anaconda3\\envs\\rdkitenv\\lib\\site-packages\\keras\\src\\backend.py:873: The name tf.get_default_graph is deprecated. Please use tf.compat.v1.get_default_graph instead.\n",
      "\n",
      "Epoch 1/10\n",
      "WARNING:tensorflow:From C:\\ProgramData\\Anaconda3\\envs\\rdkitenv\\lib\\site-packages\\keras\\src\\utils\\tf_utils.py:492: The name tf.ragged.RaggedTensorValue is deprecated. Please use tf.compat.v1.ragged.RaggedTensorValue instead.\n",
      "\n",
      "WARNING:tensorflow:From C:\\ProgramData\\Anaconda3\\envs\\rdkitenv\\lib\\site-packages\\keras\\src\\engine\\base_layer_utils.py:384: The name tf.executing_eagerly_outside_functions is deprecated. Please use tf.compat.v1.executing_eagerly_outside_functions instead.\n",
      "\n",
      "INFO:tensorflow:Assets written to: SMILES_ED\\assets\n"
     ]
    },
    {
     "name": "stderr",
     "output_type": "stream",
     "text": [
      "INFO:tensorflow:Assets written to: SMILES_ED\\assets\n"
     ]
    },
    {
     "name": "stdout",
     "output_type": "stream",
     "text": [
      "190/190 - 46s - loss: 1.1893 - accuracy: 0.7049 - val_loss: 1.1194 - val_accuracy: 0.7114 - 46s/epoch - 240ms/step\n",
      "Epoch 2/10\n",
      "INFO:tensorflow:Assets written to: SMILES_ED\\assets\n"
     ]
    },
    {
     "name": "stderr",
     "output_type": "stream",
     "text": [
      "INFO:tensorflow:Assets written to: SMILES_ED\\assets\n"
     ]
    },
    {
     "name": "stdout",
     "output_type": "stream",
     "text": [
      "190/190 - 32s - loss: 0.2191 - accuracy: 0.9454 - val_loss: 0.4443 - val_accuracy: 0.9412 - 32s/epoch - 166ms/step\n",
      "Epoch 3/10\n",
      "INFO:tensorflow:Assets written to: SMILES_ED\\assets\n"
     ]
    },
    {
     "name": "stderr",
     "output_type": "stream",
     "text": [
      "INFO:tensorflow:Assets written to: SMILES_ED\\assets\n"
     ]
    },
    {
     "name": "stdout",
     "output_type": "stream",
     "text": [
      "190/190 - 32s - loss: 0.0430 - accuracy: 0.9919 - val_loss: 0.3780 - val_accuracy: 0.9654 - 32s/epoch - 170ms/step\n",
      "Epoch 4/10\n",
      "INFO:tensorflow:Assets written to: SMILES_ED\\assets\n"
     ]
    },
    {
     "name": "stderr",
     "output_type": "stream",
     "text": [
      "INFO:tensorflow:Assets written to: SMILES_ED\\assets\n"
     ]
    },
    {
     "name": "stdout",
     "output_type": "stream",
     "text": [
      "190/190 - 33s - loss: 0.0173 - accuracy: 0.9979 - val_loss: 0.3606 - val_accuracy: 0.9694 - 33s/epoch - 174ms/step\n",
      "Epoch 5/10\n",
      "INFO:tensorflow:Assets written to: SMILES_ED\\assets\n"
     ]
    },
    {
     "name": "stderr",
     "output_type": "stream",
     "text": [
      "INFO:tensorflow:Assets written to: SMILES_ED\\assets\n"
     ]
    },
    {
     "name": "stdout",
     "output_type": "stream",
     "text": [
      "190/190 - 34s - loss: 0.0095 - accuracy: 0.9990 - val_loss: 0.3629 - val_accuracy: 0.9700 - 34s/epoch - 178ms/step\n",
      "Epoch 6/10\n",
      "INFO:tensorflow:Assets written to: SMILES_ED\\assets\n"
     ]
    },
    {
     "name": "stderr",
     "output_type": "stream",
     "text": [
      "INFO:tensorflow:Assets written to: SMILES_ED\\assets\n"
     ]
    },
    {
     "name": "stdout",
     "output_type": "stream",
     "text": [
      "190/190 - 29s - loss: 0.0061 - accuracy: 0.9993 - val_loss: 0.3567 - val_accuracy: 0.9706 - 29s/epoch - 152ms/step\n",
      "Epoch 7/10\n",
      "INFO:tensorflow:Assets written to: SMILES_ED\\assets\n"
     ]
    },
    {
     "name": "stderr",
     "output_type": "stream",
     "text": [
      "INFO:tensorflow:Assets written to: SMILES_ED\\assets\n"
     ]
    },
    {
     "name": "stdout",
     "output_type": "stream",
     "text": [
      "190/190 - 31s - loss: 0.0042 - accuracy: 0.9994 - val_loss: 0.3573 - val_accuracy: 0.9724 - 31s/epoch - 165ms/step\n",
      "Epoch 8/10\n",
      "INFO:tensorflow:Assets written to: SMILES_ED\\assets\n"
     ]
    },
    {
     "name": "stderr",
     "output_type": "stream",
     "text": [
      "INFO:tensorflow:Assets written to: SMILES_ED\\assets\n"
     ]
    },
    {
     "name": "stdout",
     "output_type": "stream",
     "text": [
      "190/190 - 36s - loss: 0.0031 - accuracy: 0.9996 - val_loss: 0.3608 - val_accuracy: 0.9736 - 36s/epoch - 189ms/step\n",
      "Epoch 9/10\n",
      "INFO:tensorflow:Assets written to: SMILES_ED\\assets\n"
     ]
    },
    {
     "name": "stderr",
     "output_type": "stream",
     "text": [
      "INFO:tensorflow:Assets written to: SMILES_ED\\assets\n"
     ]
    },
    {
     "name": "stdout",
     "output_type": "stream",
     "text": [
      "190/190 - 31s - loss: 0.0023 - accuracy: 0.9997 - val_loss: 0.3593 - val_accuracy: 0.9743 - 31s/epoch - 162ms/step\n",
      "Epoch 10/10\n",
      "INFO:tensorflow:Assets written to: SMILES_ED\\assets\n"
     ]
    },
    {
     "name": "stderr",
     "output_type": "stream",
     "text": [
      "INFO:tensorflow:Assets written to: SMILES_ED\\assets\n"
     ]
    },
    {
     "name": "stdout",
     "output_type": "stream",
     "text": [
      "190/190 - 35s - loss: 0.0018 - accuracy: 0.9998 - val_loss: 0.3577 - val_accuracy: 0.9750 - 35s/epoch - 183ms/step\n"
     ]
    }
   ],
   "source": [
    "encoder = tf.keras.Sequential([\n",
    "    tf.keras.layers.Embedding(input_dim=vocab_size,output_dim=12),\n",
    "    tf.keras.layers.GRU(128,return_sequences=True)])\n",
    "\n",
    "decoder = tf.keras.Sequential([\n",
    "    tf.keras.layers.GRU(128,return_sequences=True),\n",
    "    tf.keras.layers.Dense(vocab_size,activation=\"softmax\")])\n",
    "\n",
    "encode_decode=tf.keras.Sequential([encoder,decoder])\n",
    "\n",
    "optimizer = tf.keras.optimizers.Nadam()\n",
    "encode_decode.compile(loss=\"sparse_categorical_crossentropy\",optimizer=optimizer, metrics=[\"accuracy\"])\n",
    "model_chkpt = tf.keras.callbacks.ModelCheckpoint(\"SMILES_ED\",monitor=\"val_accuracy\",save_best_only=True)\n",
    "\n",
    "history = encode_decode.fit(dataset.X,dataset.y,epochs=10,verbose=2,validation_split=0.1,callbacks=[model_chkpt])"
   ]
  },
  {
   "cell_type": "markdown",
   "id": "94b05b1a-154c-4ca8-bb29-46253cdbc890",
   "metadata": {},
   "source": [
    "## Saves a model"
   ]
  },
  {
   "cell_type": "code",
   "execution_count": 73,
   "id": "1196b5c8-1d72-4986-9e33-d0739ab4cce6",
   "metadata": {},
   "outputs": [
    {
     "name": "stdout",
     "output_type": "stream",
     "text": [
      "INFO:tensorflow:Assets written to: 28Feb_newvocab_embed12\\assets\n"
     ]
    },
    {
     "name": "stderr",
     "output_type": "stream",
     "text": [
      "INFO:tensorflow:Assets written to: 28Feb_newvocab_embed12\\assets\n"
     ]
    },
    {
     "name": "stdout",
     "output_type": "stream",
     "text": [
      "model saved.\n"
     ]
    }
   ],
   "source": [
    "encode_decode.save(\"28Feb_newvocab_embed12\",save_format=\"tf\")\n",
    "print(\"model saved.\")"
   ]
  },
  {
   "cell_type": "markdown",
   "id": "f814d99d-813a-4d92-872a-3e02186917d3",
   "metadata": {},
   "source": [
    "## Test model\n",
    "- Takes 2 strings that are not in the dataset and runs them through the model\n",
    "- Then takes the most probable token for each position\n",
    "- de-tokenizes this, converts it to a SMILES string, and then creates and displays a graph"
   ]
  },
  {
   "cell_type": "code",
   "execution_count": 5,
   "id": "9c7efe7f-b2a8-4643-a8c1-5216b69b6360",
   "metadata": {
    "scrolled": true
   },
   "outputs": [
    {
     "name": "stdout",
     "output_type": "stream",
     "text": [
      "1/1 [==============================] - 1s 828ms/step\n",
      "Input Molecule:         Oc1cc(cc(c1O)[N+]([O-])=O)C#N\n",
      "\n",
      "Reconstructed Molecule: Oc1cc(cc(c1O)[N+]([O-])=O)C#N\n",
      "\n"
     ]
    },
    {
     "data": {
      "image/png": "[encoded data removed]",
      "text/plain": [
       "<IPython.core.display.Image object>"
      ]
     },
     "execution_count": 5,
     "metadata": {},
     "output_type": "execute_result"
    }
   ],
   "source": [
    "encode_decode = tf.keras.models.load_model(\"28Feb_newvocab_embed12\")\n",
    "\n",
    "test_string=[\"\"]*2\n",
    "test_array = np.empty((2,1))\n",
    "test_xlist=[0]*2\n",
    "firstmol_list = [0]\n",
    "\n",
    "Xs=[\"\"]*2\n",
    "Xs[0] = \"Oc1cc(cc(c1O)[N+]([O-])=O)C#N\"\n",
    "Xs[1] = \"C(=O)C(C)=Cc1cc(O)c(O)c(c1)[N+]([O-])=O\"\n",
    "\n",
    "tl = list(map(lambda x: tokenizer.encode(x),Xs))\n",
    "tl2 = list(map(lambda x: tokenizer.add_padding_tokens(x,max_length),tl))\n",
    "testf = np.array(tl2)\n",
    "\n",
    "test_xlist[0] = testf[0]\n",
    "test_xlist[1] = testf[1]\n",
    "\n",
    "test_array = np.array(test_xlist)\n",
    "\n",
    "firstmol_list[0] = 1\n",
    "results = encode_decode.predict(test_array)\n",
    "\n",
    "for i in range(105):\n",
    "    proba = results[0,i,:]\n",
    "    first_pred = tf.argmax(proba)\n",
    "    firstmol_list.append(int(first_pred))\n",
    "\n",
    "firstmol_list.pop(0)\n",
    "firstmol_array = np.array(firstmol_list)\n",
    "\n",
    "new_molecule = tokenizer.decode(firstmol_list)\n",
    "\n",
    "nm1 = tokenizer.convert_tokens_to_string(new_molecule).replace(\" \",\"\")\n",
    "nm2 = nm1.replace(\"[CLS]\",\"\").replace(\"[SEP]\",\"\").replace(\"[PAD]\",\"\")\n",
    "\n",
    "print(f\"Input Molecule:         {Xs[0]}\") \n",
    "print(\"\")\n",
    "print(f\"Reconstructed Molecule: {nm2}\")\n",
    "print(\"\")\n",
    "mol1 = Chem.MolFromSmiles(Xs[0])\n",
    "mol2 = Chem.MolFromSmiles(nm2)\n",
    "\n",
    "mols = [mol1,mol2]\n",
    "legends = [\"Input Molecule\",\"Reconstructed Molecule\"]\n",
    "\n",
    "Draw.MolsToGridImage(mols=mols, legends=legends,molsPerRow=2,maxMols=500)"
   ]
  },
  {
   "cell_type": "code",
   "execution_count": null,
   "id": "7a3c5045-1668-4501-8bc0-88d1886c2063",
   "metadata": {},
   "outputs": [],
   "source": []
  }
 ],
 "metadata": {
  "kernelspec": {
   "display_name": "Python 3 (ipykernel)",
   "language": "python",
   "name": "python3"
  },
  "language_info": {
   "codemirror_mode": {
    "name": "ipython",
    "version": 3
   },
   "file_extension": ".py",
   "mimetype": "text/x-python",
   "name": "python",
   "nbconvert_exporter": "python",
   "pygments_lexer": "ipython3",
   "version": "3.10.13"
  }
 },
 "nbformat": 4,
 "nbformat_minor": 5
}
